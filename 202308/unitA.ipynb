{
 "cells": [
  {
   "cell_type": "markdown",
   "metadata": {},
   "source": [
    "# プロジェクト学習 夏季用"
   ]
  },
  {
   "cell_type": "markdown",
   "metadata": {},
   "source": [
    "これまでの講義で扱っていなかった小技について説明する資料となります。  \n",
    "説明する程の内容ではないためこの形になりました。\n",
    "目を通しておいていただけると助かります。\n",
    "<br>\n",
    "<br>\n",
    "※ パワーポイントはありません\n"
   ]
  },
  {
   "cell_type": "markdown",
   "metadata": {},
   "source": [
    "## 1. 実行"
   ]
  },
  {
   "cell_type": "markdown",
   "metadata": {},
   "source": [
    "### 1-1 実行"
   ]
  },
  {
   "cell_type": "code",
   "execution_count": null,
   "metadata": {},
   "outputs": [],
   "source": [
    "print(\"shift キー -> Enter キー の順で押してみてください(shiftキーは離さない)\")"
   ]
  },
  {
   "cell_type": "markdown",
   "metadata": {},
   "source": [
    "このセルをダブルクリックした後、`shift キー -> Enter キー` の順で押してみてください"
   ]
  },
  {
   "cell_type": "markdown",
   "metadata": {},
   "source": [
    "### 1-2 コメント化(コメントアウト)\n",
    "記述したコードをコメント化して動かなくする方法\n"
   ]
  },
  {
   "cell_type": "code",
   "execution_count": null,
   "metadata": {},
   "outputs": [],
   "source": [
    "# 1\n",
    "print(\"先頭に'#'を入力して実行してみてください\")\n",
    "\n",
    "# 2\n",
    "print(\"`ctrlキー -> '/'(スラッシュ)キー の順で押してみてください(ctrlキーは離さない)\")\n"
   ]
  },
  {
   "cell_type": "markdown",
   "metadata": {},
   "source": [
    "## 2. MarkDown"
   ]
  },
  {
   "cell_type": "markdown",
   "metadata": {},
   "source": [
    "文書を記述するための軽量マークアップ言語のひとつ\n",
    "- html を簡単に扱うことが出来るようにしたもの\n",
    "- `+テキスト` から追加可能 (コード用のセルを追加するボタンの横)\n",
    "\n",
    "編集方法\n",
    "- 対象のセルをダブルクリックすることで編集可能  \n",
    "- 実行することで動く  \n",
    "\n",
    "使えるもの\n",
    "- 数式を記述する `LaTeX形式`\n",
    "- html などで使われているタグ\n",
    "- \"\\\\\" を用いたエスケープシーケンス\n",
    "<br>\n",
    "<br>\n",
    "\n",
    "※ LaTeX(ラテック、ラテフ)記法\n",
    "LaTeXという、数式の処理に優れるTeX形式を基に、論文やレポートの作成を簡単にするために作られたものがある。  \n",
    "この内、数式を表現する記法のみが離れて使われている。  \n",
    "<br>\n",
    "Word や Google Document に数式を記述するときにも用いるため覚えていて損はない。\n"
   ]
  },
  {
   "cell_type": "markdown",
   "metadata": {},
   "source": [
    "一部例  \n",
    "ダブルクリックして確認してみてください\n",
    "\n",
    "1. 改行\n",
    "    - 半角スペース2個\n",
    "    - \\<br\\> <!-- ※\\ は不要 -->\n",
    "\n",
    "2. 見出し\n",
    "    - 冒頭に\"#\"を付ける\n",
    "    - 数が増えるごとに小さくなっていく\n",
    "    - colabratory の目次の階層はこの見出しの大きさに対応している\n",
    "\n",
    "3. 文字装飾\n",
    "    - **強調1(イタリック)**\n",
    "    - **強調2(ボールド)**\n",
    "    - `コードブロック(インライン表示)`\n",
    "    - *斜体*\n",
    "    - ~~打消し線~~\n",
    "    - <font color=\"#679694\">色</font>\n",
    "\n",
    "4. コメント\n",
    "    - コメント <!-- このコメントは見えなくなります -->\n",
    "\n",
    "\n",
    "5. 数式、コード\n",
    "    - 数式 $y = x_{1} + c^{2+9} + \\frac{\\lambda}{4} - \\alpha \\times 5$\n",
    "    - プログラム\n",
    "    ```python\n",
    "    a = int(input())\n",
    "\n",
    "    if a <= 0:\n",
    "        print(\"負の数です\")\n",
    "    elif a == 0:\n",
    "        print(\"0です\")\n",
    "    else:\n",
    "        print(\"正の数です\")\n",
    "    ```\n",
    "\n",
    "6. 画像・リンク\n",
    "    - [Google 検索 (ctrlを押しながらクリックで開く)](https://www.google.com/)\n",
    "    - > 引用\n"
   ]
  },
  {
   "cell_type": "markdown",
   "metadata": {},
   "source": [
    "## 3. キーボードショートカット"
   ]
  },
  {
   "cell_type": "markdown",
   "metadata": {},
   "source": [
    "一部の操作を素早く行うためのショートカット  \n",
    "使って覚えてください\n",
    "<br>\n",
    "\n",
    "操作方法\n",
    "- ctrl + A => ctrl キー と A キーの順で押す\n",
    "- ctrl + M Y => ctrlキーを推しながら Mキー -> Yキー の順で押す\n",
    "\n",
    "<br>\n",
    "<br>\n",
    "\n",
    "\n",
    "**PC操作 でよく使う例**   \n",
    "Chromebook でキーボード ショートカットを表示する方法\n",
    "1. 右下の時刻を選択します。\n",
    "2. [設定] を選択します。\n",
    "3. スクロールして [キーボード] を選択します。\n",
    "4. [キーボード ショートカットを表示] を選択します。\n",
    "\n",
    "※ 以下の例は google ドキュメント(Document, SpreadSheets, slide), Microsoft Office(Word, Excel, PowerPoint etc) 等ほとんどのアプリで共通  \n",
    "\n",
    "|キー|操作|\n",
    "|-|-|\n",
    "|ctrl + S|保存|\n",
    "|ctrl + A|全選択|\n",
    "|ctrl + C|コピー|\n",
    "|ctrl + X|カット|\n",
    "|ctrl + V|ペースト|\n",
    "|ctrl + Z|前の操作を元に戻す|\n",
    "|ctrl + F|単語検索|\n",
    "|shift + ctrl + 矢印キー|次の単語または文字を選択する|\n",
    "|ダブルクリック|単語選択|\n",
    "\n",
    "\n",
    "<br>\n",
    "\n",
    "**Colabratry でよく使う例**\n",
    "ツール -> キーボードショートカット(ctrl + M H)で確認可能\n",
    "\n",
    "|キー|操作|\n",
    "|-|-|\n",
    "|shift + Enter|セルの実行|\n",
    "|ctrl + /|コメントアウト|\n",
    "|ctrl + D|複数選択|\n",
    "|ctrl + M M|テキストセルに変換|\n",
    "|ctrl + M Y|コードセルに変換|\n",
    "|ctrl + M B|下にコードセルを挿入|\n"
   ]
  },
  {
   "cell_type": "markdown",
   "metadata": {},
   "source": [
    "## 4. 変数の更新"
   ]
  },
  {
   "cell_type": "markdown",
   "metadata": {},
   "source": [
    "一度定義した変数に再度変数を代入することが多々ある  \n",
    "- その際に用いる書き方が以下の例  \n",
    "- 第一回で登場した算術演算子のすべてで可能  \n",
    "<br>\n",
    "\n",
    "```python\n",
    "# a に 1 を足す\n",
    "a += 1\n",
    "```\n"
   ]
  },
  {
   "cell_type": "code",
   "execution_count": null,
   "metadata": {},
   "outputs": [],
   "source": [
    "a1 = 2\n",
    "a1 = a1 + 3 # a1 に 3 を足したものを a1 に代入する\n",
    "print(a1)\n"
   ]
  },
  {
   "cell_type": "code",
   "execution_count": null,
   "metadata": {},
   "outputs": [],
   "source": [
    "a2 = 2\n",
    "a2 += 3 # a2 に 3 を足す\n",
    "print(a2)\n"
   ]
  },
  {
   "cell_type": "markdown",
   "metadata": {},
   "source": [
    "## 5. 文字列"
   ]
  },
  {
   "cell_type": "markdown",
   "metadata": {},
   "source": [
    "### 5-1 文字列の長さ\n",
    "`len()`を用いることでその文字列の長さを求めることができる\n",
    "- 空文字列は0文字, 半角空白は1文字でカウントされる\n",
    "\n",
    "```python\n",
    "moji = \"abc\"\n",
    "print(len(moji))\n",
    "\n",
    "```"
   ]
  },
  {
   "cell_type": "code",
   "execution_count": null,
   "metadata": {},
   "outputs": [],
   "source": [
    "moji = \"ab c\"\n",
    "print(\"文字列の長さ : \", len(moji))\n"
   ]
  },
  {
   "cell_type": "markdown",
   "metadata": {},
   "source": [
    "### 5-2 文字列の切り取り(スライス)\n",
    "文字列ではインデックスを指定することで指定した位置の文字を取得することができる\n",
    "- インデックスは0文字目から始まる  \n",
    "\n",
    "<br>\n",
    "\n",
    "インデックスの数え方\n",
    "|インデックス|0|1|2|3|4|\n",
    "|-|-|-|-|-|-|\n",
    "|文字列|a|p|p|l|e|\n",
    "\n",
    "<br>\n",
    "<br>\n",
    "\n",
    "```python\n",
    "# idx番目(前からidx+1文字目)の文字の取得\n",
    "strings[idx]\n",
    "\n",
    "# start番目からend-1番目までの文字列の切り取り\n",
    "strings[start: end]\n",
    "\n",
    "```"
   ]
  },
  {
   "cell_type": "code",
   "execution_count": null,
   "metadata": {},
   "outputs": [],
   "source": [
    "moji = \"abcdefghijklmnopqrstuvwxyz\"\n",
    "\n",
    "# インデックスが3 (前から4文字目) の取得\n",
    "print(\"指定した番号の文字 : \", moji[4])\n",
    "\n",
    "# インデックスが2から8 (3文字目から8文字目) の取得\n",
    "print(\"文字列の切り取り : \", moji[2:8])\n"
   ]
  },
  {
   "cell_type": "markdown",
   "metadata": {},
   "source": [
    "```python\n",
    "# idx番目(前からidx+1文字目)の文字の取得\n",
    "strings[idx]\n",
    "```\n",
    "\n",
    "指定するインデックスの値(idx) が\n",
    "1. 正の数の場合\n",
    "    - 前からidx+1文字目の文字の取得\n",
    "\n",
    "2. 負の数の場合\n",
    "    - 後ろからidx文字目の文字の取得\n"
   ]
  },
  {
   "cell_type": "code",
   "execution_count": null,
   "metadata": {},
   "outputs": [],
   "source": [
    "moji = \"hello\"\n",
    "\n",
    "# 前から1+1文字目\n",
    "print(\"インデックス1 の文字 : \", moji[1])\n",
    "\n",
    "# 後ろから1文字目\n",
    "print(\"インデックス-1 の文字 : \", moji[-1])\n"
   ]
  },
  {
   "cell_type": "markdown",
   "metadata": {},
   "source": [
    "```python\n",
    "# start番目からend番目までの文字列の切り取り\n",
    "strings[start: end]\n",
    "```\n",
    "\n",
    "上記コードにおいて、\n",
    "1. start を省略すると0(先頭の文字)が指定されたことになる\n",
    "2. end を省略すると、最後の文字(len(moji)-1)が指定されたことになる\n"
   ]
  },
  {
   "cell_type": "code",
   "execution_count": null,
   "metadata": {},
   "outputs": [],
   "source": [
    "# start を省略\n",
    "print(\"start を省略した場合 : \", moji[:9])\n",
    "\n",
    "# end を省略\n",
    "print(\"end を省略した場合 : \", moji[14:])\n"
   ]
  },
  {
   "cell_type": "markdown",
   "metadata": {},
   "source": [
    "_fin_"
   ]
  }
 ],
 "metadata": {
  "kernelspec": {
   "display_name": "py_analyze",
   "language": "python",
   "name": "python3"
  },
  "language_info": {
   "codemirror_mode": {
    "name": "ipython",
    "version": 3
   },
   "file_extension": ".py",
   "mimetype": "text/x-python",
   "name": "python",
   "nbconvert_exporter": "python",
   "pygments_lexer": "ipython3",
   "version": "3.10.7"
  },
  "orig_nbformat": 4
 },
 "nbformat": 4,
 "nbformat_minor": 2
}
