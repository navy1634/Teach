{
 "cells": [
  {
   "attachments": {},
   "cell_type": "markdown",
   "metadata": {},
   "source": [
    "# 練習用問題集\n"
   ]
  },
  {
   "cell_type": "markdown",
   "metadata": {},
   "source": [
    "※  \n",
    "注1  \n",
    "同時に配布したunitA も参考にしてください  \n",
    "unitA の内容を使わなくても解けるようにはなっていますが、別解として使うパターンもあります。\n",
    "  \n",
    "注2   \n",
    "ヒントA-2 : ヒント1のヒント2つめ  \n",
    "ヒントA : 手法1のヒント, ヒントB : 手法2のヒント\n",
    "となっています"
   ]
  },
  {
   "attachments": {},
   "cell_type": "markdown",
   "metadata": {},
   "source": [
    "## Lv.1"
   ]
  },
  {
   "attachments": {},
   "cell_type": "markdown",
   "metadata": {},
   "source": [
    "### Q1-1\n",
    "以下の式をプログラムで計算して，その結果を出力する\n",
    "\n",
    "$$\n",
    "    4 \\times \\frac{10 - 3}{4 \\div 7}\n",
    "$$"
   ]
  },
  {
   "cell_type": "code",
   "execution_count": null,
   "metadata": {},
   "outputs": [],
   "source": [
    "# 回答欄\n",
    "\n",
    "### ここから\n",
    "\n",
    "\n",
    "### ここまで\n"
   ]
  },
  {
   "attachments": {},
   "cell_type": "markdown",
   "metadata": {},
   "source": [
    "### Q1-2\n",
    "\n",
    "$x = 9$ のとき、\n",
    "$$\n",
    "a = 3x^2 + 7x + 9 \\\\\n",
    "b = 9x + 1 \\\\\n",
    "c = a^2 + 2b \\\\\n",
    "$$\n",
    "を計算し、その結果をそれぞれ出力する\n"
   ]
  },
  {
   "cell_type": "code",
   "execution_count": null,
   "metadata": {},
   "outputs": [],
   "source": [
    "# 回答欄\n",
    "\n",
    "### ここから\n",
    "\n",
    "\n",
    "### ここまで\n",
    "print(\"a : \", a)\n",
    "print(\"b : \", b)\n",
    "print(\"c : \", c)\n"
   ]
  },
  {
   "attachments": {},
   "cell_type": "markdown",
   "metadata": {},
   "source": [
    "### Q1-3\n",
    "文字列の入力を受け取り、そのまま出力する\n"
   ]
  },
  {
   "cell_type": "code",
   "execution_count": null,
   "metadata": {},
   "outputs": [],
   "source": [
    "# 回答欄\n",
    "\n",
    "### ここから\n",
    "\n",
    "\n",
    "### ここまで\n"
   ]
  },
  {
   "attachments": {},
   "cell_type": "markdown",
   "metadata": {},
   "source": [
    "### Q1-4\n",
    "文字列 `wow` と `apple` を それぞれ 10 個ずつ繋げて出力する\n",
    "\n",
    "|入力|出力|\n",
    "|-|:---|\n",
    "||wowwowwowwowwowwowwowwowwowwow|\n",
    "||appleappleappleappleappleappleappleappleappleapple|"
   ]
  },
  {
   "cell_type": "code",
   "execution_count": null,
   "metadata": {},
   "outputs": [],
   "source": [
    "# 回答欄\n",
    "\n",
    "### ここから\n",
    "\n",
    "\n",
    "### ここまで\n"
   ]
  },
  {
   "attachments": {},
   "cell_type": "markdown",
   "metadata": {},
   "source": [
    "### Q1-5\n",
    "整数 $n$ を入力して， $n$ を $4$ 乗した値を以下のように出力する<br><br>\n",
    "\n",
    "\n",
    "|入力 $ n $ |出力|\n",
    "|:-:|:-:|\n",
    "|2|16($2^4$)|\n",
    "|3|81($3^4$)|\n",
    "|4|256($4^4$)|\n"
   ]
  },
  {
   "cell_type": "code",
   "execution_count": null,
   "metadata": {},
   "outputs": [],
   "source": [
    "# 回答欄\n",
    "\n",
    "### ここから\n",
    "\n",
    "\n",
    "### ここまで\n"
   ]
  },
  {
   "attachments": {},
   "cell_type": "markdown",
   "metadata": {},
   "source": [
    "### Q1-6\n",
    "整数 $ n $ を入力し、$n$ が10 以上なら `True`を、そうでなければ `False` を出力する\n",
    "\n",
    "|入力|出力|\n",
    "|:-:|:-:|\n",
    "|9|False|\n",
    "|10|True|\n",
    "|15|True|\n"
   ]
  },
  {
   "cell_type": "code",
   "execution_count": null,
   "metadata": {},
   "outputs": [],
   "source": [
    "# 回答欄\n",
    "\n",
    "n = int(input())\n",
    "\n",
    "### ここから\n",
    "\n",
    "    \n",
    "### ここまで\n"
   ]
  },
  {
   "attachments": {},
   "cell_type": "markdown",
   "metadata": {},
   "source": [
    "### Q1-7\n",
    "正の整数 $ n $を入力し、$n$ が57以上のときだけ `Up` と出力する\n",
    "  \n",
    "|入力 $ n $|出力|\n",
    "|:-:|:--|\n",
    "|1||\n",
    "|49||\n",
    "|100|Up|\n",
    "|150|Up|"
   ]
  },
  {
   "cell_type": "code",
   "execution_count": null,
   "metadata": {},
   "outputs": [],
   "source": [
    "# 回答欄\n",
    "\n",
    "### ここから\n",
    "\n",
    "\n",
    "### ここまで\n"
   ]
  },
  {
   "cell_type": "markdown",
   "metadata": {},
   "source": [
    "## Lv.2"
   ]
  },
  {
   "attachments": {},
   "cell_type": "markdown",
   "metadata": {},
   "source": [
    "### Q2-1\n",
    "正の整数 $ n $ を入力して， $ n $ の1桁目の値だけを出力する\n",
    "\n",
    "|入力 $ n $ |出力|\n",
    "|-|-|\n",
    "|5|5|\n",
    "|14|4|\n",
    "|111|1|\n",
    "|1000|0|"
   ]
  },
  {
   "cell_type": "code",
   "execution_count": null,
   "metadata": {},
   "outputs": [],
   "source": [
    "# 回答欄\n",
    "\n",
    "### ここから\n",
    "\n",
    "\n",
    "### ここまで\n"
   ]
  },
  {
   "cell_type": "markdown",
   "metadata": {},
   "source": [
    "ダブルクリックしてヒントA-1を表示\n",
    "<!--\n",
    "- unit01 を確認してみよう\n",
    "-->"
   ]
  },
  {
   "cell_type": "markdown",
   "metadata": {},
   "source": [
    "ダブルクリックしてヒントA-2を表示\n",
    "<!--\n",
    "- 余りを用いて一の位のみを取得してみよう\n",
    "-->"
   ]
  },
  {
   "cell_type": "markdown",
   "metadata": {},
   "source": [
    "ダブルクリックしてヒントBを表示\n",
    "<!--\n",
    "- unitA 5-2 を確認してみよう\n",
    "-->"
   ]
  },
  {
   "attachments": {},
   "cell_type": "markdown",
   "metadata": {},
   "source": [
    "### Q2-2\n",
    "\n",
    "正の整数 $ a $ ， $ b $ ， $ c $ を入力して，上底 $ a $ ， 下底 $ b $ ，高さ $ c $ の台形の面積を計算する\n",
    "\n",
    "|上底 $ a $|下底 $ b $|高さ $ c $ |出力|\n",
    "|-|-|-|-|\n",
    "|3|4|5|17.5|\n",
    "|13|7|8|80.0|"
   ]
  },
  {
   "cell_type": "code",
   "execution_count": null,
   "metadata": {},
   "outputs": [],
   "source": [
    "# 回答欄\n",
    "\n",
    "### ここから\n",
    "\n",
    "\n",
    "### ここまで\n"
   ]
  },
  {
   "attachments": {},
   "cell_type": "markdown",
   "metadata": {},
   "source": [
    "### Q2-3\n",
    "実数 $ r $ を入力して，$ r $ の小数第一位のみを出力する\n",
    "- 備考：出力する数値の小数点以下を表示しないこと\n",
    "- 小数を入力値とすること\n",
    "\n",
    "|入力 $ r $|出力|\n",
    "|:-:|:-:|\n",
    "|0.3|3|\n",
    "|1.7|7|\n",
    "|3.14|1|"
   ]
  },
  {
   "cell_type": "code",
   "execution_count": null,
   "metadata": {},
   "outputs": [],
   "source": [
    "# 回答欄\n",
    "\n",
    "### ここから\n",
    "\n",
    "\n",
    "### ここまで\n"
   ]
  },
  {
   "cell_type": "markdown",
   "metadata": {},
   "source": [
    "ダブルクリックしてヒントA-1を表示\n",
    "<!--\n",
    "- Q2-1を参考にして考えてみよう\n",
    "- なお、Q2-1のヒントBは使えない\n",
    "-->"
   ]
  },
  {
   "cell_type": "markdown",
   "metadata": {},
   "source": [
    "ダブルクリックしてヒントA-2を表示\n",
    "<!--\n",
    "- 入力した値を10倍すると…？\n",
    "-->"
   ]
  },
  {
   "attachments": {},
   "cell_type": "markdown",
   "metadata": {},
   "source": [
    "### Q2-4\n",
    "次のように $ n $ へ数値を入力して，変数 $ x $ と掛けた値を表示するプログラムを考える．<br>\n",
    "以下の1.～4.のうちエラーにならないものをすべて選び，選択したprint文を次のセルへ入力して実行してください\n",
    "\n",
    "1. `print(\"x * n = \" + x * n)`\n",
    "2. `print(\"x * n = \" + str(x * n))`\n",
    "3. `print(\"x * n = \" + x * int(n))`\n",
    "4. `print(\"x * n = \" + str(x * int(n)))`"
   ]
  },
  {
   "cell_type": "code",
   "execution_count": null,
   "metadata": {},
   "outputs": [],
   "source": [
    "# 回答欄\n",
    "\n",
    "n = int(input())\n",
    "### ここから\n",
    "x = 1\n",
    "\n",
    "\n",
    "### ここまで\n"
   ]
  },
  {
   "attachments": {},
   "cell_type": "markdown",
   "metadata": {},
   "source": [
    "### Q2-5\n",
    "正の整数 $ n $を入力して，$ n $ の値に応じて次のように計算結果を出力する\n",
    "- $ n $ が 5 未満：$n に 10 を足す$\n",
    "- $ n $ が 5以上，かつ 20 未満：$n を 4 倍する$\n",
    "- $ n $ が 20 以上：$n を 2 で割る$\n",
    "\n",
    "\n",
    "|入力 $ n $|出力|\n",
    "|:-:|:--|\n",
    "|3|15000|\n",
    "|5|20000|\n",
    "|19|76000|\n",
    "|20|70000|\n",
    "|25|87500|\n",
    "\n"
   ]
  },
  {
   "cell_type": "code",
   "execution_count": null,
   "metadata": {},
   "outputs": [],
   "source": [
    "# 回答欄\n",
    "\n",
    "### ここから\n",
    "\n",
    "\n",
    "### ここまで\n"
   ]
  },
  {
   "cell_type": "markdown",
   "metadata": {},
   "source": [
    "ダブルクリックしてヒントAを表示\n",
    "<!--\n",
    "- 分岐する条件を書き出してみよう\n",
    "-->"
   ]
  },
  {
   "attachments": {},
   "cell_type": "markdown",
   "metadata": {},
   "source": [
    "### Q2-6\n",
    "整数 $ n $ を入力して，$ n $ が 0 未満なら `0` へ，100 より大きいなら `100` へ修正して，以下の計算式の結果を出力する\n",
    "\n",
    "$$\n",
    "出力 = \\frac{n (n + 1)}{2}\n",
    "$$\n",
    "\n",
    "<br>\n",
    "\n",
    "|入力 $r$|出力|\n",
    "|:-:|:-:|\n",
    "|-10|0.0|\n",
    "|10|55.0|\n",
    "|100|5050.0|\n",
    "|200|5050.0|"
   ]
  },
  {
   "cell_type": "code",
   "execution_count": null,
   "metadata": {},
   "outputs": [],
   "source": [
    "# 回答欄\n",
    "\n",
    "### ここから\n",
    "\n",
    "\n",
    "### ここまで\n"
   ]
  },
  {
   "attachments": {},
   "cell_type": "markdown",
   "metadata": {},
   "source": [
    "## Lv.3\n",
    "※ unit03 4.5. 以降の内容(7月11日第4回授業日以降の内容)を利用しないと解けない問題がいくつかあります。  \n",
    "    4.4.以前の内容を組み合わせれば解けるものにはなっているので、予習・復習に使ってください。  \n"
   ]
  },
  {
   "attachments": {},
   "cell_type": "markdown",
   "metadata": {},
   "source": [
    "### Q3-1\n",
    "1 から 9 までの整数 $ n $ を入力して，$ n $ の値に応じて以下のようにメッセージを出力する\n",
    "- $ n $ が奇数のとき， $ n $ が 9 と等しくなければ `Odd prime`，9 と等しければ `Odd`と出力\n",
    "- $ n $ が偶数のとき， $ n $ が 2 と等しければ `Even prime`，2 と等しくなければ `Even` と出力\n",
    "\n",
    "\n",
    "|入力 $n$|出力|\n",
    "|:-:|:-:|\n",
    "|1, 3, 5, 7| Odd prime|\n",
    "|9| Odd |\n",
    "|2| Even prime|\n",
    "|4, 6, 8| Even|\n"
   ]
  },
  {
   "cell_type": "code",
   "execution_count": null,
   "metadata": {},
   "outputs": [],
   "source": [
    "# 回答欄\n",
    "\n",
    "### ここから\n",
    "\n",
    "\n",
    "### ここまで\n"
   ]
  },
  {
   "cell_type": "markdown",
   "metadata": {},
   "source": [
    "ダブルクリックしてヒントA-1を表示\n",
    "<!--\n",
    "- 入れ子構造(unit03 4.7.)を用いる前提となっている\n",
    "-->"
   ]
  },
  {
   "cell_type": "markdown",
   "metadata": {},
   "source": [
    "ダブルクリックしてヒントA-2を表示\n",
    "<!--\n",
    "- 先に偶奇の判定を行ってから、2(9)と等しいかどうかを判定しよう\n",
    "-->"
   ]
  },
  {
   "cell_type": "markdown",
   "metadata": {},
   "source": [
    "### Q3-2"
   ]
  },
  {
   "cell_type": "code",
   "execution_count": null,
   "metadata": {},
   "outputs": [],
   "source": []
  },
  {
   "cell_type": "markdown",
   "metadata": {},
   "source": [
    "ダブルクリックしてヒントA-1を表示\n",
    "<!--\n",
    "- まずはノートで、どのような条件のときにうるう年かを整理するとよい。\n",
    "- どの条件を先に判定するかをよく考える。 \n",
    "-->"
   ]
  },
  {
   "cell_type": "markdown",
   "metadata": {},
   "source": [
    "ダブルクリックしてヒントA-2を表示\n",
    "<!--\n",
    "- まずはノートで、どのような条件のときにうるう年かを整理するとよい。\n",
    "- どの条件を先に判定するかをよく考える。 \n",
    "-->"
   ]
  },
  {
   "cell_type": "markdown",
   "metadata": {},
   "source": [
    "### Q3-3"
   ]
  },
  {
   "cell_type": "code",
   "execution_count": null,
   "metadata": {},
   "outputs": [],
   "source": []
  },
  {
   "cell_type": "markdown",
   "metadata": {},
   "source": [
    "ダブルクリックしてヒントA-1を表示\n",
    "<!--\n",
    "- まずはノートで、どのような条件のときにうるう年かを整理するとよい。\n",
    "- どの条件を先に判定するかをよく考える。 \n",
    "-->"
   ]
  },
  {
   "cell_type": "markdown",
   "metadata": {},
   "source": [
    "ダブルクリックしてヒントA-2を表示\n",
    "<!--\n",
    "- まずはノートで、どのような条件のときにうるう年かを整理するとよい。\n",
    "- どの条件を先に判定するかをよく考える。 \n",
    "-->"
   ]
  },
  {
   "cell_type": "markdown",
   "metadata": {},
   "source": [
    "### Q3-4"
   ]
  },
  {
   "cell_type": "code",
   "execution_count": null,
   "metadata": {},
   "outputs": [],
   "source": []
  },
  {
   "cell_type": "markdown",
   "metadata": {},
   "source": [
    "ダブルクリックしてヒントA-1を表示\n",
    "<!--\n",
    "- まずはノートで、どのような条件のときにうるう年かを整理するとよい。\n",
    "- どの条件を先に判定するかをよく考える。 \n",
    "-->"
   ]
  },
  {
   "cell_type": "markdown",
   "metadata": {},
   "source": [
    "ダブルクリックしてヒントA-2を表示\n",
    "<!--\n",
    "- まずはノートで、どのような条件のときにうるう年かを整理するとよい。\n",
    "- どの条件を先に判定するかをよく考える。 \n",
    "-->"
   ]
  },
  {
   "attachments": {},
   "cell_type": "markdown",
   "metadata": {},
   "source": [
    "$fin$"
   ]
  }
 ],
 "metadata": {
  "kernelspec": {
   "display_name": "py_analyze",
   "language": "python",
   "name": "python3"
  },
  "language_info": {
   "codemirror_mode": {
    "name": "ipython",
    "version": 3
   },
   "file_extension": ".py",
   "mimetype": "text/x-python",
   "name": "python",
   "nbconvert_exporter": "python",
   "pygments_lexer": "ipython3",
   "version": "3.10.7"
  },
  "orig_nbformat": 4
 },
 "nbformat": 4,
 "nbformat_minor": 2
}
