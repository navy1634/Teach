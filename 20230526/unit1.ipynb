{
 "cells": [
  {
   "attachments": {},
   "cell_type": "markdown",
   "id": "e76512ae",
   "metadata": {},
   "source": [
    "## プログラミング"
   ]
  },
  {
   "attachments": {},
   "cell_type": "markdown",
   "id": "a4917b05",
   "metadata": {},
   "source": [
    "## 操作方法　"
   ]
  },
  {
   "cell_type": "code",
   "execution_count": 1,
   "id": "29824cb9",
   "metadata": {},
   "outputs": [
    {
     "name": "stdout",
     "output_type": "stream",
     "text": [
      "Hello World !\n"
     ]
    }
   ],
   "source": [
    "print(\"Hello World !\")"
   ]
  },
  {
   "attachments": {},
   "cell_type": "markdown",
   "id": "5d281f86",
   "metadata": {},
   "source": [
    "## 出力"
   ]
  },
  {
   "cell_type": "code",
   "execution_count": 20,
   "id": "b980472b",
   "metadata": {},
   "outputs": [
    {
     "data": {
      "text/plain": [
       "'Hello'"
      ]
     },
     "execution_count": 20,
     "metadata": {},
     "output_type": "execute_result"
    }
   ],
   "source": [
    "\"Hello\""
   ]
  },
  {
   "cell_type": "code",
   "execution_count": 12,
   "id": "50380a4b",
   "metadata": {},
   "outputs": [
    {
     "name": "stdout",
     "output_type": "stream",
     "text": [
      "Hello!!\n"
     ]
    }
   ],
   "source": [
    "print(\"Hello!!\")"
   ]
  },
  {
   "cell_type": "code",
   "execution_count": 13,
   "id": "71c89843",
   "metadata": {},
   "outputs": [
    {
     "name": "stdout",
     "output_type": "stream",
     "text": [
      "こんにちわ\n",
      "1 2 3 4 5 6 7 8 9\n"
     ]
    }
   ],
   "source": [
    "# 日本語\n",
    "print(\"こんにちわ\")\n",
    "\n",
    "# 複数\n",
    "print(1, 2, 3, 4, 5, 6, 7, 8, 9)\n"
   ]
  },
  {
   "attachments": {},
   "cell_type": "markdown",
   "id": "dfc5c063",
   "metadata": {},
   "source": [
    "## 数値と四則演算"
   ]
  },
  {
   "cell_type": "code",
   "execution_count": 2,
   "id": "192a8371",
   "metadata": {},
   "outputs": [
    {
     "data": {
      "text/plain": [
       "2"
      ]
     },
     "execution_count": 2,
     "metadata": {},
     "output_type": "execute_result"
    }
   ],
   "source": [
    "# 四則演算\n",
    "1 + 1"
   ]
  },
  {
   "cell_type": "code",
   "execution_count": 10,
   "id": "6c31a5dc",
   "metadata": {},
   "outputs": [
    {
     "name": "stdout",
     "output_type": "stream",
     "text": [
      "2\n"
     ]
    }
   ],
   "source": [
    "# 基本的にはこっちをつかってください\n",
    "print(1 + 1)"
   ]
  },
  {
   "attachments": {},
   "cell_type": "markdown",
   "id": "15be9410",
   "metadata": {},
   "source": [
    "#### 四則演算"
   ]
  },
  {
   "cell_type": "code",
   "execution_count": 15,
   "id": "fcbb4bde",
   "metadata": {},
   "outputs": [
    {
     "name": "stdout",
     "output_type": "stream",
     "text": [
      "3 + 2 =  5\n",
      "3 - 2 =  1\n",
      "3 × 2 =  6\n",
      "3 ÷ 2 =  1.5\n",
      "3 % 2 =  1\n"
     ]
    }
   ],
   "source": [
    "# 足し算\n",
    "print(\"3 + 2 = \", 3 + 2)\n",
    "\n",
    "# 引き算\n",
    "print(\"3 - 2 = \", 3 - 2)\n",
    "\n",
    "# 掛け算\n",
    "print(\"3 × 2 = \", 3 * 2)\n",
    "\n",
    "# 割り算(商)\n",
    "print(\"3 ÷ 2 = \", 3 / 2)\n",
    "\n",
    "# 割り算(余り)\n",
    "print(\"3 % 2 = \", 3 % 2)\n"
   ]
  },
  {
   "cell_type": "code",
   "execution_count": 25,
   "id": "e28a4f8e",
   "metadata": {},
   "outputs": [
    {
     "name": "stdout",
     "output_type": "stream",
     "text": [
      "3 ÷ 2 =  1\n"
     ]
    }
   ],
   "source": [
    "# 割り算 (2)\n",
    "print(\"3 ÷ 2 = \", 3 // 2)\n"
   ]
  },
  {
   "cell_type": "code",
   "execution_count": 27,
   "id": "6d645113",
   "metadata": {},
   "outputs": [
    {
     "name": "stdout",
     "output_type": "stream",
     "text": [
      "2 + 3 * 5 =  17\n",
      "(2 + 3) * 5 =  25\n"
     ]
    }
   ],
   "source": [
    "# 計算の優先順位\n",
    "print(\"2 + 3 * 5 = \", 2 + 3 * 5)\n",
    "print(\"(2 + 3) * 5 = \", (2 + 3) * 5)"
   ]
  },
  {
   "attachments": {},
   "cell_type": "markdown",
   "id": "5b374455",
   "metadata": {},
   "source": [
    "#### 注意"
   ]
  },
  {
   "cell_type": "code",
   "execution_count": 8,
   "id": "b89fc129",
   "metadata": {},
   "outputs": [
    {
     "data": {
      "text/plain": [
       "0.7999999999999999"
      ]
     },
     "execution_count": 8,
     "metadata": {},
     "output_type": "execute_result"
    }
   ],
   "source": [
    "0.1 + 0.7"
   ]
  },
  {
   "cell_type": "code",
   "execution_count": 9,
   "id": "19bb9d62",
   "metadata": {},
   "outputs": [
    {
     "data": {
      "text/plain": [
       "3.3333333333333335"
      ]
     },
     "execution_count": 9,
     "metadata": {},
     "output_type": "execute_result"
    }
   ],
   "source": [
    "10 / 3"
   ]
  },
  {
   "cell_type": "code",
   "execution_count": 10,
   "id": "1a5022ef",
   "metadata": {},
   "outputs": [
    {
     "data": {
      "text/plain": [
       "0.9999999999999999"
      ]
     },
     "execution_count": 10,
     "metadata": {},
     "output_type": "execute_result"
    }
   ],
   "source": [
    "1 / 7 + 4 / 7 + 2 / 7"
   ]
  },
  {
   "cell_type": "code",
   "execution_count": 11,
   "id": "4a8b105d",
   "metadata": {},
   "outputs": [
    {
     "data": {
      "text/plain": [
       "1.0"
      ]
     },
     "execution_count": 11,
     "metadata": {},
     "output_type": "execute_result"
    }
   ],
   "source": [
    "1 / 7 + 2 / 7 + 4 / 7"
   ]
  },
  {
   "attachments": {},
   "cell_type": "markdown",
   "id": "4fe13732",
   "metadata": {},
   "source": [
    "## 文字列"
   ]
  },
  {
   "cell_type": "code",
   "execution_count": null,
   "id": "82a7f9d8",
   "metadata": {},
   "outputs": [],
   "source": [
    "\"文字列\""
   ]
  },
  {
   "cell_type": "code",
   "execution_count": 1,
   "id": "7ac1382d",
   "metadata": {},
   "outputs": [
    {
     "name": "stdout",
     "output_type": "stream",
     "text": [
      "\"こんなこともできる\"\n"
     ]
    }
   ],
   "source": [
    "print(\"\")"
   ]
  },
  {
   "cell_type": "code",
   "execution_count": null,
   "id": "e1e88620",
   "metadata": {},
   "outputs": [],
   "source": []
  },
  {
   "cell_type": "code",
   "execution_count": null,
   "id": "60672d6b",
   "metadata": {},
   "outputs": [],
   "source": []
  },
  {
   "attachments": {},
   "cell_type": "markdown",
   "id": "001719f4",
   "metadata": {},
   "source": [
    "#### 文字列の四則演算"
   ]
  },
  {
   "cell_type": "code",
   "execution_count": null,
   "id": "635d6e4d",
   "metadata": {},
   "outputs": [],
   "source": [
    "print(\"私は\" + \"\")"
   ]
  },
  {
   "cell_type": "code",
   "execution_count": 21,
   "id": "4950b2a7",
   "metadata": {},
   "outputs": [
    {
     "name": "stdout",
     "output_type": "stream",
     "text": [
      "suesuesuesuesue\n"
     ]
    }
   ],
   "source": [
    "print(\"sue\" * 5)"
   ]
  },
  {
   "cell_type": "code",
   "execution_count": null,
   "id": "b6d9c5af",
   "metadata": {},
   "outputs": [],
   "source": []
  },
  {
   "attachments": {},
   "cell_type": "markdown",
   "id": "f3de8a8a",
   "metadata": {},
   "source": [
    "## 文字と数値"
   ]
  },
  {
   "cell_type": "code",
   "execution_count": null,
   "id": "b6285b56",
   "metadata": {},
   "outputs": [],
   "source": []
  },
  {
   "cell_type": "code",
   "execution_count": null,
   "id": "447e4fdb",
   "metadata": {},
   "outputs": [],
   "source": []
  },
  {
   "cell_type": "markdown",
   "id": "8f7af089",
   "metadata": {},
   "source": [
    "### 基本問題"
   ]
  },
  {
   "attachments": {},
   "cell_type": "markdown",
   "id": "0e8f2461",
   "metadata": {},
   "source": [
    "#### 1-1\n",
    "以下の値を求めるプログラムを作成してください  \n",
    "(1) $$4 × 2 - 3 + 5 ÷ 2$$  \n",
    "(2) $$ ( 2.5 - 1.4 )×( 17 + 13 )$$  \n",
    "(3) $$3741 ÷ 71$$ の余り  \n",
    "(4) $$3 ^ 8$$\n"
   ]
  },
  {
   "cell_type": "code",
   "execution_count": 37,
   "id": "e338645d",
   "metadata": {},
   "outputs": [
    {
     "name": "stdout",
     "output_type": "stream",
     "text": [
      "7.5\n",
      "33.0\n",
      "49\n",
      "6561\n"
     ]
    }
   ],
   "source": [
    "print(4 * 2 - 3 + 5 / 2)\n",
    "print((2.5 - 1.4) * (17 + 13))\n",
    "print(3741 % 71)\n",
    "print(3 ** 8)\n"
   ]
  },
  {
   "attachments": {},
   "cell_type": "markdown",
   "id": "0aa7cf2d",
   "metadata": {},
   "source": [
    "#### 1-2\n",
    "2023 ÷ 9 の整数部分を計算するプログラムを作成してください"
   ]
  },
  {
   "cell_type": "code",
   "execution_count": 35,
   "id": "dfe6ec58",
   "metadata": {},
   "outputs": [
    {
     "data": {
      "text/plain": [
       "224"
      ]
     },
     "execution_count": 35,
     "metadata": {},
     "output_type": "execute_result"
    }
   ],
   "source": [
    "2023 // 9"
   ]
  },
  {
   "attachments": {},
   "cell_type": "markdown",
   "id": "b5aa1d1d",
   "metadata": {},
   "source": [
    "#### 1-3\n",
    "以下の文章を```print文```で出力するプログラムを作成してください\n",
    "\n",
    "`Alice: \"It's not my pen.\"`\n"
   ]
  },
  {
   "cell_type": "code",
   "execution_count": null,
   "id": "4722cbe8",
   "metadata": {},
   "outputs": [],
   "source": [
    "print()"
   ]
  },
  {
   "attachments": {},
   "cell_type": "markdown",
   "id": "98514c10",
   "metadata": {},
   "source": [
    "#### 1-4\n",
    "整数 n を入力し、nの一の位を出力するプログラムを作成してください  \n",
    "|入力|出力|\n",
    "|-|-|\n",
    "|12|2|\n",
    "|404|4|\n",
    "|65535|5|\n",
    "|57|7|\n"
   ]
  },
  {
   "cell_type": "code",
   "execution_count": 29,
   "id": "7e67a8c6",
   "metadata": {},
   "outputs": [
    {
     "name": "stdout",
     "output_type": "stream",
     "text": [
      "2\n",
      "4\n",
      "5\n",
      "7\n"
     ]
    }
   ],
   "source": [
    "print(12 % 10)\n",
    "print(404 % 10)\n",
    "print(65535 % 10)\n",
    "print(57 % 10)\n"
   ]
  },
  {
   "cell_type": "markdown",
   "id": "f06ca592",
   "metadata": {},
   "source": [
    "### 発展問題"
   ]
  },
  {
   "attachments": {},
   "cell_type": "markdown",
   "id": "4d4267ca",
   "metadata": {},
   "source": [
    "#### 2-1\n",
    "a = 3, b = 5 のとき、以下の式の値を求めなさい  \n",
    "(1) $ 2(3a + 2b) + 4(4a - 3b)  $  \n",
    "(2) $ -3ab × 2b × (-2a)^2 $  \n",
    "(3) $ (-4a^2b^3)^2÷2a^3b^4 × (-ab^2) $  \n"
   ]
  },
  {
   "cell_type": "code",
   "execution_count": 31,
   "id": "df538d69",
   "metadata": {},
   "outputs": [
    {
     "name": "stdout",
     "output_type": "stream",
     "text": [
      "26\n",
      "-16200\n",
      "-12814453125000.0\n"
     ]
    }
   ],
   "source": [
    "# a = 3\n",
    "# b = 5\n",
    "# print(2 * (3 * a + 2 * b) + 4 * (4 * a - 3 * b))\n",
    "# print(-3 * a * b * 2 * b * (-2 * a) ** 2)\n",
    "# print((-4 * a ** 2 * b ** 3) ** 2 / 2 * a **3 * b **4 * (-a * b **2))\n"
   ]
  },
  {
   "attachments": {},
   "cell_type": "markdown",
   "id": "fcf7e269",
   "metadata": {},
   "source": [
    "#### 2-2\n",
    "小数部分を求めてください\n"
   ]
  },
  {
   "cell_type": "code",
   "execution_count": null,
   "id": "4dc3122d",
   "metadata": {},
   "outputs": [],
   "source": []
  },
  {
   "attachments": {},
   "cell_type": "markdown",
   "id": "5ded0f3e",
   "metadata": {},
   "source": [
    "#### 2-3\n",
    "\n"
   ]
  },
  {
   "cell_type": "code",
   "execution_count": null,
   "id": "b8b6ff77",
   "metadata": {},
   "outputs": [],
   "source": []
  },
  {
   "attachments": {},
   "cell_type": "markdown",
   "id": "cd78bad8",
   "metadata": {},
   "source": [
    "#### 2-4"
   ]
  },
  {
   "cell_type": "markdown",
   "id": "1b1272b5",
   "metadata": {},
   "source": [
    "#### 2-5"
   ]
  },
  {
   "cell_type": "code",
   "execution_count": null,
   "id": "d7882f95",
   "metadata": {},
   "outputs": [],
   "source": []
  },
  {
   "cell_type": "code",
   "execution_count": null,
   "id": "eee1e455",
   "metadata": {},
   "outputs": [],
   "source": []
  },
  {
   "attachments": {},
   "cell_type": "markdown",
   "id": "bbcb76da",
   "metadata": {},
   "source": [
    "### 余談\n",
    "#### 色々な出力方法"
   ]
  },
  {
   "attachments": {},
   "cell_type": "markdown",
   "id": "ab48b8a7",
   "metadata": {},
   "source": [
    "(1) print文のあれこれ\n",
    "(2) ```fotmat()```\n",
    "(3) ```f文字列```\n",
    "(4) ```%記法```\n"
   ]
  },
  {
   "cell_type": "code",
   "execution_count": null,
   "id": "a984f15f",
   "metadata": {},
   "outputs": [],
   "source": []
  },
  {
   "cell_type": "code",
   "execution_count": null,
   "id": "ed797a08",
   "metadata": {},
   "outputs": [],
   "source": []
  },
  {
   "attachments": {},
   "cell_type": "markdown",
   "id": "bad3243d",
   "metadata": {},
   "source": [
    "fin"
   ]
  }
 ],
 "metadata": {
  "kernelspec": {
   "display_name": "Python 3 (ipykernel)",
   "language": "python",
   "name": "python3"
  },
  "language_info": {
   "codemirror_mode": {
    "name": "ipython",
    "version": 3
   },
   "file_extension": ".py",
   "mimetype": "text/x-python",
   "name": "python",
   "nbconvert_exporter": "python",
   "pygments_lexer": "ipython3",
   "version": "3.10.7"
  }
 },
 "nbformat": 4,
 "nbformat_minor": 5
}
