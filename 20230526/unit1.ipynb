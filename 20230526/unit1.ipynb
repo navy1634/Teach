{
 "cells": [
  {
   "attachments": {},
   "cell_type": "markdown",
   "id": "4bf54219",
   "metadata": {},
   "source": [
    "## Python について"
   ]
  },
  {
   "cell_type": "markdown",
   "id": "d91a4132",
   "metadata": {},
   "source": []
  },
  {
   "cell_type": "markdown",
   "id": "6a772f7c",
   "metadata": {},
   "source": []
  },
  {
   "attachments": {},
   "cell_type": "markdown",
   "id": "40d0b507",
   "metadata": {},
   "source": [
    "## Colablatory について"
   ]
  },
  {
   "cell_type": "markdown",
   "id": "e7f379b1",
   "metadata": {},
   "source": []
  },
  {
   "cell_type": "markdown",
   "id": "36cf4ae0",
   "metadata": {},
   "source": []
  },
  {
   "attachments": {},
   "cell_type": "markdown",
   "id": "a4917b05",
   "metadata": {},
   "source": [
    "## 操作方法　"
   ]
  },
  {
   "cell_type": "code",
   "execution_count": 1,
   "id": "29824cb9",
   "metadata": {},
   "outputs": [
    {
     "name": "stdout",
     "output_type": "stream",
     "text": [
      "Hello World !\n"
     ]
    }
   ],
   "source": [
    "print(\"Hello World !\")"
   ]
  },
  {
   "attachments": {},
   "cell_type": "markdown",
   "id": "12d164f9",
   "metadata": {},
   "source": [
    "## 出力"
   ]
  },
  {
   "cell_type": "code",
   "execution_count": 2,
   "id": "be1d267d",
   "metadata": {},
   "outputs": [
    {
     "name": "stdout",
     "output_type": "stream",
     "text": [
      "Yattaze\n"
     ]
    }
   ],
   "source": [
    "print(\"Yattaze\")"
   ]
  },
  {
   "cell_type": "code",
   "execution_count": 3,
   "id": "90e219a5",
   "metadata": {},
   "outputs": [
    {
     "name": "stdout",
     "output_type": "stream",
     "text": [
      "私は 14 歳です\n"
     ]
    }
   ],
   "source": [
    "print(\"私は\", 14, \"歳です\")"
   ]
  },
  {
   "cell_type": "code",
   "execution_count": 4,
   "id": "9e42cfde",
   "metadata": {},
   "outputs": [
    {
     "name": "stdout",
     "output_type": "stream",
     "text": [
      "私の名前は です\n"
     ]
    }
   ],
   "source": [
    "print(\"私の名前は\", \"です\")"
   ]
  },
  {
   "attachments": {},
   "cell_type": "markdown",
   "id": "dfc5c063",
   "metadata": {},
   "source": [
    "## 数値と四則演算"
   ]
  },
  {
   "cell_type": "code",
   "execution_count": 5,
   "id": "192a8371",
   "metadata": {},
   "outputs": [
    {
     "name": "stdout",
     "output_type": "stream",
     "text": [
      "2\n"
     ]
    }
   ],
   "source": [
    "# 四則演算\n",
    "print(1 + 1)\n"
   ]
  },
  {
   "cell_type": "code",
   "execution_count": 6,
   "id": "fcbb4bde",
   "metadata": {},
   "outputs": [
    {
     "name": "stdout",
     "output_type": "stream",
     "text": [
      "3 + 2 =  5\n",
      "3 - 2 =  1\n",
      "3 × 2 =  6\n",
      "3 ÷ 2 =  1.5\n",
      "3 % 2 =  1\n"
     ]
    }
   ],
   "source": [
    "# 足し算\n",
    "print(\"3 + 2 = \", 3 + 2)\n",
    "\n",
    "# 引き算\n",
    "print(\"3 - 2 = \", 3 - 2)\n",
    "\n",
    "# 掛け算\n",
    "print(\"3 × 2 = \", 3 * 2)\n",
    "\n",
    "# 割り算(商)\n",
    "print(\"3 ÷ 2 = \", 3 / 2)\n",
    "\n",
    "# 割り算(余り)\n",
    "print(\"3 % 2 = \", 3 % 2)\n"
   ]
  },
  {
   "cell_type": "code",
   "execution_count": 7,
   "id": "e28a4f8e",
   "metadata": {},
   "outputs": [
    {
     "name": "stdout",
     "output_type": "stream",
     "text": [
      "3 / 2 =  1.5\n",
      "3 // 2 =  1\n"
     ]
    }
   ],
   "source": [
    "# 割り算\n",
    "print(\"3 / 2 = \", 3 / 2)\n",
    "print(\"3 // 2 = \", 3 // 2)\n"
   ]
  },
  {
   "attachments": {},
   "cell_type": "markdown",
   "id": "5b374455",
   "metadata": {},
   "source": [
    "#### 注意"
   ]
  },
  {
   "cell_type": "code",
   "execution_count": 8,
   "id": "b89fc129",
   "metadata": {},
   "outputs": [
    {
     "data": {
      "text/plain": [
       "0.7999999999999999"
      ]
     },
     "execution_count": 8,
     "metadata": {},
     "output_type": "execute_result"
    }
   ],
   "source": [
    "0.1 + 0.7"
   ]
  },
  {
   "cell_type": "code",
   "execution_count": 9,
   "id": "19bb9d62",
   "metadata": {},
   "outputs": [
    {
     "data": {
      "text/plain": [
       "3.3333333333333335"
      ]
     },
     "execution_count": 9,
     "metadata": {},
     "output_type": "execute_result"
    }
   ],
   "source": [
    "10 / 3"
   ]
  },
  {
   "cell_type": "code",
   "execution_count": 10,
   "id": "1a5022ef",
   "metadata": {},
   "outputs": [
    {
     "data": {
      "text/plain": [
       "0.9999999999999999"
      ]
     },
     "execution_count": 10,
     "metadata": {},
     "output_type": "execute_result"
    }
   ],
   "source": [
    "1 / 7 + 4 / 7 + 2 / 7"
   ]
  },
  {
   "cell_type": "code",
   "execution_count": 11,
   "id": "4a8b105d",
   "metadata": {},
   "outputs": [
    {
     "data": {
      "text/plain": [
       "1.0"
      ]
     },
     "execution_count": 11,
     "metadata": {},
     "output_type": "execute_result"
    }
   ],
   "source": [
    "1 / 7 + 2 / 7 + 4 / 7"
   ]
  },
  {
   "attachments": {},
   "cell_type": "markdown",
   "id": "82687702",
   "metadata": {},
   "source": [
    "## 変数"
   ]
  },
  {
   "cell_type": "code",
   "execution_count": 12,
   "id": "5f409c6e",
   "metadata": {},
   "outputs": [
    {
     "name": "stdout",
     "output_type": "stream",
     "text": [
      "rew\n"
     ]
    }
   ],
   "source": [
    "msg = input(\"何か入力してください\")\n",
    "print(msg)\n"
   ]
  },
  {
   "cell_type": "code",
   "execution_count": null,
   "id": "824420d5",
   "metadata": {},
   "outputs": [],
   "source": []
  },
  {
   "attachments": {},
   "cell_type": "markdown",
   "id": "4fe13732",
   "metadata": {},
   "source": [
    "## 文字列"
   ]
  },
  {
   "cell_type": "code",
   "execution_count": null,
   "id": "82a7f9d8",
   "metadata": {},
   "outputs": [],
   "source": []
  },
  {
   "cell_type": "code",
   "execution_count": null,
   "id": "7ac1382d",
   "metadata": {},
   "outputs": [],
   "source": []
  },
  {
   "cell_type": "code",
   "execution_count": null,
   "id": "e1e88620",
   "metadata": {},
   "outputs": [],
   "source": []
  },
  {
   "cell_type": "code",
   "execution_count": null,
   "id": "b6d9c5af",
   "metadata": {},
   "outputs": [],
   "source": []
  },
  {
   "attachments": {},
   "cell_type": "markdown",
   "id": "f3de8a8a",
   "metadata": {},
   "source": [
    "## 文字と数値"
   ]
  },
  {
   "cell_type": "code",
   "execution_count": null,
   "id": "b6285b56",
   "metadata": {},
   "outputs": [],
   "source": []
  },
  {
   "cell_type": "code",
   "execution_count": null,
   "id": "447e4fdb",
   "metadata": {},
   "outputs": [],
   "source": []
  },
  {
   "cell_type": "markdown",
   "id": "8f7af089",
   "metadata": {},
   "source": [
    "### 基本問題"
   ]
  },
  {
   "attachments": {},
   "cell_type": "markdown",
   "id": "0e8f2461",
   "metadata": {},
   "source": [
    "#### 1-1\n",
    "以下の値を求めるプログラムを作成してください  \n",
    "(1) $$4 × 2 - 3 + 5 ÷ 2$$  \n",
    "(2) $$ ( 2.5 - 1.4 )×( 17 + 13 )$$  \n",
    "(3) $$3741 ÷ 71$$ の余り  \n",
    "(4) $$3 ^ 8$$\n"
   ]
  },
  {
   "cell_type": "code",
   "execution_count": 37,
   "id": "e338645d",
   "metadata": {},
   "outputs": [
    {
     "name": "stdout",
     "output_type": "stream",
     "text": [
      "7.5\n",
      "33.0\n",
      "49\n",
      "6561\n"
     ]
    }
   ],
   "source": [
    "print(4 * 2 - 3 + 5 / 2)\n",
    "print((2.5 - 1.4) * (17 + 13))\n",
    "print(3741 % 71)\n",
    "print(3 ** 8)\n"
   ]
  },
  {
   "attachments": {},
   "cell_type": "markdown",
   "id": "0aa7cf2d",
   "metadata": {},
   "source": [
    "#### 1-2\n",
    "2023 ÷ 9 の整数部分を計算するプログラムを作成してください"
   ]
  },
  {
   "cell_type": "code",
   "execution_count": 35,
   "id": "dfe6ec58",
   "metadata": {},
   "outputs": [
    {
     "data": {
      "text/plain": [
       "224"
      ]
     },
     "execution_count": 35,
     "metadata": {},
     "output_type": "execute_result"
    }
   ],
   "source": [
    "2023 // 9"
   ]
  },
  {
   "attachments": {},
   "cell_type": "markdown",
   "id": "b5aa1d1d",
   "metadata": {},
   "source": [
    "#### 1-3\n",
    "以下の文章を```print文```で出力するプログラムを作成してください\n",
    "- 私の\n"
   ]
  },
  {
   "cell_type": "code",
   "execution_count": null,
   "id": "4722cbe8",
   "metadata": {},
   "outputs": [],
   "source": [
    "print()"
   ]
  },
  {
   "attachments": {},
   "cell_type": "markdown",
   "id": "98514c10",
   "metadata": {},
   "source": [
    "#### 1-4\n",
    "整数 n を入力し、nの一の位を出力するプログラムを作成してください  \n",
    "|入力|出力|\n",
    "|-|-|\n",
    "|12|2|\n",
    "|404|4|\n",
    "|65535|5|\n",
    "|57|7|\n"
   ]
  },
  {
   "cell_type": "code",
   "execution_count": 29,
   "id": "7e67a8c6",
   "metadata": {},
   "outputs": [
    {
     "name": "stdout",
     "output_type": "stream",
     "text": [
      "2\n",
      "4\n",
      "5\n",
      "7\n"
     ]
    }
   ],
   "source": [
    "print(12 % 10)\n",
    "print(404 % 10)\n",
    "print(65535 % 10)\n",
    "print(57 % 10)\n"
   ]
  },
  {
   "cell_type": "markdown",
   "id": "f06ca592",
   "metadata": {},
   "source": [
    "### 発展問題"
   ]
  },
  {
   "attachments": {},
   "cell_type": "markdown",
   "id": "4d4267ca",
   "metadata": {},
   "source": [
    "#### 2-1\n",
    "a = 3, b = 5 のとき、以下の式の値を求めなさい  \n",
    "(1) $ 2(3a + 2b) + 4(4a - 3b)  $  \n",
    "(2) $ -3ab × 2b × (-2a)^2 $  \n",
    "(3) $ (-4a^2b^3)^2÷2a^3b^4 × (-ab^2) $  \n"
   ]
  },
  {
   "cell_type": "code",
   "execution_count": 31,
   "id": "df538d69",
   "metadata": {},
   "outputs": [
    {
     "name": "stdout",
     "output_type": "stream",
     "text": [
      "26\n",
      "-16200\n",
      "-12814453125000.0\n"
     ]
    }
   ],
   "source": [
    "# a = 3\n",
    "# b = 5\n",
    "# print(2 * (3 * a + 2 * b) + 4 * (4 * a - 3 * b))\n",
    "# print(-3 * a * b * 2 * b * (-2 * a) ** 2)\n",
    "# print((-4 * a ** 2 * b ** 3) ** 2 / 2 * a **3 * b **4 * (-a * b **2))\n"
   ]
  },
  {
   "attachments": {},
   "cell_type": "markdown",
   "id": "fcf7e269",
   "metadata": {},
   "source": [
    "#### 2-2\n",
    "小数部分を求めてください\n"
   ]
  },
  {
   "cell_type": "code",
   "execution_count": null,
   "id": "4dc3122d",
   "metadata": {},
   "outputs": [],
   "source": []
  },
  {
   "attachments": {},
   "cell_type": "markdown",
   "id": "5ded0f3e",
   "metadata": {},
   "source": [
    "#### 2-3\n",
    "\n"
   ]
  },
  {
   "cell_type": "code",
   "execution_count": null,
   "id": "b8b6ff77",
   "metadata": {},
   "outputs": [],
   "source": []
  },
  {
   "attachments": {},
   "cell_type": "markdown",
   "id": "cd78bad8",
   "metadata": {},
   "source": [
    "#### 2-4"
   ]
  },
  {
   "cell_type": "markdown",
   "id": "1b1272b5",
   "metadata": {},
   "source": [
    "#### 2-5"
   ]
  },
  {
   "cell_type": "code",
   "execution_count": null,
   "id": "d7882f95",
   "metadata": {},
   "outputs": [],
   "source": []
  },
  {
   "cell_type": "code",
   "execution_count": null,
   "id": "eee1e455",
   "metadata": {},
   "outputs": [],
   "source": []
  },
  {
   "attachments": {},
   "cell_type": "markdown",
   "id": "bbcb76da",
   "metadata": {},
   "source": [
    "### 余談\n",
    "#### 色々な出力方法"
   ]
  },
  {
   "attachments": {},
   "cell_type": "markdown",
   "id": "ab48b8a7",
   "metadata": {},
   "source": [
    "(1) print文のあれこれ\n",
    "(2) ```fotmat()```\n",
    "(3) ```f文字列```\n",
    "(4) ```%記法```\n"
   ]
  },
  {
   "cell_type": "code",
   "execution_count": null,
   "id": "a984f15f",
   "metadata": {},
   "outputs": [],
   "source": []
  },
  {
   "cell_type": "code",
   "execution_count": null,
   "id": "ed797a08",
   "metadata": {},
   "outputs": [],
   "source": []
  },
  {
   "attachments": {},
   "cell_type": "markdown",
   "id": "bad3243d",
   "metadata": {},
   "source": [
    "fin"
   ]
  }
 ],
 "metadata": {
  "kernelspec": {
   "display_name": "Python 3 (ipykernel)",
   "language": "python",
   "name": "python3"
  },
  "language_info": {
   "codemirror_mode": {
    "name": "ipython",
    "version": 3
   },
   "file_extension": ".py",
   "mimetype": "text/x-python",
   "name": "python",
   "nbconvert_exporter": "python",
   "pygments_lexer": "ipython3",
   "version": "3.10.7"
  }
 },
 "nbformat": 4,
 "nbformat_minor": 5
}
