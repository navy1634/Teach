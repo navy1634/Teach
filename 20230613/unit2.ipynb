{
 "cells": [
  {
   "attachments": {},
   "cell_type": "markdown",
   "metadata": {},
   "source": [
    "# プロジェクト学習　第3回"
   ]
  },
  {
   "attachments": {},
   "cell_type": "markdown",
   "metadata": {},
   "source": [
    "## 変数"
   ]
  },
  {
   "attachments": {},
   "cell_type": "markdown",
   "metadata": {},
   "source": [
    "### 1-1.概要\n",
    "\n",
    "**変数とは？**\n",
    "\n",
    "ー　変数は数値や文字などを入れる箱のようなもの\n",
    "\n",
    "**変数に値を入れる方法**\n",
    "\n",
    "ー　変数　＝　値"
   ]
  },
  {
   "cell_type": "code",
   "execution_count": 2,
   "metadata": {},
   "outputs": [
    {
     "name": "stdout",
     "output_type": "stream",
     "text": [
      "100\n"
     ]
    }
   ],
   "source": [
    "# 実際のコード\n",
    "\n",
    "hensuu = 100\n",
    "\n",
    "# 変数に入った値が出力される\n",
    "print(hensuu) # 100"
   ]
  },
  {
   "cell_type": "code",
   "execution_count": 3,
   "metadata": {},
   "outputs": [
    {
     "name": "stdout",
     "output_type": "stream",
     "text": [
      "Hello World!\n"
     ]
    }
   ],
   "source": [
    "# 数字以外にも変数に入れることができる\n",
    "\n",
    "hensuu2 = \"Hello World!\"\n",
    "\n",
    "print(hensuu2)"
   ]
  },
  {
   "attachments": {},
   "cell_type": "markdown",
   "metadata": {},
   "source": [
    "### 1-2.変数の名前のルール\n",
    "\n",
    "１．ルールを違反するとエラーになる\n",
    "\n",
    "・数字から始まる名前  \n",
    "・アンダースコア（＿）から始まる名前\n",
    "・日本語で名前を付けるのは良くない"
   ]
  },
  {
   "cell_type": "code",
   "execution_count": null,
   "metadata": {},
   "outputs": [],
   "source": [
    "price = 100 #OK"
   ]
  },
  {
   "cell_type": "code",
   "execution_count": 1,
   "metadata": {},
   "outputs": [
    {
     "ename": "SyntaxError",
     "evalue": "invalid syntax (500854308.py, line 3)",
     "output_type": "error",
     "traceback": [
      "\u001b[1;36m  Input \u001b[1;32mIn [1]\u001b[1;36m\u001b[0m\n\u001b[1;33m    00price = 100\u001b[0m\n\u001b[1;37m      ^\u001b[0m\n\u001b[1;31mSyntaxError\u001b[0m\u001b[1;31m:\u001b[0m invalid syntax\n"
     ]
    }
   ],
   "source": [
    "# 数字から始まる名前\n",
    "\n",
    "00price = 100"
   ]
  },
  {
   "cell_type": "code",
   "execution_count": null,
   "metadata": {},
   "outputs": [],
   "source": [
    "# 日本語で変数は作れるが，良くないからやめておこう\n",
    "漢字 = 100"
   ]
  },
  {
   "attachments": {},
   "cell_type": "markdown",
   "metadata": {},
   "source": [
    "### 1-3.練習問題1"
   ]
  },
  {
   "attachments": {},
   "cell_type": "markdown",
   "metadata": {},
   "source": [
    "(例) 変数「var」に値100を代入し，varをprintで出力しよう"
   ]
  },
  {
   "cell_type": "code",
   "execution_count": 4,
   "metadata": {},
   "outputs": [
    {
     "name": "stdout",
     "output_type": "stream",
     "text": [
      "100\n"
     ]
    }
   ],
   "source": [
    "#例\n",
    "var = 100\n",
    "print(var)"
   ]
  },
  {
   "attachments": {},
   "cell_type": "markdown",
   "metadata": {},
   "source": [
    "(1)変数「price」に値150を代入し，priceをprintで出力\n",
    "\n",
    "(2)変数「greeting」に値\"こんにちは\"を代入し，greetingをprintで出力"
   ]
  },
  {
   "cell_type": "code",
   "execution_count": null,
   "metadata": {},
   "outputs": [],
   "source": [
    "#1\n",
    "\n",
    "\n",
    "#2\n",
    "\n",
    "\n"
   ]
  },
  {
   "attachments": {},
   "cell_type": "markdown",
   "metadata": {},
   "source": [
    "### 2-1 変数の計算\n",
    "\n",
    "変数は変数同士で計算できる\n",
    "\n",
    "変数同士で計算したものを別の変数に入れることもできる"
   ]
  },
  {
   "cell_type": "code",
   "execution_count": 5,
   "metadata": {},
   "outputs": [
    {
     "name": "stdout",
     "output_type": "stream",
     "text": [
      "pencil+eraser = \n",
      "250\n",
      "\n",
      "price =\n",
      "250\n"
     ]
    }
   ],
   "source": [
    "pencil = 150\n",
    "eraser = 100\n",
    "\n",
    "print(\"pencil+eraser = \")\n",
    "# pecilとeraserの値が足し算された結果が出てくる\n",
    "print(pencil + eraser)\n",
    "\n",
    "\n",
    "# 別の変数 price に計算結果を入れる\n",
    "price = pencil + eraser\n",
    "\n",
    "print(\"\\nprice =\")\n",
    "print(price)\n",
    "\n"
   ]
  },
  {
   "attachments": {},
   "cell_type": "markdown",
   "metadata": {},
   "source": [
    "### 2-2.変数の代入\n",
    "\n",
    "変数は先に定義してからでないと使えない\n",
    "\n",
    "変数は再代入できる"
   ]
  },
  {
   "cell_type": "code",
   "execution_count": 6,
   "metadata": {},
   "outputs": [
    {
     "ename": "NameError",
     "evalue": "name 'yoko' is not defined",
     "output_type": "error",
     "traceback": [
      "\u001b[1;31m---------------------------------------------------------------------------\u001b[0m",
      "\u001b[1;31mNameError\u001b[0m                                 Traceback (most recent call last)",
      "\u001b[1;32mc:\\Users\\dorag\\OneDrive\\デスクトップ\\project_study\\Teach\\20230613\\unit2.ipynb セル 18\u001b[0m in \u001b[0;36m<cell line: 2>\u001b[1;34m()\u001b[0m\n\u001b[0;32m      <a href='vscode-notebook-cell:/c%3A/Users/dorag/OneDrive/%E3%83%87%E3%82%B9%E3%82%AF%E3%83%88%E3%83%83%E3%83%97/project_study/Teach/20230613/unit2.ipynb#X23sZmlsZQ%3D%3D?line=0'>1</a>\u001b[0m tate \u001b[39m=\u001b[39m \u001b[39m3\u001b[39m\n\u001b[1;32m----> <a href='vscode-notebook-cell:/c%3A/Users/dorag/OneDrive/%E3%83%87%E3%82%B9%E3%82%AF%E3%83%88%E3%83%83%E3%83%97/project_study/Teach/20230613/unit2.ipynb#X23sZmlsZQ%3D%3D?line=1'>2</a>\u001b[0m menseki \u001b[39m=\u001b[39m tate \u001b[39m*\u001b[39m yoko \u001b[39m# yoko が定義されてないため使えない\u001b[39;00m\n\u001b[0;32m      <a href='vscode-notebook-cell:/c%3A/Users/dorag/OneDrive/%E3%83%87%E3%82%B9%E3%82%AF%E3%83%88%E3%83%83%E3%83%97/project_study/Teach/20230613/unit2.ipynb#X23sZmlsZQ%3D%3D?line=2'>3</a>\u001b[0m \u001b[39mprint\u001b[39m(menseki)\n",
      "\u001b[1;31mNameError\u001b[0m: name 'yoko' is not defined"
     ]
    }
   ],
   "source": [
    "tate = 3\n",
    "menseki = tate * yoko # yoko が定義されてないため使えない\n",
    "print(menseki)"
   ]
  },
  {
   "cell_type": "code",
   "execution_count": 7,
   "metadata": {},
   "outputs": [
    {
     "name": "stdout",
     "output_type": "stream",
     "text": [
      "12\n"
     ]
    }
   ],
   "source": [
    "tate = 3\n",
    "yoko = 4 # 使う前に定義することでエラーが起きない\n",
    "menseki = tate * yoko\n",
    "print(menseki)"
   ]
  },
  {
   "cell_type": "code",
   "execution_count": 8,
   "metadata": {},
   "outputs": [
    {
     "name": "stdout",
     "output_type": "stream",
     "text": [
      "1回目の total の値\n",
      "200\n",
      "\n",
      "2回目の再代入した total の値\n",
      "250\n"
     ]
    }
   ],
   "source": [
    "total = 200\n",
    "print(\"1回目の total の値\")\n",
    "print(total)\n",
    "\n",
    "total = 250\n",
    "print(\"\\n2回目の再代入した total の値\")\n",
    "print(total)"
   ]
  },
  {
   "attachments": {},
   "cell_type": "markdown",
   "metadata": {},
   "source": [
    "### 2-3. input\n",
    "\n",
    "input　は自分で入力して変数に代入できる"
   ]
  },
  {
   "cell_type": "code",
   "execution_count": 10,
   "metadata": {},
   "outputs": [
    {
     "name": "stdout",
     "output_type": "stream",
     "text": [
      "2\n"
     ]
    }
   ],
   "source": [
    "a = input(\"a:\") # inputの中身は入力するときの文言が出てくる\n",
    "print(a)"
   ]
  },
  {
   "cell_type": "code",
   "execution_count": 11,
   "metadata": {},
   "outputs": [
    {
     "name": "stdout",
     "output_type": "stream",
     "text": [
      "a\n"
     ]
    }
   ],
   "source": [
    "b = input(\"bの値は\")\n",
    "print(b)"
   ]
  },
  {
   "attachments": {},
   "cell_type": "markdown",
   "metadata": {},
   "source": [
    "### 2-4.練習問題2\n",
    "\n",
    "回転寿司に来た！\n",
    "たまごが100円，いかが120円，まぐろが150円，あなごが200円，大トロが500円だった．\n",
    "\n",
    "(例) たまごの変数を作って値段を出力しよう"
   ]
  },
  {
   "cell_type": "code",
   "execution_count": 9,
   "metadata": {},
   "outputs": [
    {
     "name": "stdout",
     "output_type": "stream",
     "text": [
      "100\n"
     ]
    }
   ],
   "source": [
    "# 例\n",
    "tamago = 100\n",
    "print(tamago)"
   ]
  },
  {
   "attachments": {},
   "cell_type": "markdown",
   "metadata": {},
   "source": [
    "(1) 他のネタも変数に入れてみよう\n",
    "\n",
    "(2) いか1貫とまぐろ1貫を食べた．値段を変数「total」に入れて出力しよう\n",
    "\n",
    "(3) まぐろを3貫，あなごを2貫，大トロを1貫食べた．値段を変数「total2」に入れて出力しよう\n",
    "\n",
    "(4) まぐろが 180円に値上がりした！変数に再代入して出力しよう"
   ]
  },
  {
   "cell_type": "code",
   "execution_count": null,
   "metadata": {},
   "outputs": [],
   "source": [
    "#1\n",
    "ika =      # いか\n",
    "maguro =   # まぐろ\n",
    "              # あなご\n",
    "              # 大トロ\n",
    "\n",
    "#2\n",
    "### ここから ###\n",
    "### ここまでに書こう ###\n",
    "print(f\"total = {total}\")\n",
    "\n",
    "#3\n",
    "### ここから ###\n",
    "\n",
    "### ここまでに書こう ###\n",
    "print(f\"total2 = {total2}\")\n",
    "\n",
    "#4\n",
    "### ここから ###\n",
    "\n",
    "### ここまでに書こう ###\n",
    "print(f\"maguro = {maguro}\")"
   ]
  },
  {
   "attachments": {},
   "cell_type": "markdown",
   "metadata": {},
   "source": [
    "### 2-5. 発展問題3\n",
    "\n",
    "**a, b, c に input を使って数値を入力して色々計算してみよう**\n",
    "\n",
    "(1) a, b, cに inputを使って数値に代入できるようにしよう\n",
    "\n",
    "(2) (1) で入れた a と b を足して変数「total」に入れて print で出力しよう\n",
    "\n",
    "(3) (1)で入れたa, b, cを全部かけた値を「total2」に入れて print で出力しよう\n",
    "\n",
    "(4) (1)で入れたa, b, cを a時間b分c秒 と考えて，全部で何分か計算して 変数「minutes」に入れて出力しよう\n",
    "\n",
    "(5) (4)変数「minutes」から a, b, cを逆算してそれぞれ出力しよう"
   ]
  },
  {
   "cell_type": "code",
   "execution_count": 12,
   "metadata": {},
   "outputs": [
    {
     "ename": "SyntaxError",
     "evalue": "invalid syntax (3090770677.py, line 3)",
     "output_type": "error",
     "traceback": [
      "\u001b[1;36m  Input \u001b[1;32mIn [12]\u001b[1;36m\u001b[0m\n\u001b[1;33m    a =\u001b[0m\n\u001b[1;37m        ^\u001b[0m\n\u001b[1;31mSyntaxError\u001b[0m\u001b[1;31m:\u001b[0m invalid syntax\n"
     ]
    }
   ],
   "source": [
    "#1\n",
    "### ここから ###\n",
    "a = \n",
    "b = \n",
    "c = \n",
    "### ここまでに書こう ###\n",
    "print(f\"a: {a}\")\n",
    "print(f\"b: {b}\")\n",
    "print(f\"c: {c}\")\n",
    "\n",
    "#2\n",
    "### ここから ###\n",
    "\n",
    "### ここまでに書こう ###\n",
    "print(f\"total: {total}\")\n",
    "\n",
    "#3\n",
    "### ここから ###\n",
    "\n",
    "### ここまでに書こう ###\n",
    "print(f\"total2: {total2}\")\n",
    "\n",
    "#4\n",
    "### ここから ###\n",
    "\n",
    "### ここまでに書こう ###\n",
    "print(f\"minutes: {minutes}\")\n",
    "\n",
    "#5\n",
    "del a\n",
    "del b\n",
    "del c\n",
    "### ここから ###\n",
    "\n",
    "### ここまでに書こう ###\n",
    "print(f\"a: {a}\")\n",
    "print(f\"b: {b}\")\n",
    "print(f\"c: {c}\")"
   ]
  },
  {
   "cell_type": "code",
   "execution_count": null,
   "metadata": {},
   "outputs": [],
   "source": []
  },
  {
   "cell_type": "code",
   "execution_count": null,
   "metadata": {},
   "outputs": [],
   "source": []
  }
 ],
 "metadata": {
  "kernelspec": {
   "display_name": "Python 3",
   "language": "python",
   "name": "python3"
  },
  "language_info": {
   "codemirror_mode": {
    "name": "ipython",
    "version": 3
   },
   "file_extension": ".py",
   "mimetype": "text/x-python",
   "name": "python",
   "nbconvert_exporter": "python",
   "pygments_lexer": "ipython3",
   "version": "3.9.6"
  },
  "orig_nbformat": 4
 },
 "nbformat": 4,
 "nbformat_minor": 2
}
