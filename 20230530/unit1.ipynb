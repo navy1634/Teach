{
 "cells": [
  {
   "attachments": {},
   "cell_type": "markdown",
   "id": "e76512ae",
   "metadata": {},
   "source": [
    "## プログラミング"
   ]
  },
  {
   "attachments": {},
   "cell_type": "markdown",
   "id": "a4917b05",
   "metadata": {},
   "source": [
    "### 操作方法　"
   ]
  },
  {
   "cell_type": "code",
   "execution_count": 1,
   "id": "29824cb9",
   "metadata": {},
   "outputs": [
    {
     "name": "stdout",
     "output_type": "stream",
     "text": [
      "Hello World !\n"
     ]
    }
   ],
   "source": [
    "print(\"Hello World !\")"
   ]
  },
  {
   "attachments": {},
   "cell_type": "markdown",
   "id": "5d281f86",
   "metadata": {},
   "source": [
    "### 出力\n",
    "\n",
    "値を出力する方法は2通りある\n",
    "1. 対話モード\n",
    "    - コマンドプロンプト等で用いる\n",
    "    - インタープリタ言語の特長\n",
    "2. 標準出力\n",
    "    - print文 を用いる\n",
    "\n",
    "※ Jupyter Notebook だと違いが分からないかも\n"
   ]
  },
  {
   "cell_type": "code",
   "execution_count": 2,
   "id": "b980472b",
   "metadata": {},
   "outputs": [
    {
     "data": {
      "text/plain": [
       "'Hello'"
      ]
     },
     "execution_count": 2,
     "metadata": {},
     "output_type": "execute_result"
    }
   ],
   "source": [
    "# 対話モード\n",
    "\"Hello\""
   ]
  },
  {
   "cell_type": "code",
   "execution_count": 4,
   "id": "50380a4b",
   "metadata": {},
   "outputs": [
    {
     "name": "stdout",
     "output_type": "stream",
     "text": [
      "Hello!!\n",
      "World!!\n"
     ]
    }
   ],
   "source": [
    "# 標準出力\n",
    "# 文字列や数値などをprint()関数の引数に渡すとその値が出力される。\n",
    "print(\"Hello!!\")\n",
    "\n",
    "# ちなみに ← の '#' は、処理に関係ないコメントを書くときに使います \n",
    "# 行頭に '#' を置き、その行を無視させる（コメントアウトする）こともよく行われます。\n",
    "# print(\"この処理は動きません\")\n",
    "print(\"World!!\")\n"
   ]
  },
  {
   "cell_type": "code",
   "execution_count": 5,
   "id": "71c89843",
   "metadata": {},
   "outputs": [
    {
     "name": "stdout",
     "output_type": "stream",
     "text": [
      "こんにちは\n",
      "1 2 3 4 5 6 7 8 9\n"
     ]
    }
   ],
   "source": [
    "# 日本語\n",
    "print(\"こんにちは\")\n",
    "\n",
    "# 複数\n",
    "print(1, 2, 3, 4, 5, 6, 7, 8, 9)\n"
   ]
  },
  {
   "attachments": {},
   "cell_type": "markdown",
   "id": "dfc5c063",
   "metadata": {},
   "source": [
    "### 数値\n",
    "\n",
    "|計算|演算子|\n",
    "|-|-|\n",
    "|足し算|+|\n",
    "|引き算|-|\n",
    "|掛け算|*|\n",
    "|累乗|**|\n",
    "|割り算1|/|\n",
    "|割り算2|//|\n",
    "|余り|%|\n"
   ]
  },
  {
   "cell_type": "code",
   "execution_count": 2,
   "id": "192a8371",
   "metadata": {},
   "outputs": [
    {
     "data": {
      "text/plain": [
       "2"
      ]
     },
     "execution_count": 2,
     "metadata": {},
     "output_type": "execute_result"
    }
   ],
   "source": [
    "# 四則演算\n",
    "1 + 1"
   ]
  },
  {
   "cell_type": "code",
   "execution_count": 10,
   "id": "6c31a5dc",
   "metadata": {},
   "outputs": [
    {
     "name": "stdout",
     "output_type": "stream",
     "text": [
      "2\n"
     ]
    }
   ],
   "source": [
    "# 基本的にはこっちをつかってください\n",
    "print(1 + 1)"
   ]
  },
  {
   "attachments": {},
   "cell_type": "markdown",
   "id": "15be9410",
   "metadata": {},
   "source": [
    "#### 四則演算"
   ]
  },
  {
   "cell_type": "code",
   "execution_count": 15,
   "id": "fcbb4bde",
   "metadata": {},
   "outputs": [
    {
     "name": "stdout",
     "output_type": "stream",
     "text": [
      "3 + 2 =  5\n",
      "3 - 2 =  1\n",
      "3 × 2 =  6\n",
      "3 ÷ 2 =  1.5\n",
      "3 % 2 =  1\n"
     ]
    }
   ],
   "source": [
    "# 足し算\n",
    "print(\"3 + 2 = \", 3 + 2)\n",
    "\n",
    "# 引き算\n",
    "print(\"3 - 2 = \", 3 - 2)\n",
    "\n",
    "# 掛け算\n",
    "print(\"3 × 2 = \", 3 * 2)\n",
    "\n",
    "# 割り算(商)\n",
    "print(\"3 ÷ 2 = \", 3 / 2)\n",
    "\n",
    "# 割り算(余り)\n",
    "print(\"3 % 2 = \", 3 % 2)\n",
    "\n",
    "# 割り算 (2)\n",
    "print(\"3 ÷ 2 = \", 3 // 2)"
   ]
  },
  {
   "attachments": {},
   "cell_type": "markdown",
   "id": "e4721be8",
   "metadata": {},
   "source": [
    "#### 計算の優先順位\n",
    "\n",
    "数学で学ぶ優先順位と同じ"
   ]
  },
  {
   "cell_type": "code",
   "execution_count": 4,
   "id": "6d645113",
   "metadata": {},
   "outputs": [
    {
     "name": "stdout",
     "output_type": "stream",
     "text": [
      "2 + 3 * 5 =  17\n",
      "(2 + 3) * 5 =  25\n"
     ]
    }
   ],
   "source": [
    "# 計算の優先順位\n",
    "print(\"2 + 3 * 5 = \", 2 + 3 * 5)\n",
    "print(\"(2 + 3) * 5 = \", (2 + 3) * 5)\n"
   ]
  },
  {
   "cell_type": "code",
   "execution_count": 3,
   "id": "5407ac08",
   "metadata": {},
   "outputs": [
    {
     "name": "stdout",
     "output_type": "stream",
     "text": [
      "5\n",
      "7.5\n"
     ]
    }
   ],
   "source": [
    "# 細かい仕様\n",
    "\n",
    "# 負の数\n",
    "print(3 - -2)\n",
    "\n",
    "# 小数\n",
    "print(3 * 2.5)\n"
   ]
  },
  {
   "attachments": {},
   "cell_type": "markdown",
   "id": "12a921a7",
   "metadata": {},
   "source": [
    "#### 1-1\n",
    "以下の式をプログラムを用いて計算してください  \n",
    "(1) $$4 × 2 - 3 + 5 ÷ 2$$  \n",
    "(2) $$ ( 2.5 - 1.4 )×( 17 + 13 )$$  \n",
    "(3) $$3741 ÷ 71 の余り$$   \n",
    "(4) $$3 ^ 8$$\n"
   ]
  },
  {
   "cell_type": "code",
   "execution_count": null,
   "id": "4013f33b",
   "metadata": {},
   "outputs": [],
   "source": [
    "## 回答欄\n",
    "\n"
   ]
  },
  {
   "attachments": {},
   "cell_type": "markdown",
   "id": "95ad1ae3",
   "metadata": {},
   "source": [
    "#### 1-2\n",
    "2023 ÷ 9 の整数部分をプログラムを用いて算出してください"
   ]
  },
  {
   "cell_type": "code",
   "execution_count": null,
   "id": "ed00383b",
   "metadata": {},
   "outputs": [
    {
     "data": {
      "text/plain": [
       "224"
      ]
     },
     "metadata": {},
     "output_type": "display_data"
    }
   ],
   "source": [
    "## 回答欄\n",
    "\n"
   ]
  },
  {
   "attachments": {},
   "cell_type": "markdown",
   "id": "bc2ddfa5",
   "metadata": {},
   "source": [
    "#### 強制中断"
   ]
  },
  {
   "cell_type": "code",
   "execution_count": 12,
   "id": "6b7f51c7",
   "metadata": {},
   "outputs": [],
   "source": [
    "10 ** 123456789"
   ]
  },
  {
   "attachments": {},
   "cell_type": "markdown",
   "id": "2ebc82db",
   "metadata": {},
   "source": [
    "#### エラー"
   ]
  },
  {
   "cell_type": "code",
   "execution_count": 4,
   "id": "1b5671bb",
   "metadata": {},
   "outputs": [
    {
     "ename": "ZeroDivisionError",
     "evalue": "division by zero",
     "output_type": "error",
     "traceback": [
      "\u001b[1;31m---------------------------------------------------------------------------\u001b[0m",
      "\u001b[1;31mZeroDivisionError\u001b[0m                         Traceback (most recent call last)",
      "\u001b[1;32mg:\\マイドライブ\\4回前期\\県大付属中\\Teach\\20230530\\unit1.ipynb セル 28\u001b[0m in \u001b[0;36m1\n\u001b[1;32m----> <a href='vscode-notebook-cell:/g%3A/%E3%83%9E%E3%82%A4%E3%83%89%E3%83%A9%E3%82%A4%E3%83%96/4%E5%9B%9E%E5%89%8D%E6%9C%9F/%E7%9C%8C%E5%A4%A7%E4%BB%98%E5%B1%9E%E4%B8%AD/Teach/20230530/unit1.ipynb#Y135sZmlsZQ%3D%3D?line=0'>1</a>\u001b[0m \u001b[39m1\u001b[39;49m \u001b[39m/\u001b[39;49m \u001b[39m0\u001b[39;49m\n",
      "\u001b[1;31mZeroDivisionError\u001b[0m: division by zero"
     ]
    }
   ],
   "source": [
    "# 0 で割ってみる\n",
    "1 / 0"
   ]
  },
  {
   "cell_type": "code",
   "execution_count": 21,
   "id": "3e8776a6",
   "metadata": {},
   "outputs": [
    {
     "ename": "SyntaxError",
     "evalue": "leading zeros in decimal integer literals are not permitted; use an 0o prefix for octal integers (3393370104.py, line 1)",
     "output_type": "error",
     "traceback": [
      "\u001b[1;36m  Cell \u001b[1;32mIn [21], line 1\u001b[1;36m\u001b[0m\n\u001b[1;33m    05 + 6\u001b[0m\n\u001b[1;37m    ^\u001b[0m\n\u001b[1;31mSyntaxError\u001b[0m\u001b[1;31m:\u001b[0m leading zeros in decimal integer literals are not permitted; use an 0o prefix for octal integers\n"
     ]
    }
   ],
   "source": [
    "# リーディングゼロ\n",
    "05 + 6"
   ]
  },
  {
   "attachments": {},
   "cell_type": "markdown",
   "id": "4fe13732",
   "metadata": {},
   "source": [
    "### 文字列\n",
    "\n",
    "「\"  \"」 or 「'  '」で囲むと`文字列`として扱われます\n"
   ]
  },
  {
   "cell_type": "code",
   "execution_count": 1,
   "id": "82a7f9d8",
   "metadata": {},
   "outputs": [
    {
     "name": "stdout",
     "output_type": "stream",
     "text": [
      "文字列\n",
      "string\n",
      "2023/05/30\n"
     ]
    }
   ],
   "source": [
    "print(\"文字列\")\n",
    "print(\"string\")\n",
    "print(\"2023/05/30\")\n"
   ]
  },
  {
   "attachments": {},
   "cell_type": "markdown",
   "id": "b8cc2860",
   "metadata": {},
   "source": [
    "#### 1-3\n",
    "以下の文章を```print文```で出力するプログラムを作成してください\n",
    "\n",
    "`Alice: \"It's not my pen.\"`\n"
   ]
  },
  {
   "cell_type": "code",
   "execution_count": 9,
   "id": "ae25f8b2",
   "metadata": {},
   "outputs": [],
   "source": [
    "# 回答欄\n"
   ]
  },
  {
   "attachments": {},
   "cell_type": "markdown",
   "id": "ff5fade0",
   "metadata": {},
   "source": [
    "#### 特殊な文字\n",
    "\n",
    "エスケープシーケンス\n",
    "例\n",
    " - \\n : 改行\n",
    " - \\t : tab\n",
    " - \\\\' : シングルクォーテーション\n",
    " - \\\\\" : ダブルクォーテーション\n",
    " - \\\\\\\\ : バックスラッシュ\n",
    "\n",
    "\n",
    "参考 : [URL](https://www.javadrive.jp/python/string/index2.html)"
   ]
  },
  {
   "cell_type": "code",
   "execution_count": 16,
   "id": "c051f37a",
   "metadata": {},
   "outputs": [
    {
     "name": "stdout",
     "output_type": "stream",
     "text": [
      "a\\ef\n"
     ]
    }
   ],
   "source": [
    "print(\"a\\ef\")\n"
   ]
  },
  {
   "attachments": {},
   "cell_type": "markdown",
   "id": "e0bdeedc",
   "metadata": {},
   "source": [
    "#### 改行\n",
    "\n",
    "1. 「\\\\」を用いる\n",
    "\n",
    "2. 「\"\"\"」で囲む\n",
    "\n",
    "3. 2回に分ける\n"
   ]
  },
  {
   "cell_type": "code",
   "execution_count": null,
   "id": "e1e88620",
   "metadata": {},
   "outputs": [],
   "source": [
    "\"\""
   ]
  },
  {
   "cell_type": "code",
   "execution_count": null,
   "id": "60672d6b",
   "metadata": {},
   "outputs": [],
   "source": [
    "\"\"\"\n",
    "\n",
    "\"\"\""
   ]
  },
  {
   "attachments": {},
   "cell_type": "markdown",
   "id": "7bcb3dd1",
   "metadata": {},
   "source": [
    "#### 1-3\n",
    "以下の文章を```print文```で出力するプログラムを作成してください\n",
    "\n",
    "`Alice: \"It's not my pen.\"`  \n",
    "`Bob : \"Oh...\"`"
   ]
  },
  {
   "cell_type": "code",
   "execution_count": null,
   "id": "b8d7773e",
   "metadata": {},
   "outputs": [],
   "source": [
    "# 回答欄\n",
    "\n"
   ]
  },
  {
   "attachments": {},
   "cell_type": "markdown",
   "id": "001719f4",
   "metadata": {},
   "source": [
    "### 文字列の演算\n",
    "\n",
    "#### やってみよう\n",
    "\n",
    "1. 文字と文字\n",
    "    1. 文字 + 文字\n",
    "    1. 文字 - 文字\n",
    "    1. 文字 * 文字\n",
    "    1. 文字 / 文字\n",
    "  \n",
    "2. 文字と数字\n",
    "    1. 文字 + 数字 (数字 + 文字)\n",
    "    1. 文字 - 数字 (数字 - 文字)\n",
    "    1. 文字 * 数字 (数字 * 文字)\n",
    "    1. 文字 / 数字 (数字 / 文字)\n"
   ]
  },
  {
   "cell_type": "code",
   "execution_count": null,
   "id": "310cbcd5",
   "metadata": {},
   "outputs": [],
   "source": [
    "# 回答欄\n"
   ]
  },
  {
   "cell_type": "code",
   "execution_count": null,
   "id": "9ec1e691",
   "metadata": {},
   "outputs": [],
   "source": []
  },
  {
   "attachments": {},
   "cell_type": "markdown",
   "id": "705b69f4",
   "metadata": {},
   "source": [
    "1. 連結\n",
    "    - \"+\" を用いることで複数の文字列を繋げることが可能\n",
    "    - 文字列 と 数字 を繋ぐことはできない\n",
    "2. 複数連結\n",
    "    - \"*\" を用いることで、同じ文字列を複数連結させる\n",
    "    - "
   ]
  },
  {
   "cell_type": "code",
   "execution_count": null,
   "id": "447e4fdb",
   "metadata": {},
   "outputs": [],
   "source": [
    "# 文字 + 文字\n",
    "\"\" + \"\"\n"
   ]
  },
  {
   "cell_type": "code",
   "execution_count": null,
   "id": "ede96e06",
   "metadata": {},
   "outputs": [],
   "source": [
    "# 文字 * 数字\n",
    "\"\" * 5\n"
   ]
  },
  {
   "attachments": {},
   "cell_type": "markdown",
   "id": "2b40c6b1",
   "metadata": {},
   "source": [
    "#### 答え"
   ]
  },
  {
   "cell_type": "code",
   "execution_count": 24,
   "id": "3c4520a4",
   "metadata": {},
   "outputs": [
    {
     "ename": "TypeError",
     "evalue": "can't multiply sequence by non-int of type 'str'",
     "output_type": "error",
     "traceback": [
      "\u001b[1;31m---------------------------------------------------------------------------\u001b[0m",
      "\u001b[1;31mTypeError\u001b[0m                                 Traceback (most recent call last)",
      "\u001b[1;32mg:\\マイドライブ\\4回前期\\県大付属中\\Teach\\20230530\\unit1.ipynb セル 40\u001b[0m in \u001b[0;36m2\n\u001b[0;32m      <a href='vscode-notebook-cell:/g%3A/%E3%83%9E%E3%82%A4%E3%83%89%E3%83%A9%E3%82%A4%E3%83%96/4%E5%9B%9E%E5%89%8D%E6%9C%9F/%E7%9C%8C%E5%A4%A7%E4%BB%98%E5%B1%9E%E4%B8%AD/Teach/20230530/unit1.ipynb#Y151sZmlsZQ%3D%3D?line=0'>1</a>\u001b[0m \u001b[39m# 文字 ÷ 文字\u001b[39;00m\n\u001b[1;32m----> <a href='vscode-notebook-cell:/g%3A/%E3%83%9E%E3%82%A4%E3%83%89%E3%83%A9%E3%82%A4%E3%83%96/4%E5%9B%9E%E5%89%8D%E6%9C%9F/%E7%9C%8C%E5%A4%A7%E4%BB%98%E5%B1%9E%E4%B8%AD/Teach/20230530/unit1.ipynb#Y151sZmlsZQ%3D%3D?line=1'>2</a>\u001b[0m \u001b[39mprint\u001b[39m(\u001b[39m\"\u001b[39;49m\u001b[39m文字\u001b[39;49m\u001b[39m\"\u001b[39;49m \u001b[39m*\u001b[39;49m \u001b[39m\"\u001b[39;49m\u001b[39m文字\u001b[39;49m\u001b[39m\"\u001b[39;49m)\n",
      "\u001b[1;31mTypeError\u001b[0m: can't multiply sequence by non-int of type 'str'"
     ]
    }
   ],
   "source": [
    "# 文字 + 文字\n",
    "print(\"文字\" + \"文字\")\n",
    "\n",
    "# 文字 - 文字\n",
    "# print(\"文字\" - \"文字\")\n",
    "\n",
    "# 文字 * 文字\n",
    "# print(\"文字\" * \"文字\")\n",
    "\n",
    "# 文字 ÷ 文字\n",
    "# print(\"文字\" / \"文字\")"
   ]
  },
  {
   "cell_type": "code",
   "execution_count": 27,
   "id": "b83950a3",
   "metadata": {},
   "outputs": [
    {
     "ename": "TypeError",
     "evalue": "unsupported operand type(s) for /: 'str' and 'int'",
     "output_type": "error",
     "traceback": [
      "\u001b[1;31m---------------------------------------------------------------------------\u001b[0m",
      "\u001b[1;31mTypeError\u001b[0m                                 Traceback (most recent call last)",
      "\u001b[1;32mg:\\マイドライブ\\4回前期\\県大付属中\\Teach\\20230530\\unit1.ipynb セル 41\u001b[0m in \u001b[0;36m1\n\u001b[1;32m----> <a href='vscode-notebook-cell:/g%3A/%E3%83%9E%E3%82%A4%E3%83%89%E3%83%A9%E3%82%A4%E3%83%96/4%E5%9B%9E%E5%89%8D%E6%9C%9F/%E7%9C%8C%E5%A4%A7%E4%BB%98%E5%B1%9E%E4%B8%AD/Teach/20230530/unit1.ipynb#Y153sZmlsZQ%3D%3D?line=0'>1</a>\u001b[0m \u001b[39m\"\u001b[39;49m\u001b[39m123\u001b[39;49m\u001b[39m\"\u001b[39;49m \u001b[39m/\u001b[39;49m \u001b[39m4\u001b[39;49m\n",
      "\u001b[1;31mTypeError\u001b[0m: unsupported operand type(s) for /: 'str' and 'int'"
     ]
    }
   ],
   "source": [
    "# 文字 + 数字\n",
    "print(\"123\" + 456)\n",
    "\n",
    "# 文字 - 数字\n",
    "# print(\"123\" - 456)\n",
    "\n",
    "# 文字 * 数字\n",
    "# print(\"123\" * 4)\n",
    "\n",
    "# 文字 / 数字\n",
    "# print(\"123\" / 456)\n"
   ]
  },
  {
   "attachments": {},
   "cell_type": "markdown",
   "id": "555ab517",
   "metadata": {},
   "source": [
    "#### 1‐4\n"
   ]
  },
  {
   "cell_type": "code",
   "execution_count": null,
   "id": "e8d2c8c2",
   "metadata": {},
   "outputs": [],
   "source": [
    "# 回答欄\n"
   ]
  },
  {
   "attachments": {},
   "cell_type": "markdown",
   "id": "8f7af089",
   "metadata": {},
   "source": [
    "### 基本問題 解答"
   ]
  },
  {
   "cell_type": "code",
   "execution_count": 37,
   "id": "e338645d",
   "metadata": {},
   "outputs": [
    {
     "name": "stdout",
     "output_type": "stream",
     "text": [
      "7.5\n",
      "33.0\n",
      "49\n",
      "6561\n"
     ]
    }
   ],
   "source": [
    "# 1-1\n",
    "print(4 * 2 - 3 + 5 / 2)\n",
    "print((2.5 - 1.4) * (17 + 13))\n",
    "print(3741 % 71)\n",
    "print(3 ** 8)\n",
    "\n",
    "# 1-2\n",
    "print(2023 // 9)\n",
    "\n",
    "# 1-3\n",
    "print('Alice: \"It\\'s not my pen.\"')\n"
   ]
  },
  {
   "cell_type": "markdown",
   "id": "f06ca592",
   "metadata": {},
   "source": [
    "### 発展問題"
   ]
  },
  {
   "cell_type": "markdown",
   "id": "814d3cfb",
   "metadata": {},
   "source": []
  },
  {
   "attachments": {},
   "cell_type": "markdown",
   "id": "fcf7e269",
   "metadata": {},
   "source": [
    "#### 2-2\n",
    "小数部分を求めてください\n"
   ]
  },
  {
   "cell_type": "code",
   "execution_count": null,
   "id": "4dc3122d",
   "metadata": {},
   "outputs": [],
   "source": []
  },
  {
   "attachments": {},
   "cell_type": "markdown",
   "id": "5ded0f3e",
   "metadata": {},
   "source": [
    "#### 2-3\n",
    "\n"
   ]
  },
  {
   "cell_type": "code",
   "execution_count": null,
   "id": "b8b6ff77",
   "metadata": {},
   "outputs": [],
   "source": []
  },
  {
   "attachments": {},
   "cell_type": "markdown",
   "id": "cd78bad8",
   "metadata": {},
   "source": [
    "#### 2-4"
   ]
  },
  {
   "cell_type": "markdown",
   "id": "1b1272b5",
   "metadata": {},
   "source": [
    "#### 2-5"
   ]
  },
  {
   "cell_type": "code",
   "execution_count": null,
   "id": "d7882f95",
   "metadata": {},
   "outputs": [],
   "source": []
  },
  {
   "cell_type": "code",
   "execution_count": null,
   "id": "eee1e455",
   "metadata": {},
   "outputs": [],
   "source": []
  },
  {
   "cell_type": "code",
   "execution_count": null,
   "id": "70973423",
   "metadata": {},
   "outputs": [],
   "source": []
  },
  {
   "attachments": {},
   "cell_type": "markdown",
   "id": "bbcb76da",
   "metadata": {},
   "source": [
    "### 余談\n",
    "#### 色々な出力方法"
   ]
  },
  {
   "attachments": {},
   "cell_type": "markdown",
   "id": "ab48b8a7",
   "metadata": {},
   "source": [
    "##### 1. print文のあれこれ"
   ]
  },
  {
   "cell_type": "code",
   "execution_count": 29,
   "id": "1a5ecee4",
   "metadata": {},
   "outputs": [
    {
     "name": "stdout",
     "output_type": "stream",
     "text": [
      "Chrome OS, Windows\n",
      "Mac OS\n"
     ]
    }
   ],
   "source": [
    "print(\"Windows\")\n",
    "print(\"Mac OS\", end=\", \")\n",
    "print(\"Chrome OS\")\n"
   ]
  },
  {
   "cell_type": "code",
   "execution_count": 45,
   "id": "9076444a",
   "metadata": {},
   "outputs": [
    {
     "name": "stdout",
     "output_type": "stream",
     "text": [
      "Python_and_C_and_C++_and_Java\n"
     ]
    }
   ],
   "source": [
    "print(\"Python\", \"C\", \"C++\", \"Java\", sep='_and_')"
   ]
  },
  {
   "attachments": {},
   "cell_type": "markdown",
   "id": "92e90a89",
   "metadata": {},
   "source": [
    "##### 2. ```fotmat()```"
   ]
  },
  {
   "cell_type": "code",
   "execution_count": 55,
   "id": "bd5095ef",
   "metadata": {},
   "outputs": [
    {
     "name": "stdout",
     "output_type": "stream",
     "text": [
      "私の趣味は プログラミング です\n",
      "Alice is 14 years old.\n",
      "Python, Swift, JavaScript and Kotlin\n"
     ]
    }
   ],
   "source": [
    "print(\"私の趣味は {} です\".format(\"プログラミング\"))\n",
    "\n",
    "print(\"{} is {} years old.\".format(\"Alice\", 14))\n",
    "\n",
    "print(\"{0}, {2}, {1} and {3}\".format(\"Python\", \"JavaScript\", \"Swift\", \"Kotlin\"))\n"
   ]
  },
  {
   "cell_type": "code",
   "execution_count": 41,
   "id": "008ea8dc",
   "metadata": {},
   "outputs": [
    {
     "name": "stdout",
     "output_type": "stream",
     "text": [
      "左寄せ     : 57      \n",
      "中央寄せ   :    57   \n",
      "右寄せ     :       57\n",
      "ゼロ埋め   : 00000057\n",
      "小数第2位まで   : 3.1\n",
      "小数第6位まで   : 3.141500\n",
      "百分率で        : 314%\n"
     ]
    }
   ],
   "source": [
    "print('左寄せ     : {:<8}'.format(57))\n",
    "print('中央寄せ   : {:^8}'.format(57))\n",
    "print('右寄せ     : {:>8}'.format(57))\n",
    "print('ゼロ埋め   : {:08}'.format(57))\n",
    "\n",
    "print('小数第2位まで   : {:.2}'.format(3.1415))\n",
    "print('小数第6位まで   : {:.6f}'.format(3.1415))\n",
    "print('百分率で        : {:.0%}'.format(3.1415))\n"
   ]
  },
  {
   "attachments": {},
   "cell_type": "markdown",
   "id": "18fa1ffd",
   "metadata": {},
   "source": [
    "##### 3. ```f文字列```\n",
    "\n",
    "\n",
    "\n"
   ]
  },
  {
   "cell_type": "code",
   "execution_count": 42,
   "id": "c25ae492",
   "metadata": {},
   "outputs": [
    {
     "name": "stdout",
     "output_type": "stream",
     "text": [
      "1 + 2 = 3\n"
     ]
    }
   ],
   "source": [
    "print(f\"1 + 2 = {1 + 2}\")"
   ]
  },
  {
   "cell_type": "code",
   "execution_count": 48,
   "id": "d06617cf",
   "metadata": {},
   "outputs": [
    {
     "name": "stdout",
     "output_type": "stream",
     "text": [
      "2.7100 is 271.00%\n",
      "2.7100 is 271.00%\n"
     ]
    }
   ],
   "source": [
    "# f文字列とformat文の互換\n",
    "print('{0:.4f} is {0:.2%}'.format(2.71))\n",
    "\n",
    "print(f'{2.71 :.4f} is {2.71 :.2%}')\n"
   ]
  },
  {
   "cell_type": "code",
   "execution_count": 20,
   "id": "e6507f71",
   "metadata": {},
   "outputs": [
    {
     "name": "stdout",
     "output_type": "stream",
     "text": [
      "bs\n"
     ]
    }
   ],
   "source": [
    "print('a\\rbs')"
   ]
  },
  {
   "attachments": {},
   "cell_type": "markdown",
   "id": "bad3243d",
   "metadata": {},
   "source": [
    "fin"
   ]
  }
 ],
 "metadata": {
  "kernelspec": {
   "display_name": "Python 3 (ipykernel)",
   "language": "python",
   "name": "python3"
  },
  "language_info": {
   "codemirror_mode": {
    "name": "ipython",
    "version": 3
   },
   "file_extension": ".py",
   "mimetype": "text/x-python",
   "name": "python",
   "nbconvert_exporter": "python",
   "pygments_lexer": "ipython3",
   "version": "3.10.7"
  }
 },
 "nbformat": 4,
 "nbformat_minor": 5
}
