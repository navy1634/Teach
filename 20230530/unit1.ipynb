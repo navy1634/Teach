{
  "cells": [
    {
      "cell_type": "markdown",
      "id": "e76512ae",
      "metadata": {
        "id": "e76512ae"
      },
      "source": [
        "# プログラミング"
      ]
    },
    {
      "cell_type": "markdown",
      "id": "a4917b05",
      "metadata": {
        "id": "a4917b05"
      },
      "source": [
        "## 操作方法"
      ]
    },
    {
      "cell_type": "code",
      "execution_count": null,
      "id": "29824cb9",
      "metadata": {
        "id": "29824cb9"
      },
      "outputs": [],
      "source": [
        "print(\"Hello World !\")"
      ]
    },
    {
      "attachments": {},
      "cell_type": "markdown",
      "id": "5d281f86",
      "metadata": {
        "id": "5d281f86"
      },
      "source": [
        "## 出力\n",
        "\n",
        "値を出力する方法は2通り\n",
        "1. 対話モード\n",
        "    - コマンドプロンプト等で用いる\n",
        "2. 標準出力\n",
        "    - print文 を用いる\n",
        "\n",
        "※ Jupyter Notebook だと違いが分からないかも...?\n"
      ]
    },
    {
      "cell_type": "code",
      "execution_count": null,
      "id": "b980472b",
      "metadata": {
        "id": "b980472b"
      },
      "outputs": [],
      "source": [
        "# 対話モード\n",
        "\"Hello\""
      ]
    },
    {
      "cell_type": "code",
      "execution_count": null,
      "id": "50380a4b",
      "metadata": {
        "id": "50380a4b"
      },
      "outputs": [],
      "source": [
        "# 標準出力\n",
        "# 文字列や数値などをprint()に渡すとその値が出力される。\n",
        "print(\"Hello!!\")\n",
        "\n",
        "# ちなみに ← の '#' は、処理に関係ないコメントを書くときに使います \n",
        "# 行頭に '#' を置き、その行を無視させる（コメントアウトする）ことも\n",
        "# print(\"この処理は動きません\")\n",
        "print(\"World!!\")\n"
      ]
    },
    {
      "cell_type": "code",
      "execution_count": null,
      "id": "71c89843",
      "metadata": {
        "id": "71c89843"
      },
      "outputs": [],
      "source": [
        "# 日本語\n",
        "print(\"こんにちは\")\n",
        "\n",
        "# 複数\n",
        "print(1, 2, 3, 4, 5, 6, 7, 8, 9)\n"
      ]
    },
    {
      "attachments": {},
      "cell_type": "markdown",
      "id": "e5477279",
      "metadata": {},
      "source": [
        "### 1-1\n",
        "好きな言葉を書いてみよう\n"
      ]
    },
    {
      "cell_type": "code",
      "execution_count": null,
      "id": "Dsd0g_lsTIMS",
      "metadata": {
        "id": "Dsd0g_lsTIMS"
      },
      "outputs": [],
      "source": [
        "# 回答欄\n"
      ]
    },
    {
      "attachments": {},
      "cell_type": "markdown",
      "id": "dfc5c063",
      "metadata": {
        "id": "dfc5c063"
      },
      "source": [
        "### 数値\n",
        "\n",
        "- 数学と同じ点\n",
        "    - 計算方法\n",
        "    - 計算順序\n",
        "    - 計算法則\n",
        "\n",
        "- 数学と違う点\n",
        "    - 演算子\n",
        "\n",
        "\n",
        "|計算|演算子|\n",
        "|-|-|\n",
        "|足し算|+|\n",
        "|引き算|-|\n",
        "|掛け算|*|\n",
        "|累乗|**|\n",
        "|割り算1|/|\n",
        "|割り算2|//|\n",
        "|余り|%|\n"
      ]
    },
    {
      "cell_type": "code",
      "execution_count": null,
      "id": "192a8371",
      "metadata": {
        "id": "192a8371"
      },
      "outputs": [],
      "source": [
        "# 四則演算\n",
        "1 + 1"
      ]
    },
    {
      "cell_type": "code",
      "execution_count": null,
      "id": "6c31a5dc",
      "metadata": {
        "id": "6c31a5dc"
      },
      "outputs": [],
      "source": [
        "# 基本的にはこっちをつかってください\n",
        "print(1 + 1)"
      ]
    },
    {
      "cell_type": "markdown",
      "id": "15be9410",
      "metadata": {
        "id": "15be9410"
      },
      "source": [
        "### 四則演算"
      ]
    },
    {
      "cell_type": "code",
      "execution_count": null,
      "id": "fcbb4bde",
      "metadata": {
        "id": "fcbb4bde"
      },
      "outputs": [],
      "source": [
        "# 足し算\n",
        "print(\"3 + 2 = \", 3 + 2)\n",
        "\n",
        "# 引き算\n",
        "print(\"3 - 2 = \", 3 - 2)\n",
        "\n",
        "# 掛け算\n",
        "print(\"3 × 2 = \", 3 * 2)\n",
        "\n",
        "# 割り算(商)\n",
        "print(\"3 ÷ 2 = \", 3 / 2)\n",
        "\n",
        "# 割り算(余り)\n",
        "print(\"3 % 2 = \", 3 % 2)\n",
        "\n",
        "# 割り算 (2)\n",
        "print(\"3 ÷ 2 = \", 3 // 2)"
      ]
    },
    {
      "cell_type": "markdown",
      "id": "e4721be8",
      "metadata": {
        "id": "e4721be8"
      },
      "source": [
        "### 計算の優先順位\n",
        "\n",
        "数学で学ぶ優先順位と同じ"
      ]
    },
    {
      "cell_type": "code",
      "execution_count": null,
      "id": "6d645113",
      "metadata": {
        "id": "6d645113"
      },
      "outputs": [],
      "source": [
        "# 計算の優先順位\n",
        "print(\"2 + 3 * 5 = \", 2 + 3 * 5)\n",
        "print(\"(2 + 3) * 5 = \", (2 + 3) * 5)\n"
      ]
    },
    {
      "cell_type": "code",
      "execution_count": null,
      "id": "5407ac08",
      "metadata": {
        "id": "5407ac08"
      },
      "outputs": [],
      "source": [
        "# 細かい仕様\n",
        "\n",
        "# 負の数\n",
        "print(3 - -2)\n",
        "\n",
        "# 小数\n",
        "print(3 * 2.5)\n"
      ]
    },
    {
      "attachments": {},
      "cell_type": "markdown",
      "id": "12a921a7",
      "metadata": {
        "id": "12a921a7"
      },
      "source": [
        "### 1-2\n",
        "以下の式をプログラムを用いて計算してください  \n",
        "(1) $$4 × 2 - 3 + 5 ÷ 2$$  \n",
        "(2) $$ ( 2.5 - 1.4 )×( 17 + 13 )$$  \n",
        "(3) $$3741 ÷ 71 の余り$$   \n",
        "(4) $$3 ^ 8$$\n"
      ]
    },
    {
      "cell_type": "code",
      "execution_count": null,
      "id": "4013f33b",
      "metadata": {
        "id": "4013f33b"
      },
      "outputs": [],
      "source": [
        "## 回答欄\n",
        "\n"
      ]
    },
    {
      "attachments": {},
      "cell_type": "markdown",
      "id": "95ad1ae3",
      "metadata": {
        "id": "95ad1ae3"
      },
      "source": [
        "### 1-3\n",
        "2023 ÷ 9 の整数部分をプログラムを用いて算出してください"
      ]
    },
    {
      "cell_type": "code",
      "execution_count": null,
      "id": "ed00383b",
      "metadata": {
        "id": "ed00383b"
      },
      "outputs": [],
      "source": [
        "## 回答欄\n",
        "\n"
      ]
    },
    {
      "cell_type": "markdown",
      "id": "bc2ddfa5",
      "metadata": {
        "id": "bc2ddfa5"
      },
      "source": [
        "### 強制中断"
      ]
    },
    {
      "cell_type": "code",
      "execution_count": null,
      "id": "6b7f51c7",
      "metadata": {
        "id": "6b7f51c7"
      },
      "outputs": [],
      "source": [
        "# 実行に時間がかかる数式\n",
        "10 ** 123456789"
      ]
    },
    {
      "cell_type": "markdown",
      "id": "2ebc82db",
      "metadata": {
        "id": "2ebc82db"
      },
      "source": [
        "### エラー"
      ]
    },
    {
      "cell_type": "code",
      "execution_count": null,
      "id": "1b5671bb",
      "metadata": {
        "collapsed": true,
        "id": "1b5671bb"
      },
      "outputs": [],
      "source": [
        "# 0 で割ってみる\n",
        "1 / 0"
      ]
    },
    {
      "cell_type": "code",
      "execution_count": null,
      "id": "3e8776a6",
      "metadata": {
        "id": "3e8776a6"
      },
      "outputs": [],
      "source": [
        "# リーディングゼロ\n",
        "05 + 6"
      ]
    },
    {
      "cell_type": "markdown",
      "id": "4fe13732",
      "metadata": {
        "id": "4fe13732"
      },
      "source": [
        "## 文字列\n",
        "\n",
        "「\"  \"」 or 「'  '」で囲むと`文字列`として扱われます\n"
      ]
    },
    {
      "cell_type": "code",
      "execution_count": null,
      "id": "82a7f9d8",
      "metadata": {
        "id": "82a7f9d8"
      },
      "outputs": [],
      "source": [
        "# 文字列 を 「\"」で囲む\n",
        "print(\"文字列\")\n",
        "print('string')\n",
        "print(\"2023/05/30\")\n"
      ]
    },
    {
      "attachments": {},
      "cell_type": "markdown",
      "id": "b8cc2860",
      "metadata": {
        "id": "b8cc2860"
      },
      "source": [
        "### 1-4\n",
        "以下の文章を```print文```で出力するプログラムを作成してください\n",
        "\n",
        "`Alice: \"It's not my pen.\"`\n"
      ]
    },
    {
      "cell_type": "code",
      "execution_count": null,
      "id": "ae25f8b2",
      "metadata": {
        "id": "ae25f8b2"
      },
      "outputs": [],
      "source": [
        "# 回答欄\n"
      ]
    },
    {
      "cell_type": "markdown",
      "id": "ff5fade0",
      "metadata": {
        "id": "ff5fade0"
      },
      "source": [
        "### 特殊な文字\n",
        "\n",
        "エスケープシーケンス\n",
        "例\n",
        " - \\n : 改行\n",
        " - \\t : tab\n",
        " - \\\\' : シングルクォーテーション\n",
        " - \\\\\" : ダブルクォーテーション\n",
        " - \\\\\\\\ : バックスラッシュ\n",
        "\n",
        "\n",
        "参考 : [URL](https://www.javadrive.jp/python/string/index2.html)"
      ]
    },
    {
      "cell_type": "code",
      "execution_count": null,
      "id": "c051f37a",
      "metadata": {
        "id": "c051f37a"
      },
      "outputs": [],
      "source": [
        "\n"
      ]
    },
    {
      "attachments": {},
      "cell_type": "markdown",
      "id": "e0bdeedc",
      "metadata": {
        "id": "e0bdeedc"
      },
      "source": [
        "### 改行\n",
        "\n",
        "1. 途中で区切ってもいい場合\n",
        "    1. 「\\n」を用いる\n",
        "    2. 2回に分ける\n",
        "    \n",
        "2. 途中で区切りたくない場合\n",
        "    1. 「\"\"\"」で囲む\n",
        "    2. 「\\\\」を用いる  \n",
        "    例) URL\n",
        "    "
      ]
    },
    {
      "cell_type": "code",
      "execution_count": null,
      "id": "e1e88620",
      "metadata": {
        "id": "e1e88620"
      },
      "outputs": [],
      "source": [
        "print(\"https://dmzcms.hyogo-c.ed.jp/kendai-hs/NC3/%E5%85%B5%E5%BA%AB%E7%9C%8C%E7%AB%8B%E5%A4%A7%E5%AD%A6%E9%99%84%E5%B1%9E%E4%B8%AD%E5%AD%A6%E6%A0%A1\")\n",
        "\n",
        "print(\"https://dmzcms.hyogo-c.ed.jp/kendai-hs/\" \\\n",
        "      \"NC3/%E5%85%B5%E5%BA%AB%E7%9C%8C%E7%AB%8B%E5%A4%A7%E5%AD%A6%E9%99%84%E5%B1%9E%E4%B8%AD%E5%AD%A6%E6%A0%A1\"\n",
        ")\n"
      ]
    },
    {
      "cell_type": "code",
      "execution_count": null,
      "id": "60672d6b",
      "metadata": {
        "id": "60672d6b"
      },
      "outputs": [],
      "source": [
        "print(\"\"\"\n",
        "このたびは\n",
        "幣も取りあへず\n",
        "手向山\n",
        "\"\"\", \n",
        "\"紅葉のにしき\\n神のまにまに\")\n"
      ]
    },
    {
      "attachments": {},
      "cell_type": "markdown",
      "id": "7bcb3dd1",
      "metadata": {
        "id": "7bcb3dd1"
      },
      "source": [
        "### 1-4\n",
        "以下の文章を```print文```で出力するプログラムを作成してください\n",
        "\n",
        "`Alice: \"It's not my pen.\"`  \n",
        "`Bob : \"Oh...\"`"
      ]
    },
    {
      "cell_type": "code",
      "execution_count": null,
      "id": "b8d7773e",
      "metadata": {
        "id": "b8d7773e"
      },
      "outputs": [],
      "source": [
        "# 回答欄\n",
        "\n"
      ]
    },
    {
      "attachments": {},
      "cell_type": "markdown",
      "id": "001719f4",
      "metadata": {
        "id": "001719f4"
      },
      "source": [
        "## 文字列の演算\n",
        "\n",
        "### 1-5 やってみよう\n",
        "\n",
        "1. 文字と文字\n",
        "    1. 文字 + 文字\n",
        "    1. 文字 - 文字\n",
        "    1. 文字 * 文字\n",
        "    1. 文字 / 文字\n",
        "  \n",
        "2. 文字と数字\n",
        "    1. 文字 + 数字 (数字 + 文字)\n",
        "    1. 文字 - 数字 (数字 - 文字)\n",
        "    1. 文字 * 数字 (数字 * 文字)\n",
        "    1. 文字 / 数字 (数字 / 文字)\n"
      ]
    },
    {
      "cell_type": "code",
      "execution_count": null,
      "id": "310cbcd5",
      "metadata": {
        "id": "310cbcd5"
      },
      "outputs": [],
      "source": [
        "# 回答欄\n"
      ]
    },
    {
      "cell_type": "code",
      "execution_count": null,
      "id": "9ec1e691",
      "metadata": {
        "id": "9ec1e691"
      },
      "outputs": [],
      "source": []
    },
    {
      "cell_type": "markdown",
      "id": "2b40c6b1",
      "metadata": {
        "id": "2b40c6b1"
      },
      "source": [
        "#### 答え"
      ]
    },
    {
      "cell_type": "code",
      "execution_count": null,
      "id": "3c4520a4",
      "metadata": {
        "id": "3c4520a4"
      },
      "outputs": [],
      "source": [
        "# 文字 + 文字\n",
        "print(\"文字\" + \"文字\")\n",
        "\n",
        "# 文字 - 文字\n",
        "# print(\"文字\" - \"文字\")\n",
        "\n",
        "# 文字 * 文字\n",
        "# print(\"文字\" * \"文字\")\n",
        "\n",
        "# 文字 ÷ 文字\n",
        "# print(\"文字\" / \"文字\")"
      ]
    },
    {
      "cell_type": "code",
      "execution_count": null,
      "id": "b83950a3",
      "metadata": {
        "id": "b83950a3"
      },
      "outputs": [],
      "source": [
        "# 文字 + 数字\n",
        "print(\"123\" + 456)\n",
        "\n",
        "# 文字 - 数字\n",
        "# print(\"123\" - 456)\n",
        "\n",
        "# 文字 * 数字\n",
        "# print(\"123\" * 4)\n",
        "\n",
        "# 文字 / 数字\n",
        "# print(\"123\" / 456)\n"
      ]
    },
    {
      "attachments": {},
      "cell_type": "markdown",
      "id": "2eba2ca8",
      "metadata": {},
      "source": [
        "1. 連結\n",
        "    - \"+\" を用いることで複数の文字列を繋げることが可能\n",
        "    - 文字列 と 数字 を繋ぐことはできない\n",
        "2. 複数連結\n",
        "    - \"*\" を用いることで、同じ文字列を複数連結させる\n"
      ]
    },
    {
      "attachments": {},
      "cell_type": "markdown",
      "id": "555ab517",
      "metadata": {
        "id": "555ab517"
      },
      "source": [
        "### 1‐6\n",
        "文字列で遊んでみてください"
      ]
    },
    {
      "cell_type": "code",
      "execution_count": null,
      "id": "e8d2c8c2",
      "metadata": {
        "id": "e8d2c8c2"
      },
      "outputs": [],
      "source": [
        "# 回答欄\n"
      ]
    },
    {
      "cell_type": "markdown",
      "id": "3b5181d7",
      "metadata": {},
      "source": [
        "### 基本問題 解答"
      ]
    },
    {
      "cell_type": "code",
      "execution_count": null,
      "id": "70973423",
      "metadata": {
        "id": "70973423"
      },
      "outputs": [],
      "source": [
        "# 1-2\n",
        "print(\"問1-2\")\n",
        "print(4 * 2 - 3 + 5 / 2)\n",
        "print((2.5 - 1.4) * (17 + 13))\n",
        "print(3741 % 71)\n",
        "print(3 ** 8)\n",
        "print()\n",
        "\n",
        "# 1-3\n",
        "print(\"問1-3\")\n",
        "print(2023 // 9)\n",
        "print()\n",
        "\n",
        "# 1-4\n",
        "print(\"問1-4\")\n",
        "print('Alice: \"It\\'s not my pen.\"')\n",
        "print()\n"
      ]
    },
    {
      "cell_type": "markdown",
      "id": "bbcb76da",
      "metadata": {
        "id": "bbcb76da"
      },
      "source": [
        "## 余談\n",
        "### 色々な出力方法"
      ]
    },
    {
      "attachments": {},
      "cell_type": "markdown",
      "id": "ab48b8a7",
      "metadata": {
        "id": "ab48b8a7"
      },
      "source": [
        "### 1. print文のあれこれ  \n",
        "\n",
        "1. `end`\n",
        "    - 出力した後(末尾)に出力するものを指定\n",
        "    - デフォルト: \"\\n\" 改行\n",
        "2. `sep`\n",
        "    - 複数のデータを出力する場合の区切り文字を指定\n",
        "    - デフォルト: \" \" (半角空白)"
      ]
    },
    {
      "cell_type": "code",
      "execution_count": null,
      "id": "1a5ecee4",
      "metadata": {
        "id": "1a5ecee4"
      },
      "outputs": [],
      "source": [
        "# print() に `end=\"\"`を設定すると\n",
        "print(\"Windows\")\n",
        "# 末尾に出力するものを指定できる\n",
        "print(\"Mac OS\", end=\", \")\n",
        "print(\"Chrome OS\")\n"
      ]
    },
    {
      "cell_type": "code",
      "execution_count": null,
      "id": "9076444a",
      "metadata": {
        "id": "9076444a"
      },
      "outputs": [],
      "source": [
        "# 複数出力する際の区切り文字を指定する\n",
        "print(\"Python\", \"C\", \"C++\", \"Java\", sep=\"_and_\")\n"
      ]
    },
    {
      "attachments": {},
      "cell_type": "markdown",
      "id": "92e90a89",
      "metadata": {
        "id": "92e90a89"
      },
      "source": [
        "### 2. ```fotmat()```\n",
        "文字列の中に数字や計算式を埋め込んで文字列を作る"
      ]
    },
    {
      "cell_type": "code",
      "execution_count": null,
      "id": "bd5095ef",
      "metadata": {
        "id": "bd5095ef"
      },
      "outputs": [],
      "source": [
        "# format() の () の中のものが {} に入る\n",
        "print(\"私の趣味は {} です\".format(\"プログラミング\"))\n",
        "\n",
        "# 複数ある場合は、前から順に\n",
        "print(\"{} is {} years old.\".format(\"Alice\", 14))\n",
        "\n",
        "# 位置を指定することもできる\n",
        "print(\"{0}, {2}, {1} and {3}\".format(\"Python\", \"JavaScript\", \"Swift\", \"Kotlin\"))\n"
      ]
    },
    {
      "cell_type": "code",
      "execution_count": null,
      "id": "008ea8dc",
      "metadata": {
        "id": "008ea8dc"
      },
      "outputs": [],
      "source": [
        "# 数字を扱う場合の特殊な表示方法\n",
        "print('左寄せ     : {:<8}'.format(57))\n",
        "print('中央寄せ   : {:^8}'.format(57))\n",
        "print('右寄せ     : {:>8}'.format(57))\n",
        "print('ゼロ埋め   : {:08}'.format(57))\n",
        "\n",
        "print('小数第2位まで   : {:.2}'.format(3.1415))\n",
        "print('小数第6位まで   : {:.6f}'.format(3.1415))\n",
        "print('百分率で        : {:.0%}'.format(3.1415))\n"
      ]
    },
    {
      "cell_type": "markdown",
      "id": "18fa1ffd",
      "metadata": {
        "id": "18fa1ffd"
      },
      "source": [
        "### 3. ```f文字列```\n",
        "\n",
        "\n",
        "\n"
      ]
    },
    {
      "cell_type": "code",
      "execution_count": null,
      "id": "c25ae492",
      "metadata": {
        "id": "c25ae492"
      },
      "outputs": [],
      "source": [
        "# 文字列の中で計算する\n",
        "print(f\"1 + 2 = {1 + 2}\")\n"
      ]
    },
    {
      "cell_type": "code",
      "execution_count": null,
      "id": "d06617cf",
      "metadata": {
        "id": "d06617cf"
      },
      "outputs": [],
      "source": [
        "# f文字列とformat文の互換\n",
        "print('{0:.4f} is {0:.2%}'.format(0.57))\n",
        "\n",
        "print(f'{0.57 :.4f} is {0.57 :.2%}')\n"
      ]
    },
    {
      "cell_type": "markdown",
      "id": "bad3243d",
      "metadata": {
        "id": "bad3243d"
      },
      "source": [
        "fin"
      ]
    }
  ],
  "metadata": {
    "colab": {
      "provenance": [],
      "toc_visible": true
    },
    "kernelspec": {
      "display_name": "Python 3 (ipykernel)",
      "language": "python",
      "name": "python3"
    },
    "language_info": {
      "codemirror_mode": {
        "name": "ipython",
        "version": 3
      },
      "file_extension": ".py",
      "mimetype": "text/x-python",
      "name": "python",
      "nbconvert_exporter": "python",
      "pygments_lexer": "ipython3",
      "version": "3.10.7"
    }
  },
  "nbformat": 4,
  "nbformat_minor": 5
}
