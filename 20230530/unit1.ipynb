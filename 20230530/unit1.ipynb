{
 "cells": [
  {
   "attachments": {},
   "cell_type": "markdown",
   "id": "e76512ae",
   "metadata": {},
   "source": [
    "## プログラミング"
   ]
  },
  {
   "attachments": {},
   "cell_type": "markdown",
   "id": "a4917b05",
   "metadata": {},
   "source": [
    "## 操作方法　"
   ]
  },
  {
   "cell_type": "code",
   "execution_count": 1,
   "id": "29824cb9",
   "metadata": {},
   "outputs": [
    {
     "name": "stdout",
     "output_type": "stream",
     "text": [
      "Hello World !\n"
     ]
    }
   ],
   "source": [
    "print(\"Hello World !\")"
   ]
  },
  {
   "attachments": {},
   "cell_type": "markdown",
   "id": "5d281f86",
   "metadata": {},
   "source": [
    "## 出力"
   ]
  },
  {
   "cell_type": "code",
   "execution_count": 20,
   "id": "b980472b",
   "metadata": {},
   "outputs": [
    {
     "data": {
      "text/plain": [
       "'Hello'"
      ]
     },
     "execution_count": 20,
     "metadata": {},
     "output_type": "execute_result"
    }
   ],
   "source": [
    "\"Hello\""
   ]
  },
  {
   "cell_type": "code",
   "execution_count": 12,
   "id": "50380a4b",
   "metadata": {},
   "outputs": [
    {
     "name": "stdout",
     "output_type": "stream",
     "text": [
      "Hello!!\n"
     ]
    }
   ],
   "source": [
    "print(\"Hello!!\")"
   ]
  },
  {
   "cell_type": "code",
   "execution_count": 13,
   "id": "71c89843",
   "metadata": {},
   "outputs": [
    {
     "name": "stdout",
     "output_type": "stream",
     "text": [
      "こんにちわ\n",
      "1 2 3 4 5 6 7 8 9\n"
     ]
    }
   ],
   "source": [
    "# 日本語\n",
    "print(\"こんにちわ\")\n",
    "\n",
    "# 複数\n",
    "print(1, 2, 3, 4, 5, 6, 7, 8, 9)\n"
   ]
  },
  {
   "attachments": {},
   "cell_type": "markdown",
   "id": "dfc5c063",
   "metadata": {},
   "source": [
    "## 数値と四則演算"
   ]
  },
  {
   "cell_type": "code",
   "execution_count": 2,
   "id": "192a8371",
   "metadata": {},
   "outputs": [
    {
     "data": {
      "text/plain": [
       "2"
      ]
     },
     "execution_count": 2,
     "metadata": {},
     "output_type": "execute_result"
    }
   ],
   "source": [
    "# 四則演算\n",
    "1 + 1"
   ]
  },
  {
   "cell_type": "code",
   "execution_count": 10,
   "id": "6c31a5dc",
   "metadata": {},
   "outputs": [
    {
     "name": "stdout",
     "output_type": "stream",
     "text": [
      "2\n"
     ]
    }
   ],
   "source": [
    "# 基本的にはこっちをつかってください\n",
    "print(1 + 1)"
   ]
  },
  {
   "attachments": {},
   "cell_type": "markdown",
   "id": "15be9410",
   "metadata": {},
   "source": [
    "#### 四則演算"
   ]
  },
  {
   "cell_type": "code",
   "execution_count": 15,
   "id": "fcbb4bde",
   "metadata": {},
   "outputs": [
    {
     "name": "stdout",
     "output_type": "stream",
     "text": [
      "3 + 2 =  5\n",
      "3 - 2 =  1\n",
      "3 × 2 =  6\n",
      "3 ÷ 2 =  1.5\n",
      "3 % 2 =  1\n"
     ]
    }
   ],
   "source": [
    "# 足し算\n",
    "print(\"3 + 2 = \", 3 + 2)\n",
    "\n",
    "# 引き算\n",
    "print(\"3 - 2 = \", 3 - 2)\n",
    "\n",
    "# 掛け算\n",
    "print(\"3 × 2 = \", 3 * 2)\n",
    "\n",
    "# 割り算(商)\n",
    "print(\"3 ÷ 2 = \", 3 / 2)\n",
    "\n",
    "# 割り算(余り)\n",
    "print(\"3 % 2 = \", 3 % 2)\n"
   ]
  },
  {
   "cell_type": "code",
   "execution_count": 25,
   "id": "e28a4f8e",
   "metadata": {},
   "outputs": [
    {
     "name": "stdout",
     "output_type": "stream",
     "text": [
      "3 ÷ 2 =  1\n"
     ]
    }
   ],
   "source": [
    "# 割り算 (2)\n",
    "print(\"3 ÷ 2 = \", 3 // 2)\n"
   ]
  },
  {
   "cell_type": "code",
   "execution_count": 27,
   "id": "6d645113",
   "metadata": {},
   "outputs": [
    {
     "name": "stdout",
     "output_type": "stream",
     "text": [
      "2 + 3 * 5 =  17\n",
      "(2 + 3) * 5 =  25\n"
     ]
    }
   ],
   "source": [
    "# 計算の優先順位\n",
    "print(\"2 + 3 * 5 = \", 2 + 3 * 5)\n",
    "print(\"(2 + 3) * 5 = \", (2 + 3) * 5)"
   ]
  },
  {
   "attachments": {},
   "cell_type": "markdown",
   "id": "125cf8cc",
   "metadata": {},
   "source": [
    "   "
   ]
  },
  {
   "attachments": {},
   "cell_type": "markdown",
   "id": "12a921a7",
   "metadata": {},
   "source": [
    "#### 1-1\n",
    "以下の値を求めるプログラムを作成してください  \n",
    "(1) $$4 × 2 - 3 + 5 ÷ 2$$  \n",
    "(2) $$ ( 2.5 - 1.4 )×( 17 + 13 )$$  \n",
    "(3) $$3741 ÷ 71 の余り$$   \n",
    "(4) $$3 ^ 8$$\n"
   ]
  },
  {
   "cell_type": "code",
   "execution_count": null,
   "id": "4013f33b",
   "metadata": {},
   "outputs": [],
   "source": [
    "## 回答欄\n",
    "\n"
   ]
  },
  {
   "cell_type": "code",
   "execution_count": null,
   "id": "806bddc1",
   "metadata": {},
   "outputs": [],
   "source": []
  },
  {
   "cell_type": "markdown",
   "id": "95ad1ae3",
   "metadata": {},
   "source": [
    "#### 1-2\n",
    "2023 ÷ 9 の整数部分を計算するプログラムを作成してください"
   ]
  },
  {
   "cell_type": "code",
   "execution_count": null,
   "id": "ed00383b",
   "metadata": {},
   "outputs": [
    {
     "data": {
      "text/plain": [
       "224"
      ]
     },
     "metadata": {},
     "output_type": "display_data"
    }
   ],
   "source": [
    "## 回答欄\n",
    "\n"
   ]
  },
  {
   "attachments": {},
   "cell_type": "markdown",
   "id": "5b374455",
   "metadata": {},
   "source": [
    "#### 注意"
   ]
  },
  {
   "cell_type": "code",
   "execution_count": 8,
   "id": "b89fc129",
   "metadata": {},
   "outputs": [
    {
     "data": {
      "text/plain": [
       "0.7999999999999999"
      ]
     },
     "execution_count": 8,
     "metadata": {},
     "output_type": "execute_result"
    }
   ],
   "source": [
    "0.1 + 0.7"
   ]
  },
  {
   "cell_type": "code",
   "execution_count": 9,
   "id": "19bb9d62",
   "metadata": {},
   "outputs": [
    {
     "data": {
      "text/plain": [
       "3.3333333333333335"
      ]
     },
     "execution_count": 9,
     "metadata": {},
     "output_type": "execute_result"
    }
   ],
   "source": [
    "10 / 3"
   ]
  },
  {
   "cell_type": "code",
   "execution_count": 10,
   "id": "1a5022ef",
   "metadata": {},
   "outputs": [
    {
     "data": {
      "text/plain": [
       "0.9999999999999999"
      ]
     },
     "execution_count": 10,
     "metadata": {},
     "output_type": "execute_result"
    }
   ],
   "source": [
    "1 / 7 + 4 / 7 + 2 / 7"
   ]
  },
  {
   "cell_type": "code",
   "execution_count": 11,
   "id": "4a8b105d",
   "metadata": {},
   "outputs": [
    {
     "data": {
      "text/plain": [
       "1.0"
      ]
     },
     "execution_count": 11,
     "metadata": {},
     "output_type": "execute_result"
    }
   ],
   "source": [
    "1 / 7 + 2 / 7 + 4 / 7"
   ]
  },
  {
   "attachments": {},
   "cell_type": "markdown",
   "id": "4fe13732",
   "metadata": {},
   "source": [
    "## 文字列"
   ]
  },
  {
   "cell_type": "code",
   "execution_count": null,
   "id": "82a7f9d8",
   "metadata": {},
   "outputs": [],
   "source": [
    "\"文字列\""
   ]
  },
  {
   "cell_type": "code",
   "execution_count": 1,
   "id": "7ac1382d",
   "metadata": {},
   "outputs": [
    {
     "name": "stdout",
     "output_type": "stream",
     "text": [
      "\"こんなこともできる\"\n"
     ]
    }
   ],
   "source": [
    "print(\"\")"
   ]
  },
  {
   "cell_type": "code",
   "execution_count": null,
   "id": "e1e88620",
   "metadata": {},
   "outputs": [],
   "source": []
  },
  {
   "cell_type": "code",
   "execution_count": null,
   "id": "60672d6b",
   "metadata": {},
   "outputs": [],
   "source": []
  },
  {
   "cell_type": "markdown",
   "id": "7bcb3dd1",
   "metadata": {},
   "source": [
    "#### 1-3\n",
    "以下の文章を```print文```で出力するプログラムを作成してください\n",
    "\n",
    "`Alice: \"It's not my pen.\"`\n"
   ]
  },
  {
   "cell_type": "code",
   "execution_count": null,
   "id": "b8d7773e",
   "metadata": {},
   "outputs": [],
   "source": [
    "# 回答欄\n",
    "\n"
   ]
  },
  {
   "attachments": {},
   "cell_type": "markdown",
   "id": "001719f4",
   "metadata": {},
   "source": [
    "#### 文字列の四則演算"
   ]
  },
  {
   "cell_type": "code",
   "execution_count": null,
   "id": "635d6e4d",
   "metadata": {},
   "outputs": [],
   "source": [
    "print(\"私は\" + \"\")"
   ]
  },
  {
   "cell_type": "code",
   "execution_count": 21,
   "id": "4950b2a7",
   "metadata": {},
   "outputs": [
    {
     "name": "stdout",
     "output_type": "stream",
     "text": [
      "suesuesuesuesue\n"
     ]
    }
   ],
   "source": [
    "print(\"sue\" * 5)"
   ]
  },
  {
   "cell_type": "code",
   "execution_count": null,
   "id": "b6d9c5af",
   "metadata": {},
   "outputs": [],
   "source": []
  },
  {
   "attachments": {},
   "cell_type": "markdown",
   "id": "f3de8a8a",
   "metadata": {},
   "source": [
    "## 文字と数値"
   ]
  },
  {
   "cell_type": "code",
   "execution_count": null,
   "id": "b6285b56",
   "metadata": {},
   "outputs": [],
   "source": []
  },
  {
   "cell_type": "code",
   "execution_count": null,
   "id": "447e4fdb",
   "metadata": {},
   "outputs": [],
   "source": []
  },
  {
   "cell_type": "code",
   "execution_count": null,
   "id": "ede96e06",
   "metadata": {},
   "outputs": [],
   "source": []
  },
  {
   "cell_type": "markdown",
   "id": "8f7af089",
   "metadata": {},
   "source": [
    "### 基本問題"
   ]
  },
  {
   "cell_type": "code",
   "execution_count": 37,
   "id": "e338645d",
   "metadata": {},
   "outputs": [
    {
     "name": "stdout",
     "output_type": "stream",
     "text": [
      "7.5\n",
      "33.0\n",
      "49\n",
      "6561\n"
     ]
    }
   ],
   "source": [
    "# 1-1\n",
    "print(4 * 2 - 3 + 5 / 2)\n",
    "print((2.5 - 1.4) * (17 + 13))\n",
    "print(3741 % 71)\n",
    "print(3 ** 8)\n",
    "\n",
    "# 1-2\n",
    "2023 // 9\n",
    "\n",
    "# 1-3\n",
    "print()\n",
    "\n"
   ]
  },
  {
   "cell_type": "markdown",
   "id": "f06ca592",
   "metadata": {},
   "source": [
    "### 発展問題"
   ]
  },
  {
   "attachments": {},
   "cell_type": "markdown",
   "id": "4d4267ca",
   "metadata": {},
   "source": [
    "#### 2-1\n",
    "a = 3, b = 5 のとき、以下の式の値を求めなさい  \n",
    "(1) $ 2(3a + 2b) + 4(4a - 3b)  $  \n",
    "(2) $ -3ab × 2b × (-2a)^2 $  \n",
    "(3) $ (-4a^2b^3)^2÷2a^3b^4 × (-ab^2) $  \n"
   ]
  },
  {
   "cell_type": "code",
   "execution_count": 31,
   "id": "df538d69",
   "metadata": {},
   "outputs": [
    {
     "name": "stdout",
     "output_type": "stream",
     "text": [
      "26\n",
      "-16200\n",
      "-12814453125000.0\n"
     ]
    }
   ],
   "source": [
    "# a = 3\n",
    "# b = 5\n",
    "# print(2 * (3 * a + 2 * b) + 4 * (4 * a - 3 * b))\n",
    "# print(-3 * a * b * 2 * b * (-2 * a) ** 2)\n",
    "# print((-4 * a ** 2 * b ** 3) ** 2 / 2 * a **3 * b **4 * (-a * b **2))\n"
   ]
  },
  {
   "attachments": {},
   "cell_type": "markdown",
   "id": "fcf7e269",
   "metadata": {},
   "source": [
    "#### 2-2\n",
    "小数部分を求めてください\n"
   ]
  },
  {
   "cell_type": "code",
   "execution_count": null,
   "id": "4dc3122d",
   "metadata": {},
   "outputs": [],
   "source": []
  },
  {
   "attachments": {},
   "cell_type": "markdown",
   "id": "5ded0f3e",
   "metadata": {},
   "source": [
    "#### 2-3\n",
    "\n"
   ]
  },
  {
   "cell_type": "code",
   "execution_count": null,
   "id": "b8b6ff77",
   "metadata": {},
   "outputs": [],
   "source": []
  },
  {
   "attachments": {},
   "cell_type": "markdown",
   "id": "cd78bad8",
   "metadata": {},
   "source": [
    "#### 2-4"
   ]
  },
  {
   "cell_type": "markdown",
   "id": "1b1272b5",
   "metadata": {},
   "source": [
    "#### 2-5"
   ]
  },
  {
   "cell_type": "code",
   "execution_count": null,
   "id": "d7882f95",
   "metadata": {},
   "outputs": [],
   "source": []
  },
  {
   "cell_type": "code",
   "execution_count": null,
   "id": "eee1e455",
   "metadata": {},
   "outputs": [],
   "source": []
  },
  {
   "cell_type": "code",
   "execution_count": null,
   "id": "70973423",
   "metadata": {},
   "outputs": [],
   "source": []
  },
  {
   "attachments": {},
   "cell_type": "markdown",
   "id": "bbcb76da",
   "metadata": {},
   "source": [
    "### 余談\n",
    "#### 色々な出力方法"
   ]
  },
  {
   "attachments": {},
   "cell_type": "markdown",
   "id": "ab48b8a7",
   "metadata": {},
   "source": [
    "##### 1. print文のあれこれ"
   ]
  },
  {
   "cell_type": "code",
   "execution_count": 29,
   "id": "1a5ecee4",
   "metadata": {},
   "outputs": [
    {
     "name": "stdout",
     "output_type": "stream",
     "text": [
      "Chrome OS, Windows\n",
      "Mac OS\n"
     ]
    }
   ],
   "source": [
    "print(\"Windows\")\n",
    "print(\"Mac OS\", end=\", \")\n",
    "print(\"Chrome OS\")\n"
   ]
  },
  {
   "cell_type": "code",
   "execution_count": 45,
   "id": "9076444a",
   "metadata": {},
   "outputs": [
    {
     "name": "stdout",
     "output_type": "stream",
     "text": [
      "Python_and_C_and_C++_and_Java\n"
     ]
    }
   ],
   "source": [
    "print(\"Python\", \"C\", \"C++\", \"Java\", sep='_and_')"
   ]
  },
  {
   "attachments": {},
   "cell_type": "markdown",
   "id": "92e90a89",
   "metadata": {},
   "source": [
    "##### 2. ```fotmat()```"
   ]
  },
  {
   "cell_type": "code",
   "execution_count": 55,
   "id": "bd5095ef",
   "metadata": {},
   "outputs": [
    {
     "name": "stdout",
     "output_type": "stream",
     "text": [
      "私の趣味は プログラミング です\n",
      "Alice is 14 years old.\n",
      "Python, Swift, JavaScript and Kotlin\n"
     ]
    }
   ],
   "source": [
    "print(\"私の趣味は {} です\".format(\"プログラミング\"))\n",
    "\n",
    "print(\"{} is {} years old.\".format(\"Alice\", 14))\n",
    "\n",
    "print(\"{0}, {2}, {1} and {3}\".format(\"Python\", \"JavaScript\", \"Swift\", \"Kotlin\"))\n"
   ]
  },
  {
   "cell_type": "code",
   "execution_count": 41,
   "id": "008ea8dc",
   "metadata": {},
   "outputs": [
    {
     "name": "stdout",
     "output_type": "stream",
     "text": [
      "左寄せ     : 57      \n",
      "中央寄せ   :    57   \n",
      "右寄せ     :       57\n",
      "ゼロ埋め   : 00000057\n",
      "小数第2位まで   : 3.1\n",
      "小数第6位まで   : 3.141500\n",
      "百分率で        : 314%\n"
     ]
    }
   ],
   "source": [
    "print('左寄せ     : {:<8}'.format(57))\n",
    "print('中央寄せ   : {:^8}'.format(57))\n",
    "print('右寄せ     : {:>8}'.format(57))\n",
    "print('ゼロ埋め   : {:08}'.format(57))\n",
    "\n",
    "print('小数第2位まで   : {:.2}'.format(3.1415))\n",
    "print('小数第6位まで   : {:.6f}'.format(3.1415))\n",
    "print('百分率で        : {:.0%}'.format(3.1415))\n"
   ]
  },
  {
   "attachments": {},
   "cell_type": "markdown",
   "id": "18fa1ffd",
   "metadata": {},
   "source": [
    "##### 3. ```f文字列```\n",
    "\n",
    "\n",
    "\n"
   ]
  },
  {
   "cell_type": "code",
   "execution_count": 42,
   "id": "c25ae492",
   "metadata": {},
   "outputs": [
    {
     "name": "stdout",
     "output_type": "stream",
     "text": [
      "1 + 2 = 3\n"
     ]
    }
   ],
   "source": [
    "print(f\"1 + 2 = {1 + 2}\")"
   ]
  },
  {
   "cell_type": "code",
   "execution_count": 48,
   "id": "d06617cf",
   "metadata": {},
   "outputs": [
    {
     "name": "stdout",
     "output_type": "stream",
     "text": [
      "2.7100 is 271.00%\n",
      "2.7100 is 271.00%\n"
     ]
    }
   ],
   "source": [
    "# f文字列とformat文の互換\n",
    "print('{0:.4f} is {0:.2%}'.format(2.71))\n",
    "\n",
    "print(f'{2.71 :.4f} is {2.71 :.2%}')"
   ]
  },
  {
   "attachments": {},
   "cell_type": "markdown",
   "id": "bad3243d",
   "metadata": {},
   "source": [
    "fin"
   ]
  }
 ],
 "metadata": {
  "kernelspec": {
   "display_name": "Python 3 (ipykernel)",
   "language": "python",
   "name": "python3"
  },
  "language_info": {
   "codemirror_mode": {
    "name": "ipython",
    "version": 3
   },
   "file_extension": ".py",
   "mimetype": "text/x-python",
   "name": "python",
   "nbconvert_exporter": "python",
   "pygments_lexer": "ipython3",
   "version": "3.10.7"
  }
 },
 "nbformat": 4,
 "nbformat_minor": 5
}
