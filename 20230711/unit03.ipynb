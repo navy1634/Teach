{
 "cells": [
  {
   "attachments": {},
   "cell_type": "markdown",
   "metadata": {},
   "source": [
    "# プロジェクト学習　第3回\n",
    "\n",
    "<a href=\"### 1.1. 標準入力\">標準入力</a>"
   ]
  },
  {
   "attachments": {},
   "cell_type": "markdown",
   "metadata": {},
   "source": [
    "## 1. 変数と比較\n",
    "### 1.1. 標準入力"
   ]
  },
  {
   "cell_type": "code",
   "execution_count": 31,
   "metadata": {},
   "outputs": [
    {
     "name": "stdout",
     "output_type": "stream",
     "text": [
      "2\n"
     ]
    }
   ],
   "source": [
    "# 物は試し\n",
    "a = input(\"何か入力してみて : \")\n",
    "print(a)\n"
   ]
  },
  {
   "attachments": {},
   "cell_type": "markdown",
   "metadata": {},
   "source": [
    "#### 1.2. やってみよう  \n",
    "`input()` を使って 変数`name` に自分の名前を入力し、`print`してみよう"
   ]
  },
  {
   "cell_type": "code",
   "execution_count": null,
   "metadata": {},
   "outputs": [],
   "source": [
    "# 回答欄\n",
    "\n"
   ]
  },
  {
   "attachments": {},
   "cell_type": "markdown",
   "metadata": {},
   "source": [
    "### 2.1. 変数の型\n",
    "- 前回取り扱った変数にはいくつかの`型`がある\n",
    "- `type()` を使うことで確認ができる\n",
    "- 基本的に、違う型同士での処理は出来ない\n",
    "\n",
    "  \n",
    "  \n",
    "**型 一覧**\n",
    "1. int型 (integer)\n",
    "    - 整数\n",
    "    - 最大値(最小値)は無い\n",
    "    \n",
    "2. float型 (float)\n",
    "    - 実数\n",
    "    - 最大値(最小値)は無い\n",
    "\n",
    "3. str型 (string)\n",
    "    - 文字列\n",
    "    - \n",
    "\n",
    "4. bool型 (boolean)\n",
    "    - 真偽値\n",
    "    - True と False の2種類の値しか取らない\n",
    "\n",
    "5. None型 (null)\n",
    "    - 無\n",
    "    - 値が無いことを示す値\n"
   ]
  },
  {
   "cell_type": "code",
   "execution_count": null,
   "metadata": {},
   "outputs": [],
   "source": [
    "# int 型\n",
    "print(\"int 型 : \", type(1))\n",
    "\n",
    "# float 型\n",
    "print(\"float 型 : \", type(1.0))\n",
    "\n",
    "# str 型\n",
    "print(\"str 型 : \", type(\"文字列\"))\n"
   ]
  },
  {
   "attachments": {},
   "cell_type": "markdown",
   "metadata": {},
   "source": [
    "### 2.2. 型変換\n",
    "\n",
    "数値はこれらの型を相互に変換することが出来る\n",
    "\n",
    "- `int()` 　: int型に変換する\n",
    "- `float()` : float型に変換する\n",
    "- `str()` 　: str型に変換する\n"
   ]
  },
  {
   "cell_type": "code",
   "execution_count": 30,
   "metadata": {},
   "outputs": [
    {
     "name": "stdout",
     "output_type": "stream",
     "text": [
      "a1 の値 :  02\n",
      "a1 の型 :  <class 'str'>\n",
      "\n",
      "a2 の値 :  2\n",
      "a2 の型 :  <class 'int'>\n",
      "\n",
      "a3 の値 :  2.0\n",
      "a3 の型 :  <class 'float'>\n",
      "\n"
     ]
    }
   ],
   "source": [
    "# 変換してみる\n",
    "a1 = \"02\"\n",
    "print(\"a1 の値 : \", a1)\n",
    "print(\"a1 の型 : \", type(a1))\n",
    "print()\n",
    "\n",
    "a2 = int(a1)\n",
    "print(\"a2 の値 : \", a2)\n",
    "print(\"a2 の型 : \", type(a2))\n",
    "print()\n",
    "\n",
    "a3 = float(a1)\n",
    "print(\"a3 の値 : \", a3)\n",
    "print(\"a3 の型 : \", type(a3))\n",
    "print()\n"
   ]
  },
  {
   "attachments": {},
   "cell_type": "markdown",
   "metadata": {},
   "source": [
    "#### 2.3. やってみよう\n",
    "好きな値を入力し、その値と型を出力してみよう"
   ]
  },
  {
   "cell_type": "code",
   "execution_count": null,
   "metadata": {},
   "outputs": [],
   "source": [
    "ipt = input(\"入力してください : \")\n",
    "print(\"値 : \", ipt)\n",
    "print(\"型 : \", type(ipt))\n"
   ]
  },
  {
   "attachments": {},
   "cell_type": "markdown",
   "metadata": {},
   "source": [
    "### 3.1. 値の比較\n",
    "\n",
    "二つの値を比較するときに用いる演算子\n",
    "- 結果にはbool 型の値が用いられる\n",
    "\n",
    "<br>\n",
    "\n",
    "|比較演算子|意味|\n",
    "|-|-|\n",
    "|x == y|x と y が等しい|\n",
    "|x != y|x と y が等しくない|\n",
    "|x > y| x は y よりも大きい|\n",
    "|x < y| x は y よりも小さい|\n",
    "|x >= y|x は y 以上|\n",
    "|x <= y|x は y 以下|\n",
    "|x in y|x という要素 が y に存在する|\n",
    "|x not in y|x という要素 が y に存在しない|\n"
   ]
  },
  {
   "attachments": {},
   "cell_type": "markdown",
   "metadata": {},
   "source": [
    "#### 3.2. 真偽値\n",
    "\n",
    "\n",
    "bool 型\n",
    "- `True` と `False` の2つしかない\n",
    "- `not` を付けると値が反転する\n",
    "    - True は False に\n",
    "    - False は True に\n",
    "- bool() を使って変換することもできる\n",
    "    - 変数に何かの値が入っている場合、基本的には True になる\n",
    "    - True にならない場合は 余談へ\n"
   ]
  },
  {
   "cell_type": "code",
   "execution_count": null,
   "metadata": {},
   "outputs": [],
   "source": [
    "# bool 型\n",
    "a = 10\n",
    "print(\"bool 型 : \", bool(a))\n"
   ]
  },
  {
   "cell_type": "code",
   "execution_count": null,
   "metadata": {},
   "outputs": [],
   "source": [
    "b = True\n",
    "print(\"not b : \", not b)\n"
   ]
  },
  {
   "attachments": {},
   "cell_type": "markdown",
   "metadata": {},
   "source": [
    "### 3.3. 確認してみよう"
   ]
  },
  {
   "cell_type": "code",
   "execution_count": null,
   "metadata": {},
   "outputs": [],
   "source": [
    "# やってみよう\n",
    "\n",
    "x1 = # 入力してみよう\n",
    "y1 = # 入力してみよう\n",
    "print(\"x1 == y1  : \", x1 == y1)\n",
    "print(\"x1 != y1  : \", x1 != y1)\n",
    "\n",
    "x2 = # 入力してみよう\n",
    "y2 = # 入力してみよう\n",
    "print(\"x2 < y2   : \", x2 < y2)\n",
    "print(\"x2 > y2   : \", x2 > y2)\n",
    "\n",
    "x3 = # 入力してみよう\n",
    "y3 = # 入力してみよう\n",
    "print(\"x3 != y3  : \", x3 != y3)\n"
   ]
  },
  {
   "attachments": {},
   "cell_type": "markdown",
   "metadata": {},
   "source": [
    "※ in/not in については余談へ"
   ]
  },
  {
   "attachments": {},
   "cell_type": "markdown",
   "metadata": {},
   "source": [
    "### 4.1. 条件分岐\n"
   ]
  },
  {
   "cell_type": "code",
   "execution_count": null,
   "metadata": {},
   "outputs": [],
   "source": [
    "a = int(input())\n",
    "\n",
    "if a == 1:\n",
    "    # 正しいときの処理\n",
    "    print(True)\n",
    "    \n",
    "else:\n",
    "    # 間違っている時の処理\n",
    "    print(False)\n"
   ]
  },
  {
   "attachments": {},
   "cell_type": "markdown",
   "metadata": {},
   "source": [
    "### 4.2. if文の適応範囲"
   ]
  },
  {
   "cell_type": "code",
   "execution_count": null,
   "metadata": {},
   "outputs": [],
   "source": [
    "a = 0\n",
    "\n",
    "if a >= 10:\n",
    "    print(\"aは10より大きいです\")\n",
    "\n",
    "print(\"この文は表示されるでしょうか？\")\n"
   ]
  },
  {
   "cell_type": "code",
   "execution_count": null,
   "metadata": {},
   "outputs": [],
   "source": [
    "a = int(input())\n",
    "\n",
    "if a >= 10:\n",
    "    print(\"これは正常です\")\n",
    "     print(\"これはエラーです\")\n",
    "     \n",
    "else:\n",
    "    print(\"これも正常です\")\n",
    "   print(\"これもエラーです\")\n"
   ]
  },
  {
   "attachments": {},
   "cell_type": "markdown",
   "metadata": {},
   "source": [
    "### 4.3. 3つ以上の分岐\n",
    "\n",
    "- "
   ]
  },
  {
   "cell_type": "code",
   "execution_count": null,
   "metadata": {},
   "outputs": [],
   "source": [
    "# 3つ以上の条件の場合\n",
    "a = int(input())\n",
    "\n",
    "if a % 6 == 0:\n",
    "    print(\"2の倍数 かつ 3の倍数 である\")\n",
    "    \n",
    "elif a % 2 == 0:\n",
    "    print(\"2の倍数であるが、3の倍数ではない\")\n",
    "\n",
    "elif a % 3 == 0:\n",
    "    print(\"2の倍数でないが、3の倍数である\")\n",
    "\n",
    "else:\n",
    "    print(\"2の倍数でも3の倍数でもない\")\n"
   ]
  },
  {
   "attachments": {},
   "cell_type": "markdown",
   "metadata": {},
   "source": [
    "### 4.4. 練習問題\n",
    "整数 $m$, $n$を入力して，$m + 2n$ が$10$以上ならば <b>`Large`</b>，\n",
    "$10$より小さければ <b>`Small`</b> を出力するプログラムを作成しなさい．\n",
    "<br>\n",
    "<br>\n",
    "\n",
    "|入力$m$|入力$n$|出力|\n",
    "|-|-|-|\n",
    "|2|4|Large|\n",
    "|9|-10|Small|"
   ]
  },
  {
   "cell_type": "code",
   "execution_count": null,
   "metadata": {},
   "outputs": [],
   "source": [
    "# 回答欄\n",
    "m = int(input())\n",
    "n = #\n"
   ]
  },
  {
   "cell_type": "code",
   "execution_count": null,
   "metadata": {},
   "outputs": [],
   "source": []
  },
  {
   "attachments": {},
   "cell_type": "markdown",
   "metadata": {},
   "source": [
    "### 4.5. 複数の条件"
   ]
  },
  {
   "attachments": {},
   "cell_type": "markdown",
   "metadata": {},
   "source": [
    "1. `and`, `or` を用いる\n",
    "    - `A and B` : A も B も正しいとき `True` となる\n",
    "    - `A or B`  : A または B のどちらかが正しいとき `True` となる\n"
   ]
  },
  {
   "cell_type": "code",
   "execution_count": null,
   "metadata": {},
   "outputs": [],
   "source": [
    "a = 6\n",
    "\n",
    "if a % 2 == 0 and a % 3 == 0:\n",
    "    print(\"2の倍数 かつ 3の倍数 である\")\n",
    "    \n",
    "elif a % 2 == 0:\n",
    "    print(\"2の倍数であるが、3の倍数ではない\")\n",
    "\n",
    "elif a % 3 == 0:\n",
    "    print(\"2の倍数でないが、3の倍数である\")\n",
    "\n",
    "else:\n",
    "    print(\"2の倍数でも3の倍数でもない\")\n",
    "    "
   ]
  },
  {
   "attachments": {},
   "cell_type": "markdown",
   "metadata": {},
   "source": [
    "2. 入れ子構造\n",
    "    - \n",
    "    - \n",
    "    - \n"
   ]
  },
  {
   "attachments": {},
   "cell_type": "markdown",
   "metadata": {},
   "source": [
    "#### 4.6. 例題\n",
    "1 から 9 までの整数 $ n $ を入力して，$ n $ の値に応じて以下のようにメッセージを出力\n",
    "- $ n $ が奇数のとき， $ n $ が 7 と等しくなければ `Odd prime`，7 と等しければ `Odd`と出力\n",
    "- $ n $ が偶数のとき， $ n $ が 4 と等しければ `Even prime`，4 と等しくなければ `Even` と出力\n"
   ]
  },
  {
   "cell_type": "code",
   "execution_count": 3,
   "metadata": {},
   "outputs": [],
   "source": [
    "# 回答欄\n",
    "n = int(input())\n",
    "\n",
    "### ここから\n",
    "\n",
    "\n",
    "### ここまで\n"
   ]
  },
  {
   "attachments": {},
   "cell_type": "markdown",
   "metadata": {},
   "source": [
    "#### 4.7. 練習問題\n",
    "正の整数$n$を入力して、西暦$n$年がうるう年（leap year）ならば`Yes`、そうでないならば`No`を出力するプログラムを作成してください\n",
    "\n",
    "なお、西暦$n$年がうるう年かどうかは以下のルールによって決まります。\n",
    "1.  $n$が4の倍数のときは（下の例外を除き）うるう年である\n",
    "2.  ただし、100の倍数のときは（下の例外を除き）うるう年でない\n",
    "3.  ただし、400の倍数のときはうるう年である\n",
    "\n",
    "\n",
    "|  入力  |  出力  |\n",
    "| ---- | ---- |\n",
    "|  1   |  No  |\n",
    "|  4   |  Yes | \n",
    "| 1900 |  No  |\n",
    "| 2000 |  Yes |"
   ]
  },
  {
   "cell_type": "code",
   "execution_count": null,
   "metadata": {},
   "outputs": [],
   "source": [
    "# 回答欄\n",
    "\n"
   ]
  },
  {
   "attachments": {},
   "cell_type": "markdown",
   "metadata": {},
   "source": [
    "ダブルクリックしてヒント1を表示\n",
    "<!--\n",
    "- まずはノートで、どのような条件のときにうるう年かを整理するとよい。\n",
    "- どの条件を先に判定するかをよく考える。 \n",
    "-->"
   ]
  },
  {
   "attachments": {},
   "cell_type": "markdown",
   "metadata": {},
   "source": [
    "ダブルクリックしてヒント2を表示\n",
    "<!--\n",
    "- *** の部分に一つの条件が入ります\n",
    "\n",
    "n = int(input())\n",
    "\n",
    "# elif のみを使う場合\n",
    "if ***:\n",
    "    print(\"\")\n",
    "elif ***:\n",
    "    print(\"\")\n",
    "elif ***:\n",
    "    print(\"\")\n",
    "else:\n",
    "    print(\"\")\n",
    "\n",
    "# and を使う場合\n",
    "if *** and ***:\n",
    "    print(\"\")\n",
    "elif ***:\n",
    "    print(\"\")\n",
    "else:\n",
    "    print(\"\")\n",
    "\n",
    "# and, or を使う場合\n",
    "if *** or (*** and ***):\n",
    "    print(\"Yes\")\n",
    "else:\n",
    "    print(\"No\")\n",
    "\n",
    "\n",
    "# 入れ子を使う場合\n",
    "if ***:\n",
    "    if ***:\n",
    "        if ***:\n",
    "            print(\"\")\n",
    "        else:\n",
    "            print(\"\")\n",
    "    else:\n",
    "        print(\"\")\n",
    "else:\n",
    "    print(\"\")\n",
    "\n",
    "-->"
   ]
  },
  {
   "cell_type": "markdown",
   "metadata": {},
   "source": []
  },
  {
   "attachments": {},
   "cell_type": "markdown",
   "metadata": {},
   "source": [
    "### 答え"
   ]
  },
  {
   "cell_type": "code",
   "execution_count": null,
   "metadata": {},
   "outputs": [],
   "source": [
    "# 4.6\n",
    "n = int(input())\n",
    "\n",
    "if n % 2 == 0:\n",
    "    if n == 4:\n",
    "        print(\"Even prime\")\n",
    "    else:\n",
    "        print(\"Even\")\n",
    "else:\n",
    "    if n == 7:\n",
    "        print(\"Odd price\")\n",
    "    else:\n",
    "        print(\"Odd\")\n",
    "\n",
    "\n",
    "# 4.7\n",
    "n = int(input())\n",
    "\n",
    "# elif のみを使う場合\n",
    "if n % 400 == 0:\n",
    "    print(\"Yes\")\n",
    "elif n % 100 == 0:\n",
    "    print(\"No\")\n",
    "elif n % 4 == 0:\n",
    "    print(\"Yes\")\n",
    "else:\n",
    "    print(\"No\")\n",
    "\n",
    "# and を使う場合\n",
    "if n % 100 == 0 and n % 400 != 0:\n",
    "    print(\"No\")\n",
    "elif n % 4 == 0:\n",
    "    print(\"Yes\")\n",
    "else:\n",
    "    print(\"No\")\n",
    "\n",
    "# and, or を使う場合\n",
    "if (n % 400 == 0) or ((n % 100 != 0) and (n % 4 == 0)):\n",
    "    print(\"Yes\")\n",
    "else:\n",
    "    print(\"No\")\n",
    "\n",
    "# 入れ子を使う場合\n",
    "if n % 4 == 0:\n",
    "    if n % 100 == 0:\n",
    "        if n % 400 == 0:\n",
    "            print(\"Yes\")\n",
    "        else:\n",
    "            print(\"No1\")\n",
    "    else:\n",
    "        print(\"Yes\")\n",
    "else:\n",
    "    print(\"No2\")\n"
   ]
  },
  {
   "attachments": {},
   "cell_type": "markdown",
   "metadata": {},
   "source": [
    "## 余談\n"
   ]
  },
  {
   "attachments": {},
   "cell_type": "markdown",
   "metadata": {},
   "source": [
    "### 気を付ける判定例\n",
    "\n",
    "1.  int と float\n",
    "1.  int と str\n",
    "1.  大文字と小文字"
   ]
  },
  {
   "cell_type": "code",
   "execution_count": null,
   "metadata": {},
   "outputs": [],
   "source": [
    "# int と float\n",
    "print(\"10 == 10.0 : \", 10 == 10.0)\n",
    "\n",
    "# int と str\n",
    "print(\"'57' == 57 : \", \"57\" == 57)\n",
    "\n",
    "# 大文字と小文字\n",
    "print(\"'HELLO' == 'hello' : \", \"HELLO\" == \"hello\")"
   ]
  },
  {
   "attachments": {},
   "cell_type": "markdown",
   "metadata": {},
   "source": [
    "### bool() が False になる例\n",
    "\n",
    "1. `None`\n",
    "2. 空文字列 `\"\"`\n",
    "3. `0`, `0.0`\n"
   ]
  },
  {
   "cell_type": "code",
   "execution_count": null,
   "metadata": {},
   "outputs": [],
   "source": [
    "# 確認してみる\n",
    "print(\"None     : \", bool(None))\n",
    "\n",
    "print(\"空文字列 : \", bool(\"\"))\n",
    "\n",
    "print(\"0, 0.0   : \", bool(0))\n"
   ]
  },
  {
   "cell_type": "markdown",
   "metadata": {},
   "source": [
    "**in / not in について**\n",
    "\n",
    "- 文字列の中に特定の文字列が含まれているか判定・確認する手法\n",
    "- 含まれていると`True`、含まれていないと`False`\n",
    "- 大文字・小文字は区別される\n"
   ]
  },
  {
   "cell_type": "code",
   "execution_count": null,
   "metadata": {},
   "outputs": [],
   "source": [
    "a = input()\n",
    "\n",
    "if \n"
   ]
  },
  {
   "attachments": {},
   "cell_type": "markdown",
   "metadata": {},
   "source": [
    "#### and と or\n",
    "\n",
    "|式|結果|\n",
    "|-|-|\n",
    "|True and True|True|\n",
    "|True and False|False|\n",
    "|False and True|False|\n",
    "|False and False|False|\n",
    "|True or True|True|\n",
    "|True or False|True|\n",
    "|False or True|True|\n",
    "|False or False|False|\n",
    "|not True|False|\n",
    "|not False|True|\n"
   ]
  },
  {
   "attachments": {},
   "cell_type": "markdown",
   "metadata": {},
   "source": [
    "$fin$"
   ]
  }
 ],
 "metadata": {
  "kernelspec": {
   "display_name": "py_analyze",
   "language": "python",
   "name": "python3"
  },
  "language_info": {
   "codemirror_mode": {
    "name": "ipython",
    "version": 3
   },
   "file_extension": ".py",
   "mimetype": "text/x-python",
   "name": "python",
   "nbconvert_exporter": "python",
   "pygments_lexer": "ipython3",
   "version": "3.10.7"
  },
  "orig_nbformat": 4
 },
 "nbformat": 4,
 "nbformat_minor": 2
}
