{
 "cells": [
  {
   "attachments": {},
   "cell_type": "markdown",
   "metadata": {},
   "source": [
    "# プロジェクト学習　第4回\n"
   ]
  },
  {
   "attachments": {},
   "cell_type": "markdown",
   "metadata": {},
   "source": [
    "## 1. 変数と比較"
   ]
  },
  {
   "cell_type": "markdown",
   "metadata": {},
   "source": [
    "### 1.1. 標準入力\n",
    "プログラムに値を渡す入力元のこと  \n",
    "実質、キーボードからの入力のこと\n"
   ]
  },
  {
   "cell_type": "code",
   "execution_count": null,
   "metadata": {},
   "outputs": [],
   "source": [
    "# 物は試し\n",
    "a = input(\"何か入力してみよう : \")\n",
    "print(a)\n"
   ]
  },
  {
   "attachments": {},
   "cell_type": "markdown",
   "metadata": {},
   "source": [
    "### 1.2. 練習問題\n",
    "やってみよう  \n",
    "`input()` を使って 変数`name` に自分の名前を入力し、`print`してみよう"
   ]
  },
  {
   "cell_type": "code",
   "execution_count": null,
   "metadata": {},
   "outputs": [],
   "source": [
    "# 回答欄\n"
   ]
  },
  {
   "attachments": {},
   "cell_type": "markdown",
   "metadata": {},
   "source": [
    "### 1.3. 練習問題\n",
    "**a, b, c に input を使って数値を入力して色々計算してみよう**\n",
    "\n",
    "(1) a, b, cに inputを使って数値に代入できるようにしよう\n",
    "\n",
    "(2) (1) で入れた a と b を足して変数「total」に入れて print で出力しよう\n",
    "\n",
    "(3) (1)で入れたa, b, cを全部かけた値を「total2」に入れて print で出力しよう\n",
    "\n",
    "(4) (1)で入れたa, b, cを a時間b分c秒 と考えて，全部で何分か計算して 変数「minutes」に入れて出力しよう\n",
    "\n",
    "(5) (4)変数「minutes」から a, b, cを逆算してそれぞれ出力しよう\n"
   ]
  },
  {
   "cell_type": "code",
   "execution_count": null,
   "metadata": {},
   "outputs": [],
   "source": [
    "# 1\n",
    "### ここから ###\n",
    "a = \n",
    "b = \n",
    "c = \n",
    "### ここまでに書こう ###\n",
    "print(f\"a: {a}\")\n",
    "print(f\"b: {b}\")\n",
    "print(f\"c: {c}\")\n",
    "\n",
    "# 2\n",
    "### ここから ###\n",
    "\n",
    "\n",
    "### ここまでに書こう ###\n",
    "print(f\"total: {total}\")\n",
    "\n",
    "# 3\n",
    "### ここから ###\n",
    "\n",
    "\n",
    "### ここまでに書こう ###\n",
    "print(f\"total2: {total2}\")\n",
    "\n",
    "# 4\n",
    "### ここから ###\n",
    "\n",
    "\n",
    "### ここまでに書こう ###\n",
    "print(f\"minutes: {minutes}\")\n",
    "\n",
    "# 5\n",
    "del a\n",
    "del b\n",
    "del c\n",
    "### ここから ###\n",
    "\n",
    "\n",
    "### ここまでに書こう ###\n",
    "print(f\"a: {a}\")\n",
    "print(f\"b: {b}\")\n",
    "print(f\"c: {c}\")\n"
   ]
  },
  {
   "cell_type": "markdown",
   "metadata": {},
   "source": [
    "## 2. 変数の型"
   ]
  },
  {
   "attachments": {},
   "cell_type": "markdown",
   "metadata": {},
   "source": [
    "### 2.1. 変数の型\n",
    "- 前回取り扱った変数にはいくつかの`型`がある\n",
    "- `type()` を使うことで確認ができる\n",
    "- 基本的に、違う型同士での処理は出来ない\n",
    "\n",
    "  \n",
    "  \n",
    "**型 一覧**\n",
    "1. int型 (integer)\n",
    "    - 整数\n",
    "    - 最大値(最小値)は無い\n",
    "    \n",
    "2. float型 (float)\n",
    "    - 実数\n",
    "    - 最大値(最小値)は無い\n",
    "\n",
    "3. str型 (strings)\n",
    "    - 文字列\n",
    "    - \n",
    "\n",
    "4. bool型 (boolean)\n",
    "    - 真偽値\n",
    "    - True と False の2種類の値しか取らない\n"
   ]
  },
  {
   "cell_type": "code",
   "execution_count": null,
   "metadata": {},
   "outputs": [],
   "source": [
    "# int 型\n",
    "print(\"int 型 : \", type(10))\n",
    "\n",
    "# float 型\n",
    "print(\"float 型 : \", type(10.0))\n",
    "\n",
    "# str 型\n",
    "print(\"str 型 : \", type(\"文字列\"))\n"
   ]
  },
  {
   "attachments": {},
   "cell_type": "markdown",
   "metadata": {},
   "source": [
    "### 2.2. 型変換\n",
    "\n",
    "数値はこれらの型を相互に変換することが出来る\n",
    "\n",
    "- `int()` 　: int型に変換する\n",
    "- `float()` : float型に変換する\n",
    "- `str()` 　: str型に変換する\n"
   ]
  },
  {
   "cell_type": "code",
   "execution_count": null,
   "metadata": {},
   "outputs": [],
   "source": [
    "# 変換してみる\n",
    "a1 = \"02\"\n",
    "print(\"a1 の値 : \", a1)\n",
    "print(\"a1 の型 : \", type(a1))\n",
    "print()\n",
    "\n",
    "a2 = int(a1) # str -> int\n",
    "print(\"a2 の値 : \", a2)\n",
    "print(\"a2 の型 : \", type(a2))\n",
    "print()\n",
    "\n",
    "a3 = float(a1) # str -> float\n",
    "print(\"a3 の値 : \", a3)\n",
    "print(\"a3 の型 : \", type(a3))\n",
    "print()\n"
   ]
  },
  {
   "cell_type": "code",
   "execution_count": null,
   "metadata": {},
   "outputs": [],
   "source": [
    "# 変換できない例\n",
    "# int -> str\n",
    "print(int(\"string\"))\n"
   ]
  },
  {
   "attachments": {},
   "cell_type": "markdown",
   "metadata": {},
   "source": [
    "### 2.3. 練習問題\n",
    "***やってみよう***   \n",
    "好きな値を入力し、その値と型を出力してみよう"
   ]
  },
  {
   "cell_type": "code",
   "execution_count": null,
   "metadata": {},
   "outputs": [],
   "source": [
    "ipt = input(\"好きな文字を入力してください : \")\n",
    "print(\"値 : \", ipt)\n",
    "print(\"型 : \", type(ipt))\n"
   ]
  },
  {
   "cell_type": "markdown",
   "metadata": {},
   "source": [
    "## 3. 条件式"
   ]
  },
  {
   "attachments": {},
   "cell_type": "markdown",
   "metadata": {},
   "source": [
    "### 3.1. 値の比較\n",
    "\n",
    "二つの値を比較するときに用いる演算子\n",
    "- 結果にはbool 型の値が用いられる\n",
    "\n",
    "<br>\n",
    "\n",
    "|比較演算子|意味|\n",
    "|-|-|\n",
    "|x == y|x と y が等しい|\n",
    "|x != y|x と y が等しくない|\n",
    "|x > y| x は y よりも大きい|\n",
    "|x < y| x は y よりも小さい|\n",
    "|x >= y|x は y 以上|\n",
    "|x <= y|x は y 以下|\n",
    "|x in y|x という要素 が y に存在する|\n",
    "|x not in y|x という要素 が y に存在しない|\n"
   ]
  },
  {
   "attachments": {},
   "cell_type": "markdown",
   "metadata": {},
   "source": [
    "### 3.2. 真偽値\n",
    "\n",
    "\n",
    "bool 型\n",
    "- `True` と `False` の2つしかない\n",
    "- `not` を付けると値が反転する\n",
    "    - True は False に\n",
    "    - False は True に\n",
    "- bool() を使って変換することもできる\n",
    "    - 変数に何かの値が入っている場合、基本的には True になる\n",
    "    - True にならない場合は 余談へ\n"
   ]
  },
  {
   "cell_type": "code",
   "execution_count": null,
   "metadata": {},
   "outputs": [],
   "source": [
    "# bool 型\n",
    "a = 10\n",
    "print(\"bool 型 : \", bool(a))\n"
   ]
  },
  {
   "cell_type": "code",
   "execution_count": null,
   "metadata": {},
   "outputs": [],
   "source": [
    "b = True\n",
    "print(\"b : \", b)\n",
    "print(\"not b : \", not b)\n"
   ]
  },
  {
   "attachments": {},
   "cell_type": "markdown",
   "metadata": {},
   "source": [
    "### 3.3. 練習問題\n",
    "確認してみよう\n"
   ]
  },
  {
   "cell_type": "code",
   "execution_count": null,
   "metadata": {},
   "outputs": [],
   "source": [
    "# やってみよう\n",
    "\n",
    "x1 = #\n",
    "y1 = #\n",
    "print(\"x1 == y1  : \", x1 == y1)\n",
    "print(\"x1 != y1  : \", x1 != y1)\n",
    "\n",
    "x2 = #\n",
    "y2 = #\n",
    "print(\"x2 < y2   : \", x2 < y2)\n",
    "print(\"x2 > y2   : \", x2 > y2)\n",
    "\n",
    "x3 = #\n",
    "y3 = #\n",
    "print(\"x3 != y3  : \", x3 != y3)\n"
   ]
  },
  {
   "attachments": {},
   "cell_type": "markdown",
   "metadata": {},
   "source": [
    "※ in/not in については余談へ"
   ]
  },
  {
   "cell_type": "markdown",
   "metadata": {},
   "source": [
    "## 4. 条件分岐"
   ]
  },
  {
   "attachments": {},
   "cell_type": "markdown",
   "metadata": {},
   "source": [
    "### 4.1. if文\n",
    "- 与えられた条件が、正しい(`True`)か 間違っている(`False`)かで処理を分けたいときに用いる\n",
    "- if : 「(もし)～ならば」\n",
    "- else : それ以外\n",
    "\n",
    "\n",
    "```python\n",
    "if 条件式:\n",
    "    条件式が真の時に実行する文1\n",
    "    条件式が真の時に実行する文2\n",
    "    条件式が真の時に実行する文3\n",
    "```\n"
   ]
  },
  {
   "cell_type": "code",
   "execution_count": null,
   "metadata": {},
   "outputs": [],
   "source": [
    "a = int(input())\n",
    "\n",
    "if a >= 0:\n",
    "    # 正しいときの処理\n",
    "    print(\"条件を満たしています\")\n",
    "    \n",
    "else:\n",
    "    # 間違っている時の処理\n",
    "    print(\"条件を満たしていません\")\n"
   ]
  },
  {
   "cell_type": "code",
   "execution_count": null,
   "metadata": {},
   "outputs": [],
   "source": [
    "if a >= 0:\n",
    "    # 全角空白の場合\n",
    "　　print(\"条件を満たしています\")\n",
    "\n"
   ]
  },
  {
   "cell_type": "markdown",
   "metadata": {},
   "source": [
    "### 4.2. 例題\n",
    "\n",
    "サイコロを一個投げる。この時、以下の条件に当てはまるプログラムを作成してください\n",
    "- 出た目が偶数の時、`これは偶数です`と出力する\n",
    "\n",
    "※ サイコロの目は1 ~ 6 であり、どの目が出る確率も同様に確からしいとする\n"
   ]
  },
  {
   "cell_type": "code",
   "execution_count": null,
   "metadata": {},
   "outputs": [],
   "source": [
    "import random\n",
    "\n",
    "# サイコロの目\n",
    "dice = random.randint(1, 6)\n",
    "\n",
    "#### ここより上は変更しないでください\n",
    "\n",
    "print(dice)\n",
    "\n",
    "if dice % 2 == 0:\n",
    "    print(\"これは偶数です\")\n"
   ]
  },
  {
   "attachments": {},
   "cell_type": "markdown",
   "metadata": {},
   "source": [
    "### 4.3. if文の適応範囲"
   ]
  },
  {
   "cell_type": "code",
   "execution_count": null,
   "metadata": {},
   "outputs": [],
   "source": [
    "a = 0\n",
    "\n",
    "if a >= 10:\n",
    "    print(\"aは10より大きいです\")\n",
    "\n",
    "print(\"この文は表示されるでしょうか？\")\n"
   ]
  },
  {
   "cell_type": "code",
   "execution_count": null,
   "metadata": {},
   "outputs": [],
   "source": [
    "a = int(input())\n",
    "\n",
    "if a >= 10:\n",
    "    print(\"これは正常です\")\n",
    "     print(\"これはエラーです\")\n",
    "     \n",
    "else:\n",
    "    print(\"これも正常です\")\n",
    "   print(\"これもエラーです\")\n"
   ]
  },
  {
   "cell_type": "markdown",
   "metadata": {},
   "source": [
    "### 4-4 練習問題\n",
    "\n",
    "サイコロを一個投げる。  \n",
    "この時、以下の条件に当てはまるプログラムを作成してください\n",
    "- 出た目が4以上のとき、`Large`と、3以下の時`Small`出力する\n"
   ]
  },
  {
   "cell_type": "code",
   "execution_count": null,
   "metadata": {},
   "outputs": [],
   "source": [
    "import random\n",
    "\n",
    "# サイコロの目\n",
    "dice = random.randint(1, 6)\n",
    "\n",
    "#### ここより上は変更しないでください\n",
    "\n",
    "# 回答欄\n",
    "print(\"サイコロの目 : \", dice)\n"
   ]
  },
  {
   "cell_type": "markdown",
   "metadata": {},
   "source": [
    "### 4.5. 3つ以上の分岐\n",
    "\n",
    "- elif は何個書いてもいい\n",
    "\n",
    "\n",
    "```python\n",
    "if 条件式1:\n",
    "    条件式1が真の時に実行する文\n",
    "    ...\n",
    "elif 条件式2:\n",
    "    条件式1が偽で条件式2が真の時に実行する文\n",
    "    ...\n",
    "elif 条件式3:\n",
    "    条件式1及び条件式2が偽で条件式3が真の時に実行する文\n",
    "    ...\n",
    "else:\n",
    "    すべての条件式が偽のときに実行する文\n",
    "    ...\n",
    "``` "
   ]
  },
  {
   "cell_type": "code",
   "execution_count": null,
   "metadata": {},
   "outputs": [],
   "source": [
    "# 3つ以上の条件の場合\n",
    "a = int(input())\n",
    "\n",
    "if a % 6 == 0:\n",
    "    print(\"2の倍数 かつ 3の倍数 である\")\n",
    "    \n",
    "elif a % 2 == 0:\n",
    "    print(\"2の倍数であるが、3の倍数ではない\")\n",
    "\n",
    "elif a % 3 == 0:\n",
    "    print(\"2の倍数でないが、3の倍数である\")\n",
    "\n",
    "else:\n",
    "    print(\"2の倍数でも3の倍数でもない\")\n"
   ]
  },
  {
   "attachments": {},
   "cell_type": "markdown",
   "metadata": {},
   "source": [
    "### 4.6. 練習問題\n",
    "整数 $m$, $n$を入力して，$m + 2n$ が$10$以上ならば <b>`Large`</b>，\n",
    "$10$より小さければ <b>`Small`</b> を出力するプログラムを作成しなさい．\n",
    "<br>\n",
    "<br>\n",
    "\n",
    "|入力$m$|入力$n$|出力|\n",
    "|-|-|-|\n",
    "|2|4|Large|\n",
    "|9|-10|Small|"
   ]
  },
  {
   "cell_type": "code",
   "execution_count": null,
   "metadata": {},
   "outputs": [],
   "source": [
    "# 回答欄\n"
   ]
  },
  {
   "attachments": {},
   "cell_type": "markdown",
   "metadata": {},
   "source": [
    "### 4.7. 複数の条件"
   ]
  },
  {
   "attachments": {},
   "cell_type": "markdown",
   "metadata": {},
   "source": [
    "1. `and`, `or` を用いる\n",
    "    - `A and B` : A も B も正しいとき `True` となる\n",
    "    - `A or B`  : A または B のどちらかが正しいとき `True` となる\n",
    "    - `and` と `or` では `and` が優先される\n",
    "\n",
    "```python\n",
    "if 条件式1 and 条件式2:\n",
    "    (条件式1、条件式2がともにTrueの時に実行する処理)\n",
    "\n",
    "if 条件式1 or 条件式2:\n",
    "    (条件式1、条件式2のいずれかがTrueの時に実行する処理)\n",
    "\n",
    "```"
   ]
  },
  {
   "cell_type": "code",
   "execution_count": null,
   "metadata": {},
   "outputs": [],
   "source": [
    "class_ = 1\n",
    "gender = \"男\"\n",
    "\n",
    "if class_ == 1 and gender == \"男\":\n",
    "    print(\"所属クラス : 1組, 性別 : 男\")\n",
    "\n",
    "elif class_ == 1 and gender == \"女\":\n",
    "    print(\"所属クラス : 1組, 性別 : 女\")\n",
    "\n",
    "elif class_ == 1 and gender == \"その他\":\n",
    "    print(\"所属クラス : 1組, 性別 : その他\")\n",
    "\n",
    "elif class_ == 2 and gender == \"男\":\n",
    "    print(\"所属クラス : 2組, 性別 : 男\")\n",
    "\n",
    "elif class_ == 2 and gender == \"女\":\n",
    "    print(\"所属クラス : 2組, 性別 : 女\")\n",
    "\n",
    "elif class_ == 2 and gender == \"その他\":\n",
    "    print(\"所属クラス : 2組, 性別 : その他\")\n",
    "\n",
    "else:\n",
    "    print(\"条件に当てはまりません\")\n"
   ]
  },
  {
   "cell_type": "code",
   "execution_count": null,
   "metadata": {},
   "outputs": [],
   "source": [
    "a = 6\n",
    "\n",
    "if a % 2 == 0 and a % 3 == 0:\n",
    "    print(\"2の倍数 かつ 3の倍数 である\")\n",
    "    \n",
    "elif a % 2 == 0:\n",
    "    print(\"2の倍数であるが、3の倍数ではない\")\n",
    "\n",
    "elif a % 3 == 0:\n",
    "    print(\"2の倍数でないが、3の倍数である\")\n",
    "\n",
    "else:\n",
    "    print(\"2の倍数でも3の倍数でもない\")\n",
    "    "
   ]
  },
  {
   "attachments": {},
   "cell_type": "markdown",
   "metadata": {},
   "source": [
    "2. 入れ子構造  \n",
    "    - if文の処理の中にif文を書く処理方法\n",
    "\n",
    "```python\n",
    "if 条件式1:\n",
    "    条件式1が真の時に実行する文\n",
    "    ...\n",
    "else:\n",
    "    if 条件式2:\n",
    "        条件式1が偽で条件式2が真の時に実行する文\n",
    "        ...\n",
    "    else:\n",
    "        if 条件式3:\n",
    "            条件式1及び条件式2が偽で条件式3が真の時に実行する文\n",
    "            ...\n",
    "        else:\n",
    "            すべての条件式が偽のときに実行する文\n",
    "            ...\n",
    "```"
   ]
  },
  {
   "cell_type": "code",
   "execution_count": null,
   "metadata": {},
   "outputs": [],
   "source": [
    "a = 6\n",
    "\n",
    "if a % 2 == 0:\n",
    "    if a % 3 == 0:\n",
    "        print(\"2の倍数 かつ 3の倍数 である\")\n",
    "    else:\n",
    "        print(\"2の倍数であるが、3の倍数ではない\")\n",
    "else:\n",
    "    if a % 3 == 0:\n",
    "        print(\"2の倍数でないが、3の倍数である\")\n",
    "    else:\n",
    "        print(\"2の倍数でも3の倍数でもない\")\n"
   ]
  },
  {
   "cell_type": "code",
   "execution_count": null,
   "metadata": {},
   "outputs": [],
   "source": [
    "class_ = 1\n",
    "gender = \"男\"\n",
    "\n",
    "if class_ == 1:\n",
    "    if gender == \"男\":\n",
    "        print(\"所属クラス : 1組, 性別 : 男\")\n",
    "    elif gender == \"女\":\n",
    "        print(\"所属クラス : 1組, 性別 : 女\")\n",
    "    elif gender == \"その他\":\n",
    "        print(\"所属クラス : 1組, 性別 : その他\")\n",
    "\n",
    "elif class_ == 2:\n",
    "    if gender == \"男\":\n",
    "        print(\"所属クラス : 2組, 性別 : 男\")\n",
    "    elif gender == \"女\":\n",
    "        print(\"所属クラス : 2組, 性別 : 女\")\n",
    "    elif gender == \"その他\":\n",
    "        print(\"所属クラス : 2組, 性別 : その他\")\n",
    "\n",
    "else:\n",
    "    print(\"条件に当てはまりません\")\n"
   ]
  },
  {
   "attachments": {},
   "cell_type": "markdown",
   "metadata": {},
   "source": [
    "### 4.8. 例題\n",
    "1 から 9 までの整数 $ n $ を入力して，$ n $ の値に応じて以下のようにメッセージを出力\n",
    "- $ n $ が奇数のとき， $ n $ が 7 と等しくなければ `Odd prime`，7 と等しければ `Odd`と出力\n",
    "- $ n $ が偶数のとき， $ n $ が 4 と等しければ `Even prime`，4 と等しくなければ `Even` と出力\n"
   ]
  },
  {
   "cell_type": "code",
   "execution_count": null,
   "metadata": {},
   "outputs": [],
   "source": [
    "# 回答欄\n",
    "n = int(input())\n",
    "\n",
    "### ここから\n",
    "\n",
    "\n",
    "### ここまで\n"
   ]
  },
  {
   "attachments": {},
   "cell_type": "markdown",
   "metadata": {},
   "source": [
    "### 4.9. 練習問題\n",
    "正の整数$n$を入力して、西暦$n$年がうるう年（leap year）ならば`Yes`、そうでないならば`No`を出力するプログラムを作成してください  \n",
    "なお、西暦$n$年がうるう年かどうかは以下のルールによって決まります。\n",
    "1.  $n$が4の倍数のときは（下の例外を除き）うるう年である\n",
    "2.  ただし、100の倍数のときは（下の例外を除き）うるう年でない\n",
    "3.  ただし、400の倍数のときはうるう年である\n",
    "\n",
    "\n",
    "|  入力  |  出力  |\n",
    "| ---- | ---- |\n",
    "|  1   |  No  |\n",
    "|  4   |  Yes | \n",
    "| 1900 |  No  |\n",
    "| 2000 |  Yes |"
   ]
  },
  {
   "cell_type": "code",
   "execution_count": null,
   "metadata": {},
   "outputs": [],
   "source": [
    "# 回答欄\n",
    "\n"
   ]
  },
  {
   "attachments": {},
   "cell_type": "markdown",
   "metadata": {},
   "source": [
    "ダブルクリックしてヒント1を表示\n",
    "<!--\n",
    "- まずはノートで、どのような条件のときにうるう年かを整理するとよい。\n",
    "- どの条件を先に判定するかをよく考える。 \n",
    "-->"
   ]
  },
  {
   "attachments": {},
   "cell_type": "markdown",
   "metadata": {},
   "source": [
    "ダブルクリックしてヒント2を表示\n",
    "<!--\n",
    "- *** の部分に一つの条件が入ります\n",
    "\n",
    "n = int(input())\n",
    "\n",
    "# elif のみを使う場合\n",
    "if ***:\n",
    "    print(\"\")\n",
    "elif ***:\n",
    "    print(\"\")\n",
    "elif ***:\n",
    "    print(\"\")\n",
    "else:\n",
    "    print(\"\")\n",
    "\n",
    "# and を使う場合\n",
    "if *** and ***:\n",
    "    print(\"\")\n",
    "elif ***:\n",
    "    print(\"\")\n",
    "else:\n",
    "    print(\"\")\n",
    "\n",
    "# and, or を使う場合\n",
    "if *** or (*** and ***):\n",
    "    print(\"Yes\")\n",
    "else:\n",
    "    print(\"No\")\n",
    "\n",
    "\n",
    "# 入れ子を使う場合\n",
    "if ***:\n",
    "    if ***:\n",
    "        if ***:\n",
    "            print(\"\")\n",
    "        else:\n",
    "            print(\"\")\n",
    "    else:\n",
    "        print(\"\")\n",
    "else:\n",
    "    print(\"\")\n",
    "\n",
    "-->"
   ]
  },
  {
   "cell_type": "markdown",
   "metadata": {},
   "source": []
  },
  {
   "attachments": {},
   "cell_type": "markdown",
   "metadata": {},
   "source": [
    "### 答え"
   ]
  },
  {
   "cell_type": "code",
   "execution_count": null,
   "metadata": {},
   "outputs": [],
   "source": [
    "# 1.2.\n",
    "name = input()\n",
    "print(name)\n",
    "\n",
    "\n",
    "# 4.6.\n",
    "m = int(input())\n",
    "n = int(input())\n",
    "\n",
    "if m + 2 * n > 10:\n",
    "    print(\"Large\")\n",
    "else:\n",
    "    print(\"Small\")\n",
    "\n",
    "\n",
    "# 4.7.\n",
    "n = int(input())\n",
    "\n",
    "if n % 2 == 0:\n",
    "    if n == 4:\n",
    "        print(\"Even prime\")\n",
    "    else:\n",
    "        print(\"Even\")\n",
    "else:\n",
    "    if n == 7:\n",
    "        print(\"Odd price\")\n",
    "    else:\n",
    "        print(\"Odd\")\n",
    "\n",
    "\n",
    "# 4.9.\n",
    "n = int(input())\n",
    "\n",
    "# elif のみを使う場合\n",
    "if n % 400 == 0:\n",
    "    print(\"Yes\")\n",
    "elif n % 100 == 0:\n",
    "    print(\"No\")\n",
    "elif n % 4 == 0:\n",
    "    print(\"Yes\")\n",
    "else:\n",
    "    print(\"No\")\n",
    "\n",
    "# and を使う場合\n",
    "if n % 100 == 0 and n % 400 != 0:\n",
    "    print(\"No\")\n",
    "elif n % 4 == 0:\n",
    "    print(\"Yes\")\n",
    "else:\n",
    "    print(\"No\")\n",
    "\n",
    "# and, or を使う場合\n",
    "if (n % 400 == 0) or ((n % 100 != 0) and (n % 4 == 0)):\n",
    "    print(\"Yes\")\n",
    "else:\n",
    "    print(\"No\")\n",
    "\n",
    "# 入れ子を使う場合\n",
    "if n % 4 == 0:\n",
    "    if n % 100 == 0:\n",
    "        if n % 400 == 0:\n",
    "            print(\"Yes\")\n",
    "        else:\n",
    "            print(\"No1\")\n",
    "    else:\n",
    "        print(\"Yes\")\n",
    "else:\n",
    "    print(\"No2\")\n"
   ]
  },
  {
   "attachments": {},
   "cell_type": "markdown",
   "metadata": {},
   "source": [
    "## 5. 余談\n"
   ]
  },
  {
   "attachments": {},
   "cell_type": "markdown",
   "metadata": {},
   "source": [
    "### 5.1. 気を付ける判定例\n",
    "\n",
    "1.  int と float\n",
    "1.  int と str\n",
    "1.  大文字と小文字"
   ]
  },
  {
   "cell_type": "code",
   "execution_count": null,
   "metadata": {},
   "outputs": [],
   "source": [
    "# int と float\n",
    "print(\"10 == 10.0 : \", 10 == 10.0)\n",
    "\n",
    "# int と str\n",
    "print(\"'57' == 57 : \", \"57\" == 57)\n",
    "\n",
    "# 大文字と小文字\n",
    "print(\"'HELLO' == 'hello' : \", \"HELLO\" == \"hello\")"
   ]
  },
  {
   "attachments": {},
   "cell_type": "markdown",
   "metadata": {},
   "source": [
    "### 5.2. bool() が False になる例\n",
    "\n",
    "1. `None`\n",
    "2. 数値型における `0`\n",
    "3. 空文字列\n"
   ]
  },
  {
   "cell_type": "code",
   "execution_count": null,
   "metadata": {},
   "outputs": [],
   "source": [
    "# 確認してみる\n",
    "print(\"None     : \", bool(None))\n",
    "\n",
    "print(\"0, 0.0   : \", bool(0))\n",
    "\n",
    "print(\"空文字列 : \", bool(\"\"))\n"
   ]
  },
  {
   "cell_type": "code",
   "execution_count": null,
   "metadata": {},
   "outputs": [],
   "source": [
    "# bool -> str\n",
    "print(str(True))\n",
    "print(str(False))\n",
    "\n",
    "# bool -> int\n",
    "print(int(True))\n",
    "print(int(False))\n"
   ]
  },
  {
   "cell_type": "markdown",
   "metadata": {},
   "source": [
    "### 5.3. **in / not in について**\n",
    "\n",
    "- 文字列の中に特定の文字列が含まれているか判定・確認する手法\n",
    "- 含まれていると`True`、含まれていないと`False`\n",
    "- 大文字・小文字は区別される\n"
   ]
  },
  {
   "cell_type": "code",
   "execution_count": null,
   "metadata": {},
   "outputs": [],
   "source": [
    "# a = input()\n",
    "a = \"\"\n",
    "\n",
    "if \"\" in a:\n",
    "    print()\n",
    "elif \"\" in a:\n",
    "    print()\n",
    "else:\n",
    "    print()\n"
   ]
  },
  {
   "attachments": {},
   "cell_type": "markdown",
   "metadata": {},
   "source": [
    "### 5.4. and と or\n",
    "\n",
    "|式|結果|\n",
    "|-|-|\n",
    "|True and True|True|\n",
    "|True and False|False|\n",
    "|False and True|False|\n",
    "|False and False|False|\n",
    "|True or True|True|\n",
    "|True or False|True|\n",
    "|False or True|True|\n",
    "|False or False|False|\n",
    "|not True|False|\n",
    "|not False|True|\n"
   ]
  },
  {
   "cell_type": "code",
   "execution_count": null,
   "metadata": {},
   "outputs": [],
   "source": [
    "print(False and False or True)\n",
    "print(False and (False or True))\n"
   ]
  },
  {
   "attachments": {},
   "cell_type": "markdown",
   "metadata": {},
   "source": [
    "$fin$"
   ]
  }
 ],
 "metadata": {
  "kernelspec": {
   "display_name": "py_analyze",
   "language": "python",
   "name": "python3"
  },
  "language_info": {
   "codemirror_mode": {
    "name": "ipython",
    "version": 3
   },
   "file_extension": ".py",
   "mimetype": "text/x-python",
   "name": "python",
   "nbconvert_exporter": "python",
   "pygments_lexer": "ipython3",
   "version": "3.10.7"
  },
  "orig_nbformat": 4
 },
 "nbformat": 4,
 "nbformat_minor": 2
}
