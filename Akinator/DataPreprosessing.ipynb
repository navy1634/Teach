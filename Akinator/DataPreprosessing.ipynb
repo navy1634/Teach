{
 "cells": [
  {
   "cell_type": "markdown",
   "metadata": {},
   "source": [
    "### データの加工\n",
    "アンケート回答のデータの加工をする"
   ]
  },
  {
   "cell_type": "code",
   "execution_count": 2,
   "metadata": {},
   "outputs": [],
   "source": [
    "import pandas as pd"
   ]
  },
  {
   "cell_type": "code",
   "execution_count": 2,
   "metadata": {},
   "outputs": [],
   "source": [
    "df_org = pd.read_excel(\"./data/Python班（回答）.xlsx\")\n",
    "columns_bef = df_org.columns\n",
    "columns_aft = [\n",
    "    \"timestamp\", \"mail\", \"name\", \"grade\", \"class\", \"attendance_num\", \"sex\", \"club\", \"subject\", \"door\", \"bus\", \"fishmeet\",\n",
    "    \"blood\", \"kinotake\",\"ricebread\", \"season\", \"birthday\", \"living\", \"income\", \"committee\",\n",
    "    \"3tennkai\", \"heyfever\", \"grasses\", \"science\", \"apple\", \"learning\", \"asmr\", \"food\", \"score\"\n",
    "]\n"
   ]
  },
  {
   "cell_type": "code",
   "execution_count": 11,
   "metadata": {},
   "outputs": [],
   "source": [
    "df = df_org.copy()\n",
    "df.columns = columns_aft\n",
    "df = df[columns_aft[2:-1]]\n",
    "df.loc[:, \"name\"] = df.loc[:, \"name\"].str.replace(\"　\", \"\").replace(\" \", \"\")\n",
    "df[\"attendance_num\"] = df[\"attendance_num\"].astype(int)"
   ]
  },
  {
   "cell_type": "code",
   "execution_count": null,
   "metadata": {},
   "outputs": [],
   "source": [
    "df.to_csv(\"./data/answers.csv\", encoding=\"utf-8\", index=False)"
   ]
  },
  {
   "cell_type": "code",
   "execution_count": null,
   "metadata": {},
   "outputs": [],
   "source": []
  }
 ],
 "metadata": {
  "kernelspec": {
   "display_name": "venv",
   "language": "python",
   "name": "python3"
  },
  "language_info": {
   "codemirror_mode": {
    "name": "ipython",
    "version": 3
   },
   "file_extension": ".py",
   "mimetype": "text/x-python",
   "name": "python",
   "nbconvert_exporter": "python",
   "pygments_lexer": "ipython3",
   "version": "3.10.7"
  }
 },
 "nbformat": 4,
 "nbformat_minor": 2
}
